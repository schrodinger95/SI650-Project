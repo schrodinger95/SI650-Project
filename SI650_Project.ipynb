{
  "nbformat": 4,
  "nbformat_minor": 0,
  "metadata": {
    "colab": {
      "name": "SI650 Project.ipynb",
      "provenance": [],
      "authorship_tag": "ABX9TyNovboqdOyPxE3ScwYogikQ",
      "include_colab_link": true
    },
    "kernelspec": {
      "name": "python3",
      "display_name": "Python 3"
    },
    "language_info": {
      "name": "python"
    }
  },
  "cells": [
    {
      "cell_type": "markdown",
      "metadata": {
        "id": "view-in-github",
        "colab_type": "text"
      },
      "source": [
        "<a href=\"https://colab.research.google.com/github/schrodinger95/SI650-Project/blob/main/SI650_Project.ipynb\" target=\"_parent\"><img src=\"https://colab.research.google.com/assets/colab-badge.svg\" alt=\"Open In Colab\"/></a>"
      ]
    },
    {
      "cell_type": "code",
      "metadata": {
        "id": "5pT30pRVhYLp",
        "colab": {
          "base_uri": "https://localhost:8080/"
        },
        "outputId": "cf1d83d5-307a-4618-bda3-c4ad0685e58a"
      },
      "source": [
        "!pip install --upgrade fastrank lightgbm==3.1.1\n",
        "!pip install python-terrier"
      ],
      "execution_count": null,
      "outputs": [
        {
          "output_type": "stream",
          "name": "stdout",
          "text": [
            "Requirement already satisfied: fastrank in /usr/local/lib/python3.7/dist-packages (0.7.0)\n",
            "Requirement already satisfied: lightgbm==3.1.1 in /usr/local/lib/python3.7/dist-packages (3.1.1)\n",
            "Requirement already satisfied: numpy in /usr/local/lib/python3.7/dist-packages (from lightgbm==3.1.1) (1.19.5)\n",
            "Requirement already satisfied: scikit-learn!=0.22.0 in /usr/local/lib/python3.7/dist-packages (from lightgbm==3.1.1) (1.0.1)\n",
            "Requirement already satisfied: wheel in /usr/local/lib/python3.7/dist-packages (from lightgbm==3.1.1) (0.37.0)\n",
            "Requirement already satisfied: scipy in /usr/local/lib/python3.7/dist-packages (from lightgbm==3.1.1) (1.4.1)\n",
            "Requirement already satisfied: joblib>=0.11 in /usr/local/lib/python3.7/dist-packages (from scikit-learn!=0.22.0->lightgbm==3.1.1) (1.1.0)\n",
            "Requirement already satisfied: threadpoolctl>=2.0.0 in /usr/local/lib/python3.7/dist-packages (from scikit-learn!=0.22.0->lightgbm==3.1.1) (3.0.0)\n",
            "Requirement already satisfied: cffi in /usr/local/lib/python3.7/dist-packages (from fastrank) (1.15.0)\n",
            "Requirement already satisfied: attrs in /usr/local/lib/python3.7/dist-packages (from fastrank) (21.2.0)\n",
            "Requirement already satisfied: pycparser in /usr/local/lib/python3.7/dist-packages (from cffi->fastrank) (2.21)\n",
            "Requirement already satisfied: python-terrier in /usr/local/lib/python3.7/dist-packages (0.7.1)\n",
            "Requirement already satisfied: deprecation in /usr/local/lib/python3.7/dist-packages (from python-terrier) (2.1.0)\n",
            "Requirement already satisfied: matchpy in /usr/local/lib/python3.7/dist-packages (from python-terrier) (0.5.5)\n",
            "Requirement already satisfied: joblib in /usr/local/lib/python3.7/dist-packages (from python-terrier) (1.1.0)\n",
            "Requirement already satisfied: scipy in /usr/local/lib/python3.7/dist-packages (from python-terrier) (1.4.1)\n",
            "Requirement already satisfied: wget in /usr/local/lib/python3.7/dist-packages (from python-terrier) (3.2)\n",
            "Requirement already satisfied: more-itertools in /usr/local/lib/python3.7/dist-packages (from python-terrier) (8.12.0)\n",
            "Requirement already satisfied: chest in /usr/local/lib/python3.7/dist-packages (from python-terrier) (0.2.3)\n",
            "Requirement already satisfied: pyjnius~=1.3.0 in /usr/local/lib/python3.7/dist-packages (from python-terrier) (1.3.0)\n",
            "Requirement already satisfied: pandas in /usr/local/lib/python3.7/dist-packages (from python-terrier) (1.1.5)\n",
            "Requirement already satisfied: dill in /usr/local/lib/python3.7/dist-packages (from python-terrier) (0.3.4)\n",
            "Requirement already satisfied: statsmodels in /usr/local/lib/python3.7/dist-packages (from python-terrier) (0.10.2)\n",
            "Requirement already satisfied: requests in /usr/local/lib/python3.7/dist-packages (from python-terrier) (2.23.0)\n",
            "Requirement already satisfied: sklearn in /usr/local/lib/python3.7/dist-packages (from python-terrier) (0.0)\n",
            "Requirement already satisfied: ir-datasets>=0.3.2 in /usr/local/lib/python3.7/dist-packages (from python-terrier) (0.5.0)\n",
            "Requirement already satisfied: tqdm in /usr/local/lib/python3.7/dist-packages (from python-terrier) (4.62.3)\n",
            "Requirement already satisfied: nptyping in /usr/local/lib/python3.7/dist-packages (from python-terrier) (1.4.4)\n",
            "Requirement already satisfied: jinja2 in /usr/local/lib/python3.7/dist-packages (from python-terrier) (2.11.3)\n",
            "Requirement already satisfied: numpy in /usr/local/lib/python3.7/dist-packages (from python-terrier) (1.19.5)\n",
            "Requirement already satisfied: ir-measures>=0.2.0 in /usr/local/lib/python3.7/dist-packages (from python-terrier) (0.2.3)\n",
            "Requirement already satisfied: beautifulsoup4>=4.4.1 in /usr/local/lib/python3.7/dist-packages (from ir-datasets>=0.3.2->python-terrier) (4.6.3)\n",
            "Requirement already satisfied: warc3-wet-clueweb09>=0.2.5 in /usr/local/lib/python3.7/dist-packages (from ir-datasets>=0.3.2->python-terrier) (0.2.5)\n",
            "Requirement already satisfied: trec-car-tools>=2.5.4 in /usr/local/lib/python3.7/dist-packages (from ir-datasets>=0.3.2->python-terrier) (2.5.4)\n",
            "Requirement already satisfied: zlib-state>=0.1.3 in /usr/local/lib/python3.7/dist-packages (from ir-datasets>=0.3.2->python-terrier) (0.1.5)\n",
            "Requirement already satisfied: pyautocorpus>=0.1.1 in /usr/local/lib/python3.7/dist-packages (from ir-datasets>=0.3.2->python-terrier) (0.1.8)\n",
            "Requirement already satisfied: pyyaml>=5.3.1 in /usr/local/lib/python3.7/dist-packages (from ir-datasets>=0.3.2->python-terrier) (6.0)\n",
            "Requirement already satisfied: lxml>=4.5.2 in /usr/local/lib/python3.7/dist-packages (from ir-datasets>=0.3.2->python-terrier) (4.6.4)\n",
            "Requirement already satisfied: ijson>=3.1.3 in /usr/local/lib/python3.7/dist-packages (from ir-datasets>=0.3.2->python-terrier) (3.1.4)\n",
            "Requirement already satisfied: lz4>=3.1.1 in /usr/local/lib/python3.7/dist-packages (from ir-datasets>=0.3.2->python-terrier) (3.1.10)\n",
            "Requirement already satisfied: warc3-wet>=0.2.3 in /usr/local/lib/python3.7/dist-packages (from ir-datasets>=0.3.2->python-terrier) (0.2.3)\n",
            "Requirement already satisfied: pyndeval>=0.0.2 in /usr/local/lib/python3.7/dist-packages (from ir-measures>=0.2.0->python-terrier) (0.0.2)\n",
            "Requirement already satisfied: cwl-eval>=1.0.10 in /usr/local/lib/python3.7/dist-packages (from ir-measures>=0.2.0->python-terrier) (1.0.10)\n",
            "Requirement already satisfied: pytrec-eval-terrier==0.5.1 in /usr/local/lib/python3.7/dist-packages (from ir-measures>=0.2.0->python-terrier) (0.5.1)\n",
            "Requirement already satisfied: cython in /usr/local/lib/python3.7/dist-packages (from pyjnius~=1.3.0->python-terrier) (0.29.24)\n",
            "Requirement already satisfied: six>=1.7.0 in /usr/local/lib/python3.7/dist-packages (from pyjnius~=1.3.0->python-terrier) (1.15.0)\n",
            "Requirement already satisfied: certifi>=2017.4.17 in /usr/local/lib/python3.7/dist-packages (from requests->python-terrier) (2021.10.8)\n",
            "Requirement already satisfied: chardet<4,>=3.0.2 in /usr/local/lib/python3.7/dist-packages (from requests->python-terrier) (3.0.4)\n",
            "Requirement already satisfied: idna<3,>=2.5 in /usr/local/lib/python3.7/dist-packages (from requests->python-terrier) (2.10)\n",
            "Requirement already satisfied: urllib3!=1.25.0,!=1.25.1,<1.26,>=1.21.1 in /usr/local/lib/python3.7/dist-packages (from requests->python-terrier) (1.24.3)\n",
            "Requirement already satisfied: cbor>=1.0.0 in /usr/local/lib/python3.7/dist-packages (from trec-car-tools>=2.5.4->ir-datasets>=0.3.2->python-terrier) (1.0.0)\n",
            "Requirement already satisfied: heapdict in /usr/local/lib/python3.7/dist-packages (from chest->python-terrier) (1.0.1)\n",
            "Requirement already satisfied: packaging in /usr/local/lib/python3.7/dist-packages (from deprecation->python-terrier) (21.3)\n",
            "Requirement already satisfied: MarkupSafe>=0.23 in /usr/local/lib/python3.7/dist-packages (from jinja2->python-terrier) (2.0.1)\n",
            "Requirement already satisfied: multiset<3.0,>=2.0 in /usr/local/lib/python3.7/dist-packages (from matchpy->python-terrier) (2.1.1)\n",
            "Requirement already satisfied: typish>=1.7.0 in /usr/local/lib/python3.7/dist-packages (from nptyping->python-terrier) (1.9.3)\n",
            "Requirement already satisfied: pyparsing!=3.0.5,>=2.0.2 in /usr/local/lib/python3.7/dist-packages (from packaging->deprecation->python-terrier) (3.0.6)\n",
            "Requirement already satisfied: pytz>=2017.2 in /usr/local/lib/python3.7/dist-packages (from pandas->python-terrier) (2018.9)\n",
            "Requirement already satisfied: python-dateutil>=2.7.3 in /usr/local/lib/python3.7/dist-packages (from pandas->python-terrier) (2.8.2)\n",
            "Requirement already satisfied: scikit-learn in /usr/local/lib/python3.7/dist-packages (from sklearn->python-terrier) (1.0.1)\n",
            "Requirement already satisfied: threadpoolctl>=2.0.0 in /usr/local/lib/python3.7/dist-packages (from scikit-learn->sklearn->python-terrier) (3.0.0)\n",
            "Requirement already satisfied: patsy>=0.4.0 in /usr/local/lib/python3.7/dist-packages (from statsmodels->python-terrier) (0.5.2)\n"
          ]
        }
      ]
    },
    {
      "cell_type": "code",
      "metadata": {
        "id": "X6qix9ERhctj"
      },
      "source": [
        "import pyterrier as pt\n",
        "import pandas as pd\n",
        "import os"
      ],
      "execution_count": null,
      "outputs": []
    },
    {
      "cell_type": "code",
      "metadata": {
        "id": "ch0TmjGdhdop"
      },
      "source": [
        "if not pt.started():\n",
        "    pt.init()"
      ],
      "execution_count": null,
      "outputs": []
    },
    {
      "cell_type": "code",
      "metadata": {
        "colab": {
          "base_uri": "https://localhost:8080/",
          "height": 556
        },
        "id": "rPEK6Jx05JEU",
        "outputId": "e4b4d925-5e59-4388-8305-b352d79ecedc"
      },
      "source": [
        "df = pd.read_csv('final_documents.csv') \n",
        "df['docno'] = df.docno.astype(str)\n",
        "df['rating'] = df.rating.astype(str)\n",
        "df['review_text_1'] = df.review_text_1.astype(str)\n",
        "df['review_time_1'] = df.review_time_1.astype(str)\n",
        "df['review_text_2'] = df.review_text_2.astype(str)\n",
        "df['review_time_2'] = df.review_time_2.astype(str)\n",
        "df['review_text_3'] = df.review_text_3.astype(str)\n",
        "df['review_time_3'] = df.review_time_3.astype(str)\n",
        "df['review_text_4'] = df.review_text_4.astype(str)\n",
        "df['review_time_4'] = df.review_time_4.astype(str)\n",
        "df['review_text_5'] = df.review_text_5.astype(str)\n",
        "df['review_time_5'] = df.review_time_5.astype(str)\n",
        "df.head()"
      ],
      "execution_count": null,
      "outputs": [
        {
          "output_type": "execute_result",
          "data": {
            "text/html": [
              "<div>\n",
              "<style scoped>\n",
              "    .dataframe tbody tr th:only-of-type {\n",
              "        vertical-align: middle;\n",
              "    }\n",
              "\n",
              "    .dataframe tbody tr th {\n",
              "        vertical-align: top;\n",
              "    }\n",
              "\n",
              "    .dataframe thead th {\n",
              "        text-align: right;\n",
              "    }\n",
              "</style>\n",
              "<table border=\"1\" class=\"dataframe\">\n",
              "  <thead>\n",
              "    <tr style=\"text-align: right;\">\n",
              "      <th></th>\n",
              "      <th>docno</th>\n",
              "      <th>place_id</th>\n",
              "      <th>name</th>\n",
              "      <th>map_name</th>\n",
              "      <th>state</th>\n",
              "      <th>lat</th>\n",
              "      <th>lng</th>\n",
              "      <th>title</th>\n",
              "      <th>description</th>\n",
              "      <th>rating</th>\n",
              "      <th>review_text_1</th>\n",
              "      <th>review_time_1</th>\n",
              "      <th>review_text_2</th>\n",
              "      <th>review_time_2</th>\n",
              "      <th>review_text_3</th>\n",
              "      <th>review_time_3</th>\n",
              "      <th>review_text_4</th>\n",
              "      <th>review_time_4</th>\n",
              "      <th>review_text_5</th>\n",
              "      <th>review_time_5</th>\n",
              "    </tr>\n",
              "  </thead>\n",
              "  <tbody>\n",
              "    <tr>\n",
              "      <th>0</th>\n",
              "      <td>1</td>\n",
              "      <td>ChIJ_VVXImAMyFYRnus7r5Dykqs</td>\n",
              "      <td>26 Glacier Cruise</td>\n",
              "      <td>26 Glacier Cruise</td>\n",
              "      <td>Alaska</td>\n",
              "      <td>60.777823</td>\n",
              "      <td>-148.697484</td>\n",
              "      <td>26 Glacier Cruise - Whittier, Alaska - Alaska ...</td>\n",
              "      <td>26 Glacier Cruise takes passengers around the ...</td>\n",
              "      <td>4.8</td>\n",
              "      <td>Fantastic experience! The pictures attached to...</td>\n",
              "      <td>1636781828.0</td>\n",
              "      <td>The cruise so worth and highly recommend if an...</td>\n",
              "      <td>1630602901.0</td>\n",
              "      <td>Booked the 26 Glaciers but changed to the shor...</td>\n",
              "      <td>1629765328.0</td>\n",
              "      <td>One of our best tour experiences during our vi...</td>\n",
              "      <td>1626901581.0</td>\n",
              "      <td>OMG! My family and I had an amazing Time on th...</td>\n",
              "      <td>1626768663.0</td>\n",
              "    </tr>\n",
              "    <tr>\n",
              "      <th>1</th>\n",
              "      <td>2</td>\n",
              "      <td>ChIJH0jnvSmWyFYRXV2yOkGp6Ac</td>\n",
              "      <td>5th Avenue Mall</td>\n",
              "      <td>Anchorage 5th Avenue Mall</td>\n",
              "      <td>Alaska</td>\n",
              "      <td>61.216889</td>\n",
              "      <td>-149.888942</td>\n",
              "      <td>5th Avenue Mall - Anchorage, Alaska - Shopping...</td>\n",
              "      <td>5th Avenue Mall is located at West 5th Avenue ...</td>\n",
              "      <td>4.2</td>\n",
              "      <td>While there are many vacancies currently, this...</td>\n",
              "      <td>1636418825.0</td>\n",
              "      <td>Pretty good... I haven't been here for years. ...</td>\n",
              "      <td>1637807843.0</td>\n",
              "      <td>Visited my favorite shoe store (The Alaska Wal...</td>\n",
              "      <td>1619913101.0</td>\n",
              "      <td>Location is prime. This place has the best loc...</td>\n",
              "      <td>1626155621.0</td>\n",
              "      <td>I truly value my bi-weekly visits here! The su...</td>\n",
              "      <td>1636152161.0</td>\n",
              "    </tr>\n",
              "    <tr>\n",
              "      <th>2</th>\n",
              "      <td>3</td>\n",
              "      <td>ChIJyYLv3YLfAFQRwdhiwYC5zcQ</td>\n",
              "      <td>A Gallery in Juneau</td>\n",
              "      <td>Juneau Artists Gallery Ltd</td>\n",
              "      <td>Alaska</td>\n",
              "      <td>58.300215</td>\n",
              "      <td>-134.404656</td>\n",
              "      <td>A Gallery in Juneau</td>\n",
              "      <td>Like many cities in Alaska, Juneau has numerou...</td>\n",
              "      <td>4.5</td>\n",
              "      <td>Great assortment of local artist works, with a...</td>\n",
              "      <td>1638149268.0</td>\n",
              "      <td>Great place for local artists.</td>\n",
              "      <td>1636178619.0</td>\n",
              "      <td>Great local artwork and jewelry.  Stop in and ...</td>\n",
              "      <td>1554835391.0</td>\n",
              "      <td>This store sells locally crafted items such as...</td>\n",
              "      <td>1518289597.0</td>\n",
              "      <td>Visited while on vacation fun place</td>\n",
              "      <td>1506443215.0</td>\n",
              "    </tr>\n",
              "    <tr>\n",
              "      <th>3</th>\n",
              "      <td>4</td>\n",
              "      <td>ChIJjUPnbCmWyFYRr_lSUBrKRVc</td>\n",
              "      <td>A Part of the Anchorage Museum</td>\n",
              "      <td>Anchorage Museum</td>\n",
              "      <td>Alaska</td>\n",
              "      <td>61.216228</td>\n",
              "      <td>-149.885579</td>\n",
              "      <td>A Part of the Anchorage Museum</td>\n",
              "      <td>The Rasmussen Center is the portion of the Anc...</td>\n",
              "      <td>4.5</td>\n",
              "      <td>Shockingly wonderful! We had a great experienc...</td>\n",
              "      <td>1634888805.0</td>\n",
              "      <td>The Anchorage Museum was fantastic! We were fo...</td>\n",
              "      <td>1637977833.0</td>\n",
              "      <td>One of the more culturally and globally aware ...</td>\n",
              "      <td>1638073297.0</td>\n",
              "      <td>A very good regional museum, encompassing art,...</td>\n",
              "      <td>1629402829.0</td>\n",
              "      <td>The exterior and interior design of the museum...</td>\n",
              "      <td>1632588328.0</td>\n",
              "    </tr>\n",
              "    <tr>\n",
              "      <th>4</th>\n",
              "      <td>5</td>\n",
              "      <td>ChIJhbwvNU97yFYRtKJsGzJuMXw</td>\n",
              "      <td>A Rugged, But Beautiful Adventure</td>\n",
              "      <td>Alaska Wildland Adventures</td>\n",
              "      <td>Alaska</td>\n",
              "      <td>60.961173</td>\n",
              "      <td>-149.145260</td>\n",
              "      <td>A Rugged, But Beautiful Adventure</td>\n",
              "      <td>Switchback Trail is a hiking trail not for the...</td>\n",
              "      <td>4.3</td>\n",
              "      <td>We recently stayed at the Kenai Fjords Glacier...</td>\n",
              "      <td>1629992829.0</td>\n",
              "      <td>Everything is top-notch, A1 here! Guides are f...</td>\n",
              "      <td>1622805819.0</td>\n",
              "      <td>Awesome day of guided fishing on the Upper Ken...</td>\n",
              "      <td>1536624163.0</td>\n",
              "      <td>Beautiful lodges in spectacular locations with...</td>\n",
              "      <td>1532641243.0</td>\n",
              "      <td>A great company to work for!</td>\n",
              "      <td>1555657216.0</td>\n",
              "    </tr>\n",
              "  </tbody>\n",
              "</table>\n",
              "</div>"
            ],
            "text/plain": [
              "  docno  ... review_time_5\n",
              "0     1  ...  1626768663.0\n",
              "1     2  ...  1636152161.0\n",
              "2     3  ...  1506443215.0\n",
              "3     4  ...  1632588328.0\n",
              "4     5  ...  1555657216.0\n",
              "\n",
              "[5 rows x 20 columns]"
            ]
          },
          "metadata": {},
          "execution_count": 10
        }
      ]
    },
    {
      "cell_type": "code",
      "metadata": {
        "id": "4PB83GrO-HB8"
      },
      "source": [
        "pd_indexer = pt.DFIndexer(\"./pd_index\", overwrite=True, blocks=True)\n",
        "indexref = pd_indexer.index(df[\"description\"], df[\"docno\"], \n",
        "                            df[\"map_name\"], df[\"title\"], df[\"rating\"], \n",
        "                            df[\"review_text_1\"], df[\"review_time_1\"],\n",
        "                            df[\"review_text_2\"], df[\"review_time_2\"],\n",
        "                            df[\"review_text_3\"], df[\"review_time_3\"],\n",
        "                            df[\"review_text_4\"], df[\"review_time_4\"],\n",
        "                            df[\"review_text_5\"], df[\"review_time_5\"],)"
      ],
      "execution_count": null,
      "outputs": []
    },
    {
      "cell_type": "code",
      "source": [
        "index = pt.IndexFactory.of(indexref)\n",
        "print(index.getCollectionStatistics().toString())"
      ],
      "metadata": {
        "colab": {
          "base_uri": "https://localhost:8080/"
        },
        "id": "dwbmJUMxKFNr",
        "outputId": "01136bdf-0d68-4e78-8430-3d857c3441e5"
      },
      "execution_count": null,
      "outputs": [
        {
          "output_type": "stream",
          "name": "stdout",
          "text": [
            "Number of documents: 13891\n",
            "Number of terms: 42016\n",
            "Number of postings: 1855998\n",
            "Number of fields: 0\n",
            "Number of tokens: 2708372\n",
            "Field names: []\n",
            "Positions:   true\n",
            "\n"
          ]
        }
      ]
    },
    {
      "cell_type": "code",
      "source": [
        "topics = pd.read_csv('Query.csv') \n",
        "topics['qid'] = topics.qid.astype('str')\n",
        "topics.head()"
      ],
      "metadata": {
        "colab": {
          "base_uri": "https://localhost:8080/",
          "height": 206
        },
        "id": "pAd8XUWbKgIO",
        "outputId": "eefcb9e8-9540-4aa6-f6c0-2dcdd850b2f5"
      },
      "execution_count": null,
      "outputs": [
        {
          "output_type": "execute_result",
          "data": {
            "text/html": [
              "<div>\n",
              "<style scoped>\n",
              "    .dataframe tbody tr th:only-of-type {\n",
              "        vertical-align: middle;\n",
              "    }\n",
              "\n",
              "    .dataframe tbody tr th {\n",
              "        vertical-align: top;\n",
              "    }\n",
              "\n",
              "    .dataframe thead th {\n",
              "        text-align: right;\n",
              "    }\n",
              "</style>\n",
              "<table border=\"1\" class=\"dataframe\">\n",
              "  <thead>\n",
              "    <tr style=\"text-align: right;\">\n",
              "      <th></th>\n",
              "      <th>qid</th>\n",
              "      <th>query</th>\n",
              "    </tr>\n",
              "  </thead>\n",
              "  <tbody>\n",
              "    <tr>\n",
              "      <th>0</th>\n",
              "      <td>1</td>\n",
              "      <td>A place where you can see various kinds of ani...</td>\n",
              "    </tr>\n",
              "    <tr>\n",
              "      <th>1</th>\n",
              "      <td>2</td>\n",
              "      <td>A park with trees everywhere</td>\n",
              "    </tr>\n",
              "    <tr>\n",
              "      <th>2</th>\n",
              "      <td>3</td>\n",
              "      <td>A beautiful place with waterfalls</td>\n",
              "    </tr>\n",
              "    <tr>\n",
              "      <th>3</th>\n",
              "      <td>4</td>\n",
              "      <td>A playground suitable for family entertainment</td>\n",
              "    </tr>\n",
              "    <tr>\n",
              "      <th>4</th>\n",
              "      <td>5</td>\n",
              "      <td>A city with many art-focused museums</td>\n",
              "    </tr>\n",
              "  </tbody>\n",
              "</table>\n",
              "</div>"
            ],
            "text/plain": [
              "  qid                                              query\n",
              "0   1  A place where you can see various kinds of ani...\n",
              "1   2                       A park with trees everywhere\n",
              "2   3                  A beautiful place with waterfalls\n",
              "3   4     A playground suitable for family entertainment\n",
              "4   5               A city with many art-focused museums"
            ]
          },
          "metadata": {},
          "execution_count": 13
        }
      ]
    },
    {
      "cell_type": "code",
      "source": [
        "qrels = pd.read_csv('qrel.csv') \n",
        "qrels['qid'] = qrels.qid.astype(str)\n",
        "qrels['docno'] = qrels.docno.astype(str)\n",
        "qrels.head()"
      ],
      "metadata": {
        "colab": {
          "base_uri": "https://localhost:8080/",
          "height": 206
        },
        "id": "SKOeS46bLrhe",
        "outputId": "a50870f5-b18d-4c6c-d38e-8eedfc310429"
      },
      "execution_count": null,
      "outputs": [
        {
          "output_type": "execute_result",
          "data": {
            "text/html": [
              "<div>\n",
              "<style scoped>\n",
              "    .dataframe tbody tr th:only-of-type {\n",
              "        vertical-align: middle;\n",
              "    }\n",
              "\n",
              "    .dataframe tbody tr th {\n",
              "        vertical-align: top;\n",
              "    }\n",
              "\n",
              "    .dataframe thead th {\n",
              "        text-align: right;\n",
              "    }\n",
              "</style>\n",
              "<table border=\"1\" class=\"dataframe\">\n",
              "  <thead>\n",
              "    <tr style=\"text-align: right;\">\n",
              "      <th></th>\n",
              "      <th>qid</th>\n",
              "      <th>docno</th>\n",
              "      <th>label</th>\n",
              "    </tr>\n",
              "  </thead>\n",
              "  <tbody>\n",
              "    <tr>\n",
              "      <th>0</th>\n",
              "      <td>1</td>\n",
              "      <td>9837</td>\n",
              "      <td>5</td>\n",
              "    </tr>\n",
              "    <tr>\n",
              "      <th>1</th>\n",
              "      <td>1</td>\n",
              "      <td>572</td>\n",
              "      <td>5</td>\n",
              "    </tr>\n",
              "    <tr>\n",
              "      <th>2</th>\n",
              "      <td>1</td>\n",
              "      <td>12369</td>\n",
              "      <td>5</td>\n",
              "    </tr>\n",
              "    <tr>\n",
              "      <th>3</th>\n",
              "      <td>1</td>\n",
              "      <td>4629</td>\n",
              "      <td>5</td>\n",
              "    </tr>\n",
              "    <tr>\n",
              "      <th>4</th>\n",
              "      <td>1</td>\n",
              "      <td>811</td>\n",
              "      <td>5</td>\n",
              "    </tr>\n",
              "  </tbody>\n",
              "</table>\n",
              "</div>"
            ],
            "text/plain": [
              "  qid  docno  label\n",
              "0   1   9837      5\n",
              "1   1    572      5\n",
              "2   1  12369      5\n",
              "3   1   4629      5\n",
              "4   1    811      5"
            ]
          },
          "metadata": {},
          "execution_count": 14
        }
      ]
    },
    {
      "cell_type": "code",
      "source": [
        "tf = pt.BatchRetrieve(index, wmodel=\"Tf\")\n",
        "tf_idf = pt.BatchRetrieve(index, wmodel=\"TF_IDF\")\n",
        "bm25 = pt.BatchRetrieve(index, wmodel=\"BM25\")\n",
        "br = pt.BatchRetrieve(index)\n",
        "sdm = pt.rewrite.SDM()\n",
        "qe = pt.rewrite.Bo1QueryExpansion(index)"
      ],
      "metadata": {
        "id": "AKm7Y_rxT46O"
      },
      "execution_count": null,
      "outputs": []
    },
    {
      "cell_type": "code",
      "source": [
        "RANK_CUTOFF = 10\n",
        "SEED=42\n",
        "\n",
        "from sklearn.model_selection import train_test_split\n",
        "\n",
        "tr_va_topics, test_topics = train_test_split(topics, test_size=9, random_state=SEED)\n",
        "train_topics, valid_topics = train_test_split(tr_va_topics, test_size=3, random_state=SEED)"
      ],
      "metadata": {
        "id": "rrwpevGhMjAL"
      },
      "execution_count": null,
      "outputs": []
    },
    {
      "cell_type": "code",
      "source": [
        "ltr_feats = (bm25 % RANK_CUTOFF) >> pt.text.get_text(index, [\"map_name\", \n",
        "                                                             \"title\", \n",
        "                                                             \"rating\", \n",
        "                                                             \"review_text_1\",\n",
        "                                                             \"review_time_1\",\n",
        "                                                             \"review_text_2\",\n",
        "                                                             \"review_time_2\",\n",
        "                                                             \"review_text_3\",\n",
        "                                                             \"review_time_3\",\n",
        "                                                             \"review_text_4\",\n",
        "                                                             \"review_time_4\",\n",
        "                                                             \"review_text_5\",\n",
        "                                                             \"review_time_5\"]) >> (\n",
        "    pt.transformer.IdentityTransformer()\n",
        "    ** # sequential dependence\n",
        "    (sdm >> bm25)\n",
        "    ** # score of map_name\n",
        "    (pt.text.scorer(body_attr=\"map_name\", wmodel='BM25') ) \n",
        "    ** # score of title\n",
        "    (pt.text.scorer(body_attr=\"title\", wmodel='BM25') ) \n",
        "    ** # rating\n",
        "    (pt.apply.doc_score(lambda row: 0 if row[\"rating\"]==\"nan\" else float(row[\"rating\"])))\n",
        "    ** # score of reviews\n",
        "    (pt.text.scorer(body_attr=\"review_text_1\", wmodel='BM25') + \n",
        "     pt.text.scorer(body_attr=\"review_text_2\", wmodel='BM25') +\n",
        "     pt.text.scorer(body_attr=\"review_text_3\", wmodel='BM25') +\n",
        "     pt.text.scorer(body_attr=\"review_text_4\", wmodel='BM25') +\n",
        "     pt.text.scorer(body_attr=\"review_text_5\", wmodel='BM25') )\n",
        ")\n",
        "                                                             \n",
        "# for reference, lets record the feature names here too\n",
        "fnames=[\"BM25\", \"SDM\", \"map_name\", \"title\", \"rating\", \"reviews\"]"
      ],
      "metadata": {
        "id": "9bclza2wMqNU"
      },
      "execution_count": null,
      "outputs": []
    },
    {
      "cell_type": "code",
      "source": [
        "pt.Experiment(\n",
        "    [ltr_feats >> pt.ltr.feature_to_score(i) for i in range(len(fnames))],\n",
        "    test_topics,\n",
        "    qrels, \n",
        "    names=fnames,\n",
        "    eval_metrics=[\"map\", \"ndcg\", \"ndcg_cut_10\", \"num_rel_ret\"])"
      ],
      "metadata": {
        "colab": {
          "base_uri": "https://localhost:8080/",
          "height": 1000
        },
        "id": "mw-UhYxXon8_",
        "outputId": "9b4f8cf0-6bee-443a-b690-64c7541ff143"
      },
      "execution_count": null,
      "outputs": [
        {
          "output_type": "stream",
          "name": "stdout",
          "text": [
            "20:27:36.967 [main] WARN org.terrier.querying.ApplyTermPipeline - The index has no termpipelines configuration, and no control configuration is found. Defaulting to global termpipelines configuration of 'Stopwords,PorterStemmer'. Set a termpipelines control to remove this warning.\n",
            "20:27:37.167 [main] WARN org.terrier.querying.ApplyTermPipeline - The index has no termpipelines configuration, and no control configuration is found. Defaulting to global termpipelines configuration of 'Stopwords,PorterStemmer'. Set a termpipelines control to remove this warning.\n",
            "20:27:37.398 [main] WARN org.terrier.querying.ApplyTermPipeline - The index has no termpipelines configuration, and no control configuration is found. Defaulting to global termpipelines configuration of 'Stopwords,PorterStemmer'. Set a termpipelines control to remove this warning.\n",
            "20:27:37.613 [main] WARN org.terrier.querying.ApplyTermPipeline - The index has no termpipelines configuration, and no control configuration is found. Defaulting to global termpipelines configuration of 'Stopwords,PorterStemmer'. Set a termpipelines control to remove this warning.\n",
            "20:27:37.832 [main] WARN org.terrier.querying.ApplyTermPipeline - The index has no termpipelines configuration, and no control configuration is found. Defaulting to global termpipelines configuration of 'Stopwords,PorterStemmer'. Set a termpipelines control to remove this warning.\n",
            "20:27:38.058 [main] WARN org.terrier.querying.ApplyTermPipeline - The index has no termpipelines configuration, and no control configuration is found. Defaulting to global termpipelines configuration of 'Stopwords,PorterStemmer'. Set a termpipelines control to remove this warning.\n",
            "20:27:38.281 [main] WARN org.terrier.querying.ApplyTermPipeline - The index has no termpipelines configuration, and no control configuration is found. Defaulting to global termpipelines configuration of 'Stopwords,PorterStemmer'. Set a termpipelines control to remove this warning.\n"
          ]
        },
        {
          "output_type": "stream",
          "name": "stderr",
          "text": [
            "/usr/local/lib/python3.7/dist-packages/pyterrier/transformer.py:760: UserWarning: Got number of results different expected from CombSumTransformer(CombSumTransformer(CombSumTransformer(CombSumTransformer(<pyterrier.batchretrieve.TextScorer object at 0x7f9234071790>, <pyterrier.batchretrieve.TextScorer object at 0x7f92340717d0>), <pyterrier.batchretrieve.TextScorer object at 0x7f9234071710>), <pyterrier.batchretrieve.TextScorer object at 0x7f9234071810>), <pyterrier.batchretrieve.TextScorer object at 0x7f9234071890>), expected 90 received 2, feature scores for any missing documents be 0, extraneous documents will be removed\n",
            "  warn(\"Got number of results different expected from %s, expected %d received %d, feature scores for any missing documents be 0, extraneous documents will be removed\" % (repr(m), num_results, len(res)))\n"
          ]
        },
        {
          "output_type": "stream",
          "name": "stdout",
          "text": [
            "20:27:42.280 [main] WARN org.terrier.querying.ApplyTermPipeline - The index has no termpipelines configuration, and no control configuration is found. Defaulting to global termpipelines configuration of 'Stopwords,PorterStemmer'. Set a termpipelines control to remove this warning.\n",
            "20:27:42.442 [main] WARN org.terrier.querying.ApplyTermPipeline - The index has no termpipelines configuration, and no control configuration is found. Defaulting to global termpipelines configuration of 'Stopwords,PorterStemmer'. Set a termpipelines control to remove this warning.\n",
            "20:27:42.694 [main] WARN org.terrier.querying.ApplyTermPipeline - The index has no termpipelines configuration, and no control configuration is found. Defaulting to global termpipelines configuration of 'Stopwords,PorterStemmer'. Set a termpipelines control to remove this warning.\n",
            "20:27:42.882 [main] WARN org.terrier.querying.ApplyTermPipeline - The index has no termpipelines configuration, and no control configuration is found. Defaulting to global termpipelines configuration of 'Stopwords,PorterStemmer'. Set a termpipelines control to remove this warning.\n",
            "20:27:43.102 [main] WARN org.terrier.querying.ApplyTermPipeline - The index has no termpipelines configuration, and no control configuration is found. Defaulting to global termpipelines configuration of 'Stopwords,PorterStemmer'. Set a termpipelines control to remove this warning.\n",
            "20:27:43.289 [main] WARN org.terrier.querying.ApplyTermPipeline - The index has no termpipelines configuration, and no control configuration is found. Defaulting to global termpipelines configuration of 'Stopwords,PorterStemmer'. Set a termpipelines control to remove this warning.\n",
            "20:27:43.483 [main] WARN org.terrier.querying.ApplyTermPipeline - The index has no termpipelines configuration, and no control configuration is found. Defaulting to global termpipelines configuration of 'Stopwords,PorterStemmer'. Set a termpipelines control to remove this warning.\n"
          ]
        },
        {
          "output_type": "stream",
          "name": "stderr",
          "text": [
            "/usr/local/lib/python3.7/dist-packages/pyterrier/transformer.py:760: UserWarning: Got number of results different expected from CombSumTransformer(CombSumTransformer(CombSumTransformer(CombSumTransformer(<pyterrier.batchretrieve.TextScorer object at 0x7f9234071790>, <pyterrier.batchretrieve.TextScorer object at 0x7f92340717d0>), <pyterrier.batchretrieve.TextScorer object at 0x7f9234071710>), <pyterrier.batchretrieve.TextScorer object at 0x7f9234071810>), <pyterrier.batchretrieve.TextScorer object at 0x7f9234071890>), expected 90 received 2, feature scores for any missing documents be 0, extraneous documents will be removed\n",
            "  warn(\"Got number of results different expected from %s, expected %d received %d, feature scores for any missing documents be 0, extraneous documents will be removed\" % (repr(m), num_results, len(res)))\n"
          ]
        },
        {
          "output_type": "stream",
          "name": "stdout",
          "text": [
            "20:27:47.387 [main] WARN org.terrier.querying.ApplyTermPipeline - The index has no termpipelines configuration, and no control configuration is found. Defaulting to global termpipelines configuration of 'Stopwords,PorterStemmer'. Set a termpipelines control to remove this warning.\n",
            "20:27:47.583 [main] WARN org.terrier.querying.ApplyTermPipeline - The index has no termpipelines configuration, and no control configuration is found. Defaulting to global termpipelines configuration of 'Stopwords,PorterStemmer'. Set a termpipelines control to remove this warning.\n",
            "20:27:47.806 [main] WARN org.terrier.querying.ApplyTermPipeline - The index has no termpipelines configuration, and no control configuration is found. Defaulting to global termpipelines configuration of 'Stopwords,PorterStemmer'. Set a termpipelines control to remove this warning.\n",
            "20:27:47.985 [main] WARN org.terrier.querying.ApplyTermPipeline - The index has no termpipelines configuration, and no control configuration is found. Defaulting to global termpipelines configuration of 'Stopwords,PorterStemmer'. Set a termpipelines control to remove this warning.\n",
            "20:27:48.197 [main] WARN org.terrier.querying.ApplyTermPipeline - The index has no termpipelines configuration, and no control configuration is found. Defaulting to global termpipelines configuration of 'Stopwords,PorterStemmer'. Set a termpipelines control to remove this warning.\n",
            "20:27:48.404 [main] WARN org.terrier.querying.ApplyTermPipeline - The index has no termpipelines configuration, and no control configuration is found. Defaulting to global termpipelines configuration of 'Stopwords,PorterStemmer'. Set a termpipelines control to remove this warning.\n",
            "20:27:48.581 [main] WARN org.terrier.querying.ApplyTermPipeline - The index has no termpipelines configuration, and no control configuration is found. Defaulting to global termpipelines configuration of 'Stopwords,PorterStemmer'. Set a termpipelines control to remove this warning.\n"
          ]
        },
        {
          "output_type": "stream",
          "name": "stderr",
          "text": [
            "/usr/local/lib/python3.7/dist-packages/pyterrier/transformer.py:760: UserWarning: Got number of results different expected from CombSumTransformer(CombSumTransformer(CombSumTransformer(CombSumTransformer(<pyterrier.batchretrieve.TextScorer object at 0x7f9234071790>, <pyterrier.batchretrieve.TextScorer object at 0x7f92340717d0>), <pyterrier.batchretrieve.TextScorer object at 0x7f9234071710>), <pyterrier.batchretrieve.TextScorer object at 0x7f9234071810>), <pyterrier.batchretrieve.TextScorer object at 0x7f9234071890>), expected 90 received 2, feature scores for any missing documents be 0, extraneous documents will be removed\n",
            "  warn(\"Got number of results different expected from %s, expected %d received %d, feature scores for any missing documents be 0, extraneous documents will be removed\" % (repr(m), num_results, len(res)))\n"
          ]
        },
        {
          "output_type": "stream",
          "name": "stdout",
          "text": [
            "20:27:52.398 [main] WARN org.terrier.querying.ApplyTermPipeline - The index has no termpipelines configuration, and no control configuration is found. Defaulting to global termpipelines configuration of 'Stopwords,PorterStemmer'. Set a termpipelines control to remove this warning.\n",
            "20:27:52.549 [main] WARN org.terrier.querying.ApplyTermPipeline - The index has no termpipelines configuration, and no control configuration is found. Defaulting to global termpipelines configuration of 'Stopwords,PorterStemmer'. Set a termpipelines control to remove this warning.\n",
            "20:27:52.732 [main] WARN org.terrier.querying.ApplyTermPipeline - The index has no termpipelines configuration, and no control configuration is found. Defaulting to global termpipelines configuration of 'Stopwords,PorterStemmer'. Set a termpipelines control to remove this warning.\n",
            "20:27:52.893 [main] WARN org.terrier.querying.ApplyTermPipeline - The index has no termpipelines configuration, and no control configuration is found. Defaulting to global termpipelines configuration of 'Stopwords,PorterStemmer'. Set a termpipelines control to remove this warning.\n",
            "20:27:53.057 [main] WARN org.terrier.querying.ApplyTermPipeline - The index has no termpipelines configuration, and no control configuration is found. Defaulting to global termpipelines configuration of 'Stopwords,PorterStemmer'. Set a termpipelines control to remove this warning.\n",
            "20:27:53.243 [main] WARN org.terrier.querying.ApplyTermPipeline - The index has no termpipelines configuration, and no control configuration is found. Defaulting to global termpipelines configuration of 'Stopwords,PorterStemmer'. Set a termpipelines control to remove this warning.\n",
            "20:27:53.407 [main] WARN org.terrier.querying.ApplyTermPipeline - The index has no termpipelines configuration, and no control configuration is found. Defaulting to global termpipelines configuration of 'Stopwords,PorterStemmer'. Set a termpipelines control to remove this warning.\n"
          ]
        },
        {
          "output_type": "stream",
          "name": "stderr",
          "text": [
            "/usr/local/lib/python3.7/dist-packages/pyterrier/transformer.py:760: UserWarning: Got number of results different expected from CombSumTransformer(CombSumTransformer(CombSumTransformer(CombSumTransformer(<pyterrier.batchretrieve.TextScorer object at 0x7f9234071790>, <pyterrier.batchretrieve.TextScorer object at 0x7f92340717d0>), <pyterrier.batchretrieve.TextScorer object at 0x7f9234071710>), <pyterrier.batchretrieve.TextScorer object at 0x7f9234071810>), <pyterrier.batchretrieve.TextScorer object at 0x7f9234071890>), expected 90 received 2, feature scores for any missing documents be 0, extraneous documents will be removed\n",
            "  warn(\"Got number of results different expected from %s, expected %d received %d, feature scores for any missing documents be 0, extraneous documents will be removed\" % (repr(m), num_results, len(res)))\n"
          ]
        },
        {
          "output_type": "stream",
          "name": "stdout",
          "text": [
            "20:27:57.182 [main] WARN org.terrier.querying.ApplyTermPipeline - The index has no termpipelines configuration, and no control configuration is found. Defaulting to global termpipelines configuration of 'Stopwords,PorterStemmer'. Set a termpipelines control to remove this warning.\n",
            "20:27:57.324 [main] WARN org.terrier.querying.ApplyTermPipeline - The index has no termpipelines configuration, and no control configuration is found. Defaulting to global termpipelines configuration of 'Stopwords,PorterStemmer'. Set a termpipelines control to remove this warning.\n",
            "20:27:57.506 [main] WARN org.terrier.querying.ApplyTermPipeline - The index has no termpipelines configuration, and no control configuration is found. Defaulting to global termpipelines configuration of 'Stopwords,PorterStemmer'. Set a termpipelines control to remove this warning.\n",
            "20:27:57.691 [main] WARN org.terrier.querying.ApplyTermPipeline - The index has no termpipelines configuration, and no control configuration is found. Defaulting to global termpipelines configuration of 'Stopwords,PorterStemmer'. Set a termpipelines control to remove this warning.\n",
            "20:27:57.914 [main] WARN org.terrier.querying.ApplyTermPipeline - The index has no termpipelines configuration, and no control configuration is found. Defaulting to global termpipelines configuration of 'Stopwords,PorterStemmer'. Set a termpipelines control to remove this warning.\n",
            "20:27:58.142 [main] WARN org.terrier.querying.ApplyTermPipeline - The index has no termpipelines configuration, and no control configuration is found. Defaulting to global termpipelines configuration of 'Stopwords,PorterStemmer'. Set a termpipelines control to remove this warning.\n",
            "20:27:58.346 [main] WARN org.terrier.querying.ApplyTermPipeline - The index has no termpipelines configuration, and no control configuration is found. Defaulting to global termpipelines configuration of 'Stopwords,PorterStemmer'. Set a termpipelines control to remove this warning.\n"
          ]
        },
        {
          "output_type": "stream",
          "name": "stderr",
          "text": [
            "/usr/local/lib/python3.7/dist-packages/pyterrier/transformer.py:760: UserWarning: Got number of results different expected from CombSumTransformer(CombSumTransformer(CombSumTransformer(CombSumTransformer(<pyterrier.batchretrieve.TextScorer object at 0x7f9234071790>, <pyterrier.batchretrieve.TextScorer object at 0x7f92340717d0>), <pyterrier.batchretrieve.TextScorer object at 0x7f9234071710>), <pyterrier.batchretrieve.TextScorer object at 0x7f9234071810>), <pyterrier.batchretrieve.TextScorer object at 0x7f9234071890>), expected 90 received 2, feature scores for any missing documents be 0, extraneous documents will be removed\n",
            "  warn(\"Got number of results different expected from %s, expected %d received %d, feature scores for any missing documents be 0, extraneous documents will be removed\" % (repr(m), num_results, len(res)))\n"
          ]
        },
        {
          "output_type": "stream",
          "name": "stdout",
          "text": [
            "20:28:02.000 [main] WARN org.terrier.querying.ApplyTermPipeline - The index has no termpipelines configuration, and no control configuration is found. Defaulting to global termpipelines configuration of 'Stopwords,PorterStemmer'. Set a termpipelines control to remove this warning.\n",
            "20:28:02.160 [main] WARN org.terrier.querying.ApplyTermPipeline - The index has no termpipelines configuration, and no control configuration is found. Defaulting to global termpipelines configuration of 'Stopwords,PorterStemmer'. Set a termpipelines control to remove this warning.\n",
            "20:28:02.325 [main] WARN org.terrier.querying.ApplyTermPipeline - The index has no termpipelines configuration, and no control configuration is found. Defaulting to global termpipelines configuration of 'Stopwords,PorterStemmer'. Set a termpipelines control to remove this warning.\n",
            "20:28:02.493 [main] WARN org.terrier.querying.ApplyTermPipeline - The index has no termpipelines configuration, and no control configuration is found. Defaulting to global termpipelines configuration of 'Stopwords,PorterStemmer'. Set a termpipelines control to remove this warning.\n",
            "20:28:02.663 [main] WARN org.terrier.querying.ApplyTermPipeline - The index has no termpipelines configuration, and no control configuration is found. Defaulting to global termpipelines configuration of 'Stopwords,PorterStemmer'. Set a termpipelines control to remove this warning.\n",
            "20:28:02.829 [main] WARN org.terrier.querying.ApplyTermPipeline - The index has no termpipelines configuration, and no control configuration is found. Defaulting to global termpipelines configuration of 'Stopwords,PorterStemmer'. Set a termpipelines control to remove this warning.\n",
            "20:28:02.994 [main] WARN org.terrier.querying.ApplyTermPipeline - The index has no termpipelines configuration, and no control configuration is found. Defaulting to global termpipelines configuration of 'Stopwords,PorterStemmer'. Set a termpipelines control to remove this warning.\n"
          ]
        },
        {
          "output_type": "stream",
          "name": "stderr",
          "text": [
            "/usr/local/lib/python3.7/dist-packages/pyterrier/transformer.py:760: UserWarning: Got number of results different expected from CombSumTransformer(CombSumTransformer(CombSumTransformer(CombSumTransformer(<pyterrier.batchretrieve.TextScorer object at 0x7f9234071790>, <pyterrier.batchretrieve.TextScorer object at 0x7f92340717d0>), <pyterrier.batchretrieve.TextScorer object at 0x7f9234071710>), <pyterrier.batchretrieve.TextScorer object at 0x7f9234071810>), <pyterrier.batchretrieve.TextScorer object at 0x7f9234071890>), expected 90 received 2, feature scores for any missing documents be 0, extraneous documents will be removed\n",
            "  warn(\"Got number of results different expected from %s, expected %d received %d, feature scores for any missing documents be 0, extraneous documents will be removed\" % (repr(m), num_results, len(res)))\n"
          ]
        },
        {
          "output_type": "execute_result",
          "data": {
            "text/html": [
              "<div>\n",
              "<style scoped>\n",
              "    .dataframe tbody tr th:only-of-type {\n",
              "        vertical-align: middle;\n",
              "    }\n",
              "\n",
              "    .dataframe tbody tr th {\n",
              "        vertical-align: top;\n",
              "    }\n",
              "\n",
              "    .dataframe thead th {\n",
              "        text-align: right;\n",
              "    }\n",
              "</style>\n",
              "<table border=\"1\" class=\"dataframe\">\n",
              "  <thead>\n",
              "    <tr style=\"text-align: right;\">\n",
              "      <th></th>\n",
              "      <th>name</th>\n",
              "      <th>map</th>\n",
              "      <th>ndcg</th>\n",
              "      <th>ndcg_cut_10</th>\n",
              "      <th>num_rel_ret</th>\n",
              "    </tr>\n",
              "  </thead>\n",
              "  <tbody>\n",
              "    <tr>\n",
              "      <th>0</th>\n",
              "      <td>BM25</td>\n",
              "      <td>0.071299</td>\n",
              "      <td>0.267589</td>\n",
              "      <td>0.650166</td>\n",
              "      <td>63.0</td>\n",
              "    </tr>\n",
              "    <tr>\n",
              "      <th>1</th>\n",
              "      <td>SDM</td>\n",
              "      <td>0.071373</td>\n",
              "      <td>0.269243</td>\n",
              "      <td>0.654094</td>\n",
              "      <td>63.0</td>\n",
              "    </tr>\n",
              "    <tr>\n",
              "      <th>2</th>\n",
              "      <td>map_name</td>\n",
              "      <td>0.068581</td>\n",
              "      <td>0.255908</td>\n",
              "      <td>0.621646</td>\n",
              "      <td>63.0</td>\n",
              "    </tr>\n",
              "    <tr>\n",
              "      <th>3</th>\n",
              "      <td>title</td>\n",
              "      <td>0.070335</td>\n",
              "      <td>0.259121</td>\n",
              "      <td>0.629595</td>\n",
              "      <td>63.0</td>\n",
              "    </tr>\n",
              "    <tr>\n",
              "      <th>4</th>\n",
              "      <td>rating</td>\n",
              "      <td>0.069812</td>\n",
              "      <td>0.255289</td>\n",
              "      <td>0.620082</td>\n",
              "      <td>63.0</td>\n",
              "    </tr>\n",
              "    <tr>\n",
              "      <th>5</th>\n",
              "      <td>reviews</td>\n",
              "      <td>0.067915</td>\n",
              "      <td>0.254694</td>\n",
              "      <td>0.618563</td>\n",
              "      <td>63.0</td>\n",
              "    </tr>\n",
              "  </tbody>\n",
              "</table>\n",
              "</div>"
            ],
            "text/plain": [
              "       name       map      ndcg  ndcg_cut_10  num_rel_ret\n",
              "0      BM25  0.071299  0.267589     0.650166         63.0\n",
              "1       SDM  0.071373  0.269243     0.654094         63.0\n",
              "2  map_name  0.068581  0.255908     0.621646         63.0\n",
              "3     title  0.070335  0.259121     0.629595         63.0\n",
              "4    rating  0.069812  0.255289     0.620082         63.0\n",
              "5   reviews  0.067915  0.254694     0.618563         63.0"
            ]
          },
          "metadata": {},
          "execution_count": 18
        }
      ]
    },
    {
      "cell_type": "code",
      "source": [
        "ca_qrels = qrels.copy()\n",
        "ca_qrels['label']=ca_qrels.label.astype(float)\n",
        "ca_qrels.head()"
      ],
      "metadata": {
        "colab": {
          "base_uri": "https://localhost:8080/",
          "height": 206
        },
        "id": "RYv3yaqxXt1E",
        "outputId": "a317ef4e-f3ba-43c8-87ab-1ea3f2844057"
      },
      "execution_count": null,
      "outputs": [
        {
          "output_type": "execute_result",
          "data": {
            "text/html": [
              "<div>\n",
              "<style scoped>\n",
              "    .dataframe tbody tr th:only-of-type {\n",
              "        vertical-align: middle;\n",
              "    }\n",
              "\n",
              "    .dataframe tbody tr th {\n",
              "        vertical-align: top;\n",
              "    }\n",
              "\n",
              "    .dataframe thead th {\n",
              "        text-align: right;\n",
              "    }\n",
              "</style>\n",
              "<table border=\"1\" class=\"dataframe\">\n",
              "  <thead>\n",
              "    <tr style=\"text-align: right;\">\n",
              "      <th></th>\n",
              "      <th>qid</th>\n",
              "      <th>docno</th>\n",
              "      <th>label</th>\n",
              "    </tr>\n",
              "  </thead>\n",
              "  <tbody>\n",
              "    <tr>\n",
              "      <th>0</th>\n",
              "      <td>1</td>\n",
              "      <td>9837</td>\n",
              "      <td>5.0</td>\n",
              "    </tr>\n",
              "    <tr>\n",
              "      <th>1</th>\n",
              "      <td>1</td>\n",
              "      <td>572</td>\n",
              "      <td>5.0</td>\n",
              "    </tr>\n",
              "    <tr>\n",
              "      <th>2</th>\n",
              "      <td>1</td>\n",
              "      <td>12369</td>\n",
              "      <td>5.0</td>\n",
              "    </tr>\n",
              "    <tr>\n",
              "      <th>3</th>\n",
              "      <td>1</td>\n",
              "      <td>4629</td>\n",
              "      <td>5.0</td>\n",
              "    </tr>\n",
              "    <tr>\n",
              "      <th>4</th>\n",
              "      <td>1</td>\n",
              "      <td>811</td>\n",
              "      <td>5.0</td>\n",
              "    </tr>\n",
              "  </tbody>\n",
              "</table>\n",
              "</div>"
            ],
            "text/plain": [
              "  qid  docno  label\n",
              "0   1   9837    5.0\n",
              "1   1    572    5.0\n",
              "2   1  12369    5.0\n",
              "3   1   4629    5.0\n",
              "4   1    811    5.0"
            ]
          },
          "metadata": {},
          "execution_count": 22
        }
      ]
    },
    {
      "cell_type": "code",
      "source": [
        "import fastrank\n",
        "\n",
        "train_request = fastrank.TrainRequest.coordinate_ascent()\n",
        "\n",
        "params = train_request.params\n",
        "params.init_random = True\n",
        "params.normalize = True\n",
        "params.seed = 1234567\n",
        "\n",
        "ca_pipe = ltr_feats >> pt.ltr.apply_learned_model(train_request, form='fastrank')\n",
        "\n",
        "%time ca_pipe.fit(train_topics, ca_qrels)"
      ],
      "metadata": {
        "colab": {
          "base_uri": "https://localhost:8080/"
        },
        "id": "YerpJf-kR-xA",
        "outputId": "ed27fe2e-0f35-4720-f4ae-95d10259de7a"
      },
      "execution_count": null,
      "outputs": [
        {
          "output_type": "stream",
          "name": "stdout",
          "text": [
            "20:40:33.687 [main] WARN org.terrier.querying.ApplyTermPipeline - The index has no termpipelines configuration, and no control configuration is found. Defaulting to global termpipelines configuration of 'Stopwords,PorterStemmer'. Set a termpipelines control to remove this warning.\n",
            "20:40:33.956 [main] WARN org.terrier.querying.ApplyTermPipeline - The index has no termpipelines configuration, and no control configuration is found. Defaulting to global termpipelines configuration of 'Stopwords,PorterStemmer'. Set a termpipelines control to remove this warning.\n",
            "20:40:34.177 [main] WARN org.terrier.querying.ApplyTermPipeline - The index has no termpipelines configuration, and no control configuration is found. Defaulting to global termpipelines configuration of 'Stopwords,PorterStemmer'. Set a termpipelines control to remove this warning.\n",
            "20:40:34.403 [main] WARN org.terrier.querying.ApplyTermPipeline - The index has no termpipelines configuration, and no control configuration is found. Defaulting to global termpipelines configuration of 'Stopwords,PorterStemmer'. Set a termpipelines control to remove this warning.\n",
            "20:40:34.642 [main] WARN org.terrier.querying.ApplyTermPipeline - The index has no termpipelines configuration, and no control configuration is found. Defaulting to global termpipelines configuration of 'Stopwords,PorterStemmer'. Set a termpipelines control to remove this warning.\n",
            "20:40:34.971 [main] WARN org.terrier.querying.ApplyTermPipeline - The index has no termpipelines configuration, and no control configuration is found. Defaulting to global termpipelines configuration of 'Stopwords,PorterStemmer'. Set a termpipelines control to remove this warning.\n",
            "20:40:35.227 [main] WARN org.terrier.querying.ApplyTermPipeline - The index has no termpipelines configuration, and no control configuration is found. Defaulting to global termpipelines configuration of 'Stopwords,PorterStemmer'. Set a termpipelines control to remove this warning.\n"
          ]
        },
        {
          "output_type": "stream",
          "name": "stderr",
          "text": [
            "/usr/local/lib/python3.7/dist-packages/pyterrier/transformer.py:760: UserWarning: Got number of results different expected from CombSumTransformer(CombSumTransformer(CombSumTransformer(CombSumTransformer(<pyterrier.batchretrieve.TextScorer object at 0x7f9234071790>, <pyterrier.batchretrieve.TextScorer object at 0x7f92340717d0>), <pyterrier.batchretrieve.TextScorer object at 0x7f9234071710>), <pyterrier.batchretrieve.TextScorer object at 0x7f9234071810>), <pyterrier.batchretrieve.TextScorer object at 0x7f9234071890>), expected 180 received 13, feature scores for any missing documents be 0, extraneous documents will be removed\n",
            "  warn(\"Got number of results different expected from %s, expected %d received %d, feature scores for any missing documents be 0, extraneous documents will be removed\" % (repr(m), num_results, len(res)))\n",
            "/usr/local/lib/python3.7/dist-packages/pyterrier/transformer.py:760: UserWarning: Got number of results different expected from <pyterrier.batchretrieve.TextScorer object at 0x7f9234071450>, expected 180 received 70, feature scores for any missing documents be 0, extraneous documents will be removed\n",
            "  warn(\"Got number of results different expected from %s, expected %d received %d, feature scores for any missing documents be 0, extraneous documents will be removed\" % (repr(m), num_results, len(res)))\n",
            "/usr/local/lib/python3.7/dist-packages/pyterrier/transformer.py:760: UserWarning: Got number of results different expected from <pyterrier.batchretrieve.TextScorer object at 0x7f9234071510>, expected 180 received 54, feature scores for any missing documents be 0, extraneous documents will be removed\n",
            "  warn(\"Got number of results different expected from %s, expected %d received %d, feature scores for any missing documents be 0, extraneous documents will be removed\" % (repr(m), num_results, len(res)))\n"
          ]
        },
        {
          "output_type": "stream",
          "name": "stdout",
          "text": [
            "CPU times: user 9.55 s, sys: 205 ms, total: 9.75 s\n",
            "Wall time: 8.44 s\n"
          ]
        }
      ]
    },
    {
      "cell_type": "code",
      "source": [
        "from sklearn.ensemble import RandomForestRegressor\n",
        "\n",
        "rf = RandomForestRegressor(n_estimators=400, verbose=1, random_state=SEED, n_jobs=2)\n",
        "\n",
        "rf_pipe = ltr_feats >> pt.ltr.apply_learned_model(rf)\n",
        "\n",
        "%time rf_pipe.fit(train_topics, qrels)"
      ],
      "metadata": {
        "id": "rfvhxU7YR_SJ",
        "colab": {
          "base_uri": "https://localhost:8080/"
        },
        "outputId": "69ce7c53-1304-4f66-a5df-5bdad345d1af"
      },
      "execution_count": null,
      "outputs": [
        {
          "output_type": "stream",
          "name": "stdout",
          "text": [
            "20:56:07.576 [main] WARN org.terrier.querying.ApplyTermPipeline - The index has no termpipelines configuration, and no control configuration is found. Defaulting to global termpipelines configuration of 'Stopwords,PorterStemmer'. Set a termpipelines control to remove this warning.\n",
            "20:56:07.788 [main] WARN org.terrier.querying.ApplyTermPipeline - The index has no termpipelines configuration, and no control configuration is found. Defaulting to global termpipelines configuration of 'Stopwords,PorterStemmer'. Set a termpipelines control to remove this warning.\n",
            "20:56:08.074 [main] WARN org.terrier.querying.ApplyTermPipeline - The index has no termpipelines configuration, and no control configuration is found. Defaulting to global termpipelines configuration of 'Stopwords,PorterStemmer'. Set a termpipelines control to remove this warning.\n",
            "20:56:08.309 [main] WARN org.terrier.querying.ApplyTermPipeline - The index has no termpipelines configuration, and no control configuration is found. Defaulting to global termpipelines configuration of 'Stopwords,PorterStemmer'. Set a termpipelines control to remove this warning.\n",
            "20:56:08.547 [main] WARN org.terrier.querying.ApplyTermPipeline - The index has no termpipelines configuration, and no control configuration is found. Defaulting to global termpipelines configuration of 'Stopwords,PorterStemmer'. Set a termpipelines control to remove this warning.\n",
            "20:56:08.811 [main] WARN org.terrier.querying.ApplyTermPipeline - The index has no termpipelines configuration, and no control configuration is found. Defaulting to global termpipelines configuration of 'Stopwords,PorterStemmer'. Set a termpipelines control to remove this warning.\n",
            "20:56:09.079 [main] WARN org.terrier.querying.ApplyTermPipeline - The index has no termpipelines configuration, and no control configuration is found. Defaulting to global termpipelines configuration of 'Stopwords,PorterStemmer'. Set a termpipelines control to remove this warning.\n"
          ]
        },
        {
          "output_type": "stream",
          "name": "stderr",
          "text": [
            "/usr/local/lib/python3.7/dist-packages/pyterrier/transformer.py:760: UserWarning: Got number of results different expected from CombSumTransformer(CombSumTransformer(CombSumTransformer(CombSumTransformer(<pyterrier.batchretrieve.TextScorer object at 0x7f9234071790>, <pyterrier.batchretrieve.TextScorer object at 0x7f92340717d0>), <pyterrier.batchretrieve.TextScorer object at 0x7f9234071710>), <pyterrier.batchretrieve.TextScorer object at 0x7f9234071810>), <pyterrier.batchretrieve.TextScorer object at 0x7f9234071890>), expected 180 received 13, feature scores for any missing documents be 0, extraneous documents will be removed\n",
            "  warn(\"Got number of results different expected from %s, expected %d received %d, feature scores for any missing documents be 0, extraneous documents will be removed\" % (repr(m), num_results, len(res)))\n",
            "/usr/local/lib/python3.7/dist-packages/pyterrier/transformer.py:760: UserWarning: Got number of results different expected from <pyterrier.batchretrieve.TextScorer object at 0x7f9234071450>, expected 180 received 70, feature scores for any missing documents be 0, extraneous documents will be removed\n",
            "  warn(\"Got number of results different expected from %s, expected %d received %d, feature scores for any missing documents be 0, extraneous documents will be removed\" % (repr(m), num_results, len(res)))\n",
            "/usr/local/lib/python3.7/dist-packages/pyterrier/transformer.py:760: UserWarning: Got number of results different expected from <pyterrier.batchretrieve.TextScorer object at 0x7f9234071510>, expected 180 received 54, feature scores for any missing documents be 0, extraneous documents will be removed\n",
            "  warn(\"Got number of results different expected from %s, expected %d received %d, feature scores for any missing documents be 0, extraneous documents will be removed\" % (repr(m), num_results, len(res)))\n",
            "[Parallel(n_jobs=2)]: Using backend ThreadingBackend with 2 concurrent workers.\n",
            "[Parallel(n_jobs=2)]: Done  46 tasks      | elapsed:    0.1s\n",
            "[Parallel(n_jobs=2)]: Done 196 tasks      | elapsed:    0.3s\n"
          ]
        },
        {
          "output_type": "stream",
          "name": "stdout",
          "text": [
            "CPU times: user 9.37 s, sys: 233 ms, total: 9.6 s\n",
            "Wall time: 8.87 s\n"
          ]
        },
        {
          "output_type": "stream",
          "name": "stderr",
          "text": [
            "[Parallel(n_jobs=2)]: Done 400 out of 400 | elapsed:    0.6s finished\n"
          ]
        }
      ]
    },
    {
      "cell_type": "code",
      "source": [
        "import lightgbm as lgb\n",
        "\n",
        "# this configures LightGBM as LambdaMART\n",
        "lmart_l = lgb.LGBMRanker(\n",
        "    task=\"train\",\n",
        "    silent=False,\n",
        "    min_data_in_leaf=1,\n",
        "    min_sum_hessian_in_leaf=1,\n",
        "    max_bin=255,\n",
        "    num_leaves=31,\n",
        "    objective=\"lambdarank\",\n",
        "    metric=\"ndcg\",\n",
        "    ndcg_eval_at=[10],\n",
        "    ndcg_at=[10],\n",
        "    eval_at=[10],\n",
        "    learning_rate= .1,\n",
        "    importance_type=\"gain\",\n",
        "    num_iterations=100,\n",
        "    early_stopping_rounds=5\n",
        ")\n",
        "\n",
        "lmart_x_pipe = ltr_feats >> pt.ltr.apply_learned_model(lmart_l, form=\"ltr\", fit_kwargs={'eval_at':[10]})\n",
        "\n",
        "%time lmart_x_pipe.fit(train_topics, qrels, valid_topics, qrels)"
      ],
      "metadata": {
        "id": "8Pn9skuoTQ5L",
        "colab": {
          "base_uri": "https://localhost:8080/"
        },
        "outputId": "4c11c0c9-c820-49db-d823-554ba1ed4d80"
      },
      "execution_count": null,
      "outputs": [
        {
          "output_type": "stream",
          "name": "stdout",
          "text": [
            "20:56:16.364 [main] WARN org.terrier.querying.ApplyTermPipeline - The index has no termpipelines configuration, and no control configuration is found. Defaulting to global termpipelines configuration of 'Stopwords,PorterStemmer'. Set a termpipelines control to remove this warning.\n",
            "20:56:16.562 [main] WARN org.terrier.querying.ApplyTermPipeline - The index has no termpipelines configuration, and no control configuration is found. Defaulting to global termpipelines configuration of 'Stopwords,PorterStemmer'. Set a termpipelines control to remove this warning.\n",
            "20:56:16.813 [main] WARN org.terrier.querying.ApplyTermPipeline - The index has no termpipelines configuration, and no control configuration is found. Defaulting to global termpipelines configuration of 'Stopwords,PorterStemmer'. Set a termpipelines control to remove this warning.\n",
            "20:56:17.046 [main] WARN org.terrier.querying.ApplyTermPipeline - The index has no termpipelines configuration, and no control configuration is found. Defaulting to global termpipelines configuration of 'Stopwords,PorterStemmer'. Set a termpipelines control to remove this warning.\n",
            "20:56:17.290 [main] WARN org.terrier.querying.ApplyTermPipeline - The index has no termpipelines configuration, and no control configuration is found. Defaulting to global termpipelines configuration of 'Stopwords,PorterStemmer'. Set a termpipelines control to remove this warning.\n",
            "20:56:17.518 [main] WARN org.terrier.querying.ApplyTermPipeline - The index has no termpipelines configuration, and no control configuration is found. Defaulting to global termpipelines configuration of 'Stopwords,PorterStemmer'. Set a termpipelines control to remove this warning.\n",
            "20:56:17.743 [main] WARN org.terrier.querying.ApplyTermPipeline - The index has no termpipelines configuration, and no control configuration is found. Defaulting to global termpipelines configuration of 'Stopwords,PorterStemmer'. Set a termpipelines control to remove this warning.\n"
          ]
        },
        {
          "output_type": "stream",
          "name": "stderr",
          "text": [
            "/usr/local/lib/python3.7/dist-packages/pyterrier/transformer.py:760: UserWarning: Got number of results different expected from CombSumTransformer(CombSumTransformer(CombSumTransformer(CombSumTransformer(<pyterrier.batchretrieve.TextScorer object at 0x7f9234071790>, <pyterrier.batchretrieve.TextScorer object at 0x7f92340717d0>), <pyterrier.batchretrieve.TextScorer object at 0x7f9234071710>), <pyterrier.batchretrieve.TextScorer object at 0x7f9234071810>), <pyterrier.batchretrieve.TextScorer object at 0x7f9234071890>), expected 180 received 13, feature scores for any missing documents be 0, extraneous documents will be removed\n",
            "  warn(\"Got number of results different expected from %s, expected %d received %d, feature scores for any missing documents be 0, extraneous documents will be removed\" % (repr(m), num_results, len(res)))\n",
            "/usr/local/lib/python3.7/dist-packages/pyterrier/transformer.py:760: UserWarning: Got number of results different expected from <pyterrier.batchretrieve.TextScorer object at 0x7f9234071450>, expected 180 received 70, feature scores for any missing documents be 0, extraneous documents will be removed\n",
            "  warn(\"Got number of results different expected from %s, expected %d received %d, feature scores for any missing documents be 0, extraneous documents will be removed\" % (repr(m), num_results, len(res)))\n",
            "/usr/local/lib/python3.7/dist-packages/pyterrier/transformer.py:760: UserWarning: Got number of results different expected from <pyterrier.batchretrieve.TextScorer object at 0x7f9234071510>, expected 180 received 54, feature scores for any missing documents be 0, extraneous documents will be removed\n",
            "  warn(\"Got number of results different expected from %s, expected %d received %d, feature scores for any missing documents be 0, extraneous documents will be removed\" % (repr(m), num_results, len(res)))\n"
          ]
        },
        {
          "output_type": "stream",
          "name": "stdout",
          "text": [
            "20:56:19.100 [main] WARN org.terrier.querying.ApplyTermPipeline - The index has no termpipelines configuration, and no control configuration is found. Defaulting to global termpipelines configuration of 'Stopwords,PorterStemmer'. Set a termpipelines control to remove this warning.\n",
            "20:56:19.225 [main] WARN org.terrier.querying.ApplyTermPipeline - The index has no termpipelines configuration, and no control configuration is found. Defaulting to global termpipelines configuration of 'Stopwords,PorterStemmer'. Set a termpipelines control to remove this warning.\n",
            "20:56:19.355 [main] WARN org.terrier.querying.ApplyTermPipeline - The index has no termpipelines configuration, and no control configuration is found. Defaulting to global termpipelines configuration of 'Stopwords,PorterStemmer'. Set a termpipelines control to remove this warning.\n",
            "20:56:19.490 [main] WARN org.terrier.querying.ApplyTermPipeline - The index has no termpipelines configuration, and no control configuration is found. Defaulting to global termpipelines configuration of 'Stopwords,PorterStemmer'. Set a termpipelines control to remove this warning.\n",
            "20:56:19.614 [main] WARN org.terrier.querying.ApplyTermPipeline - The index has no termpipelines configuration, and no control configuration is found. Defaulting to global termpipelines configuration of 'Stopwords,PorterStemmer'. Set a termpipelines control to remove this warning.\n",
            "20:56:19.738 [main] WARN org.terrier.querying.ApplyTermPipeline - The index has no termpipelines configuration, and no control configuration is found. Defaulting to global termpipelines configuration of 'Stopwords,PorterStemmer'. Set a termpipelines control to remove this warning.\n",
            "20:56:19.860 [main] WARN org.terrier.querying.ApplyTermPipeline - The index has no termpipelines configuration, and no control configuration is found. Defaulting to global termpipelines configuration of 'Stopwords,PorterStemmer'. Set a termpipelines control to remove this warning.\n"
          ]
        },
        {
          "output_type": "stream",
          "name": "stderr",
          "text": [
            "/usr/local/lib/python3.7/dist-packages/pyterrier/transformer.py:760: UserWarning: Got number of results different expected from CombSumTransformer(CombSumTransformer(CombSumTransformer(CombSumTransformer(<pyterrier.batchretrieve.TextScorer object at 0x7f9234071790>, <pyterrier.batchretrieve.TextScorer object at 0x7f92340717d0>), <pyterrier.batchretrieve.TextScorer object at 0x7f9234071710>), <pyterrier.batchretrieve.TextScorer object at 0x7f9234071810>), <pyterrier.batchretrieve.TextScorer object at 0x7f9234071890>), expected 30 received 6, feature scores for any missing documents be 0, extraneous documents will be removed\n",
            "  warn(\"Got number of results different expected from %s, expected %d received %d, feature scores for any missing documents be 0, extraneous documents will be removed\" % (repr(m), num_results, len(res)))\n"
          ]
        },
        {
          "output_type": "stream",
          "name": "stdout",
          "text": [
            "[LightGBM] [Warning] early_stopping_round is set=5, early_stopping_rounds=5 will be ignored. Current value: early_stopping_round=5\n",
            "[LightGBM] [Warning] min_sum_hessian_in_leaf is set=1, min_child_weight=0.001 will be ignored. Current value: min_sum_hessian_in_leaf=1\n",
            "[LightGBM] [Warning] min_data_in_leaf is set=1, min_child_samples=20 will be ignored. Current value: min_data_in_leaf=1\n",
            "[LightGBM] [Warning] min_sum_hessian_in_leaf is set=1, min_child_weight=0.001 will be ignored. Current value: min_sum_hessian_in_leaf=1\n",
            "[LightGBM] [Warning] min_data_in_leaf is set=1, min_child_samples=20 will be ignored. Current value: min_data_in_leaf=1\n",
            "[LightGBM] [Warning] Auto-choosing row-wise multi-threading, the overhead of testing was 0.000260 seconds.\n",
            "You can set `force_row_wise=true` to remove the overhead.\n",
            "And if memory is not enough, you can set `force_col_wise=true`.\n",
            "[LightGBM] [Info] Total Bins 177\n",
            "[LightGBM] [Info] Number of data points in the train set: 180, number of used features: 6\n",
            "[LightGBM] [Warning] early_stopping_round is set=5, early_stopping_rounds=5 will be ignored. Current value: early_stopping_round=5\n",
            "[LightGBM] [Warning] min_sum_hessian_in_leaf is set=1, min_child_weight=0.001 will be ignored. Current value: min_sum_hessian_in_leaf=1\n",
            "[LightGBM] [Warning] min_data_in_leaf is set=1, min_child_samples=20 will be ignored. Current value: min_data_in_leaf=1\n",
            "[LightGBM] [Warning] No further splits with positive gain, best gain: -inf\n",
            "[1]\tvalid_0's ndcg@10: 0.876553\n",
            "Training until validation scores don't improve for 5 rounds\n",
            "[LightGBM] [Warning] No further splits with positive gain, best gain: -inf\n",
            "[2]\tvalid_0's ndcg@10: 0.787722\n",
            "[LightGBM] [Warning] No further splits with positive gain, best gain: -inf\n",
            "[3]\tvalid_0's ndcg@10: 0.792034\n",
            "[LightGBM] [Warning] No further splits with positive gain, best gain: -inf\n",
            "[4]\tvalid_0's ndcg@10: 0.792326\n",
            "[LightGBM] [Warning] No further splits with positive gain, best gain: -inf\n",
            "[5]\tvalid_0's ndcg@10: 0.790049\n",
            "[LightGBM] [Warning] No further splits with positive gain, best gain: -inf\n",
            "[6]\tvalid_0's ndcg@10: 0.837611\n",
            "Early stopping, best iteration is:\n",
            "[1]\tvalid_0's ndcg@10: 0.876553\n",
            "CPU times: user 10.6 s, sys: 254 ms, total: 10.8 s\n",
            "Wall time: 10.2 s\n"
          ]
        },
        {
          "output_type": "stream",
          "name": "stderr",
          "text": [
            "/usr/local/lib/python3.7/dist-packages/lightgbm/engine.py:151: UserWarning: Found `num_iterations` in params. Will use it instead of argument\n",
            "  warnings.warn(\"Found `{}` in params. Will use it instead of argument\".format(alias))\n",
            "/usr/local/lib/python3.7/dist-packages/lightgbm/engine.py:156: UserWarning: Found `early_stopping_rounds` in params. Will use it instead of argument\n",
            "  warnings.warn(\"Found `{}` in params. Will use it instead of argument\".format(alias))\n"
          ]
        }
      ]
    },
    {
      "cell_type": "code",
      "source": [
        "pt.Experiment(\n",
        "    [br % RANK_CUTOFF, ca_pipe, rf_pipe, lmart_x_pipe], \n",
        "    test_topics, \n",
        "    qrels, \n",
        "    names=[\"BR\",  \"BM25+CA\", \"BM25+RF\", \"BM25+LMart\"], \n",
        "    baseline=0, \n",
        "    eval_metrics=[\"map\", \"ndcg\", \"ndcg_cut_10\", \"mrt\"])"
      ],
      "metadata": {
        "id": "JtP5MGMfTaxM",
        "colab": {
          "base_uri": "https://localhost:8080/",
          "height": 768
        },
        "outputId": "2b67f926-bc7d-40eb-bfcc-71c8c40f30e2"
      },
      "execution_count": null,
      "outputs": [
        {
          "output_type": "stream",
          "name": "stdout",
          "text": [
            "20:56:27.251 [main] WARN org.terrier.querying.ApplyTermPipeline - The index has no termpipelines configuration, and no control configuration is found. Defaulting to global termpipelines configuration of 'Stopwords,PorterStemmer'. Set a termpipelines control to remove this warning.\n",
            "20:56:27.385 [main] WARN org.terrier.querying.ApplyTermPipeline - The index has no termpipelines configuration, and no control configuration is found. Defaulting to global termpipelines configuration of 'Stopwords,PorterStemmer'. Set a termpipelines control to remove this warning.\n",
            "20:56:27.552 [main] WARN org.terrier.querying.ApplyTermPipeline - The index has no termpipelines configuration, and no control configuration is found. Defaulting to global termpipelines configuration of 'Stopwords,PorterStemmer'. Set a termpipelines control to remove this warning.\n",
            "20:56:27.713 [main] WARN org.terrier.querying.ApplyTermPipeline - The index has no termpipelines configuration, and no control configuration is found. Defaulting to global termpipelines configuration of 'Stopwords,PorterStemmer'. Set a termpipelines control to remove this warning.\n",
            "20:56:27.869 [main] WARN org.terrier.querying.ApplyTermPipeline - The index has no termpipelines configuration, and no control configuration is found. Defaulting to global termpipelines configuration of 'Stopwords,PorterStemmer'. Set a termpipelines control to remove this warning.\n",
            "20:56:28.034 [main] WARN org.terrier.querying.ApplyTermPipeline - The index has no termpipelines configuration, and no control configuration is found. Defaulting to global termpipelines configuration of 'Stopwords,PorterStemmer'. Set a termpipelines control to remove this warning.\n",
            "20:56:28.204 [main] WARN org.terrier.querying.ApplyTermPipeline - The index has no termpipelines configuration, and no control configuration is found. Defaulting to global termpipelines configuration of 'Stopwords,PorterStemmer'. Set a termpipelines control to remove this warning.\n"
          ]
        },
        {
          "output_type": "stream",
          "name": "stderr",
          "text": [
            "/usr/local/lib/python3.7/dist-packages/pyterrier/transformer.py:760: UserWarning: Got number of results different expected from CombSumTransformer(CombSumTransformer(CombSumTransformer(CombSumTransformer(<pyterrier.batchretrieve.TextScorer object at 0x7f9234071790>, <pyterrier.batchretrieve.TextScorer object at 0x7f92340717d0>), <pyterrier.batchretrieve.TextScorer object at 0x7f9234071710>), <pyterrier.batchretrieve.TextScorer object at 0x7f9234071810>), <pyterrier.batchretrieve.TextScorer object at 0x7f9234071890>), expected 90 received 2, feature scores for any missing documents be 0, extraneous documents will be removed\n",
            "  warn(\"Got number of results different expected from %s, expected %d received %d, feature scores for any missing documents be 0, extraneous documents will be removed\" % (repr(m), num_results, len(res)))\n"
          ]
        },
        {
          "output_type": "stream",
          "name": "stdout",
          "text": [
            "20:56:31.743 [main] WARN org.terrier.querying.ApplyTermPipeline - The index has no termpipelines configuration, and no control configuration is found. Defaulting to global termpipelines configuration of 'Stopwords,PorterStemmer'. Set a termpipelines control to remove this warning.\n",
            "20:56:31.886 [main] WARN org.terrier.querying.ApplyTermPipeline - The index has no termpipelines configuration, and no control configuration is found. Defaulting to global termpipelines configuration of 'Stopwords,PorterStemmer'. Set a termpipelines control to remove this warning.\n",
            "20:56:32.040 [main] WARN org.terrier.querying.ApplyTermPipeline - The index has no termpipelines configuration, and no control configuration is found. Defaulting to global termpipelines configuration of 'Stopwords,PorterStemmer'. Set a termpipelines control to remove this warning.\n",
            "20:56:32.186 [main] WARN org.terrier.querying.ApplyTermPipeline - The index has no termpipelines configuration, and no control configuration is found. Defaulting to global termpipelines configuration of 'Stopwords,PorterStemmer'. Set a termpipelines control to remove this warning.\n",
            "20:56:32.338 [main] WARN org.terrier.querying.ApplyTermPipeline - The index has no termpipelines configuration, and no control configuration is found. Defaulting to global termpipelines configuration of 'Stopwords,PorterStemmer'. Set a termpipelines control to remove this warning.\n",
            "20:56:32.494 [main] WARN org.terrier.querying.ApplyTermPipeline - The index has no termpipelines configuration, and no control configuration is found. Defaulting to global termpipelines configuration of 'Stopwords,PorterStemmer'. Set a termpipelines control to remove this warning.\n",
            "20:56:32.663 [main] WARN org.terrier.querying.ApplyTermPipeline - The index has no termpipelines configuration, and no control configuration is found. Defaulting to global termpipelines configuration of 'Stopwords,PorterStemmer'. Set a termpipelines control to remove this warning.\n"
          ]
        },
        {
          "output_type": "stream",
          "name": "stderr",
          "text": [
            "/usr/local/lib/python3.7/dist-packages/pyterrier/transformer.py:760: UserWarning: Got number of results different expected from CombSumTransformer(CombSumTransformer(CombSumTransformer(CombSumTransformer(<pyterrier.batchretrieve.TextScorer object at 0x7f9234071790>, <pyterrier.batchretrieve.TextScorer object at 0x7f92340717d0>), <pyterrier.batchretrieve.TextScorer object at 0x7f9234071710>), <pyterrier.batchretrieve.TextScorer object at 0x7f9234071810>), <pyterrier.batchretrieve.TextScorer object at 0x7f9234071890>), expected 90 received 2, feature scores for any missing documents be 0, extraneous documents will be removed\n",
            "  warn(\"Got number of results different expected from %s, expected %d received %d, feature scores for any missing documents be 0, extraneous documents will be removed\" % (repr(m), num_results, len(res)))\n",
            "[Parallel(n_jobs=2)]: Using backend ThreadingBackend with 2 concurrent workers.\n",
            "[Parallel(n_jobs=2)]: Done  46 tasks      | elapsed:    0.0s\n",
            "[Parallel(n_jobs=2)]: Done 196 tasks      | elapsed:    0.0s\n",
            "[Parallel(n_jobs=2)]: Done 400 out of 400 | elapsed:    0.1s finished\n"
          ]
        },
        {
          "output_type": "stream",
          "name": "stdout",
          "text": [
            "20:56:36.522 [main] WARN org.terrier.querying.ApplyTermPipeline - The index has no termpipelines configuration, and no control configuration is found. Defaulting to global termpipelines configuration of 'Stopwords,PorterStemmer'. Set a termpipelines control to remove this warning.\n",
            "20:56:36.684 [main] WARN org.terrier.querying.ApplyTermPipeline - The index has no termpipelines configuration, and no control configuration is found. Defaulting to global termpipelines configuration of 'Stopwords,PorterStemmer'. Set a termpipelines control to remove this warning.\n",
            "20:56:36.844 [main] WARN org.terrier.querying.ApplyTermPipeline - The index has no termpipelines configuration, and no control configuration is found. Defaulting to global termpipelines configuration of 'Stopwords,PorterStemmer'. Set a termpipelines control to remove this warning.\n",
            "20:56:37.001 [main] WARN org.terrier.querying.ApplyTermPipeline - The index has no termpipelines configuration, and no control configuration is found. Defaulting to global termpipelines configuration of 'Stopwords,PorterStemmer'. Set a termpipelines control to remove this warning.\n",
            "20:56:37.167 [main] WARN org.terrier.querying.ApplyTermPipeline - The index has no termpipelines configuration, and no control configuration is found. Defaulting to global termpipelines configuration of 'Stopwords,PorterStemmer'. Set a termpipelines control to remove this warning.\n",
            "20:56:37.332 [main] WARN org.terrier.querying.ApplyTermPipeline - The index has no termpipelines configuration, and no control configuration is found. Defaulting to global termpipelines configuration of 'Stopwords,PorterStemmer'. Set a termpipelines control to remove this warning.\n",
            "20:56:37.481 [main] WARN org.terrier.querying.ApplyTermPipeline - The index has no termpipelines configuration, and no control configuration is found. Defaulting to global termpipelines configuration of 'Stopwords,PorterStemmer'. Set a termpipelines control to remove this warning.\n"
          ]
        },
        {
          "output_type": "stream",
          "name": "stderr",
          "text": [
            "/usr/local/lib/python3.7/dist-packages/pyterrier/transformer.py:760: UserWarning: Got number of results different expected from CombSumTransformer(CombSumTransformer(CombSumTransformer(CombSumTransformer(<pyterrier.batchretrieve.TextScorer object at 0x7f9234071790>, <pyterrier.batchretrieve.TextScorer object at 0x7f92340717d0>), <pyterrier.batchretrieve.TextScorer object at 0x7f9234071710>), <pyterrier.batchretrieve.TextScorer object at 0x7f9234071810>), <pyterrier.batchretrieve.TextScorer object at 0x7f9234071890>), expected 90 received 2, feature scores for any missing documents be 0, extraneous documents will be removed\n",
            "  warn(\"Got number of results different expected from %s, expected %d received %d, feature scores for any missing documents be 0, extraneous documents will be removed\" % (repr(m), num_results, len(res)))\n"
          ]
        },
        {
          "output_type": "execute_result",
          "data": {
            "text/html": [
              "<div>\n",
              "<style scoped>\n",
              "    .dataframe tbody tr th:only-of-type {\n",
              "        vertical-align: middle;\n",
              "    }\n",
              "\n",
              "    .dataframe tbody tr th {\n",
              "        vertical-align: top;\n",
              "    }\n",
              "\n",
              "    .dataframe thead th {\n",
              "        text-align: right;\n",
              "    }\n",
              "</style>\n",
              "<table border=\"1\" class=\"dataframe\">\n",
              "  <thead>\n",
              "    <tr style=\"text-align: right;\">\n",
              "      <th></th>\n",
              "      <th>name</th>\n",
              "      <th>map</th>\n",
              "      <th>ndcg</th>\n",
              "      <th>ndcg_cut_10</th>\n",
              "      <th>mrt</th>\n",
              "      <th>map +</th>\n",
              "      <th>map -</th>\n",
              "      <th>map p-value</th>\n",
              "      <th>ndcg +</th>\n",
              "      <th>ndcg -</th>\n",
              "      <th>ndcg p-value</th>\n",
              "      <th>ndcg_cut_10 +</th>\n",
              "      <th>ndcg_cut_10 -</th>\n",
              "      <th>ndcg_cut_10 p-value</th>\n",
              "    </tr>\n",
              "  </thead>\n",
              "  <tbody>\n",
              "    <tr>\n",
              "      <th>0</th>\n",
              "      <td>BR</td>\n",
              "      <td>0.080030</td>\n",
              "      <td>0.278595</td>\n",
              "      <td>0.676728</td>\n",
              "      <td>367.288128</td>\n",
              "      <td>NaN</td>\n",
              "      <td>NaN</td>\n",
              "      <td>NaN</td>\n",
              "      <td>NaN</td>\n",
              "      <td>NaN</td>\n",
              "      <td>NaN</td>\n",
              "      <td>NaN</td>\n",
              "      <td>NaN</td>\n",
              "      <td>NaN</td>\n",
              "    </tr>\n",
              "    <tr>\n",
              "      <th>1</th>\n",
              "      <td>BM25+CA</td>\n",
              "      <td>0.071737</td>\n",
              "      <td>0.269730</td>\n",
              "      <td>0.655262</td>\n",
              "      <td>471.420646</td>\n",
              "      <td>0.0</td>\n",
              "      <td>2.0</td>\n",
              "      <td>0.170192</td>\n",
              "      <td>2.0</td>\n",
              "      <td>5.0</td>\n",
              "      <td>0.511609</td>\n",
              "      <td>2.0</td>\n",
              "      <td>5.0</td>\n",
              "      <td>0.517653</td>\n",
              "    </tr>\n",
              "    <tr>\n",
              "      <th>2</th>\n",
              "      <td>BM25+RF</td>\n",
              "      <td>0.068110</td>\n",
              "      <td>0.249169</td>\n",
              "      <td>0.605124</td>\n",
              "      <td>495.778335</td>\n",
              "      <td>0.0</td>\n",
              "      <td>2.0</td>\n",
              "      <td>0.169226</td>\n",
              "      <td>2.0</td>\n",
              "      <td>5.0</td>\n",
              "      <td>0.233667</td>\n",
              "      <td>2.0</td>\n",
              "      <td>5.0</td>\n",
              "      <td>0.237545</td>\n",
              "    </tr>\n",
              "    <tr>\n",
              "      <th>3</th>\n",
              "      <td>BM25+LMart</td>\n",
              "      <td>0.069900</td>\n",
              "      <td>0.264900</td>\n",
              "      <td>0.643617</td>\n",
              "      <td>469.162434</td>\n",
              "      <td>0.0</td>\n",
              "      <td>2.0</td>\n",
              "      <td>0.170129</td>\n",
              "      <td>2.0</td>\n",
              "      <td>5.0</td>\n",
              "      <td>0.374444</td>\n",
              "      <td>2.0</td>\n",
              "      <td>5.0</td>\n",
              "      <td>0.381600</td>\n",
              "    </tr>\n",
              "  </tbody>\n",
              "</table>\n",
              "</div>"
            ],
            "text/plain": [
              "         name       map  ...  ndcg_cut_10 -  ndcg_cut_10 p-value\n",
              "0          BR  0.080030  ...            NaN                  NaN\n",
              "1     BM25+CA  0.071737  ...            5.0             0.517653\n",
              "2     BM25+RF  0.068110  ...            5.0             0.237545\n",
              "3  BM25+LMart  0.069900  ...            5.0             0.381600\n",
              "\n",
              "[4 rows x 14 columns]"
            ]
          },
          "metadata": {},
          "execution_count": 26
        }
      ]
    },
    {
      "cell_type": "code",
      "source": [
        "%matplotlib inline\n",
        "import matplotlib.pyplot as plt, numpy as np\n",
        "\n",
        "fig, (ax0, ax1, ax2) = plt.subplots(1, 3, figsize=(10, 6))\n",
        "\n",
        "ax0.bar(np.arange(len(fnames)), ca_pipe[1].model.to_dict()['Linear']['weights'])\n",
        "ax0.set_xticks(np.arange(len(fnames)))\n",
        "ax0.set_xticklabels(fnames, rotation=45, ha='right')\n",
        "ax0.set_title(\"Coordinate Ascent\\n Feature Weights\")\n",
        "ax0.set_yscale('log')\n",
        "\n",
        "ax1.bar(np.arange(len(fnames)), rf.feature_importances_)\n",
        "ax1.set_xticks(np.arange(len(fnames)))\n",
        "ax1.set_xticklabels(fnames, rotation=45, ha='right')\n",
        "ax1.set_title(\"Random Forests\\n Feature Importance\")\n",
        "\n",
        "ax2.bar(np.arange(len(fnames)), lmart_l.feature_importances_)\n",
        "ax2.set_xticks(np.arange(len(fnames)))\n",
        "ax2.set_xticklabels(fnames, rotation=45, ha='right')\n",
        "ax2.set_title(\"$\\lambda$MART\\n Feature Importance\")\n",
        "\n",
        "fig.show()"
      ],
      "metadata": {
        "id": "eCqhMwCwrc9C",
        "colab": {
          "base_uri": "https://localhost:8080/",
          "height": 441
        },
        "outputId": "a97c7a85-a7ba-483f-952b-f3002dfe8623"
      },
      "execution_count": null,
      "outputs": [
        {
          "output_type": "display_data",
          "data": {
            "image/png": "[encoded data removed]",
            "text/plain": [
              "<Figure size 720x432 with 3 Axes>"
            ]
          },
          "metadata": {
            "needs_background": "light"
          }
        }
      ]
    }
  ]
}