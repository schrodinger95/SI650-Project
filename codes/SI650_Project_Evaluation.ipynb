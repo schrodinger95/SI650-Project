{
  "cells": [
    {
      "cell_type": "code",
      "execution_count": null,
      "metadata": {
        "colab": {
          "base_uri": "https://localhost:8080/"
        },
        "id": "5pT30pRVhYLp",
        "outputId": "3630e606-fac8-4a4a-c379-ffb2845898de"
      },
      "outputs": [
        {
          "name": "stdout",
          "output_type": "stream",
          "text": [
            "Collecting fastrank\n",
            "  Downloading fastrank-0.7.0-py3-none-manylinux2010_x86_64.whl (891 kB)\n",
            "\u001b[?25l\r\u001b[K     |▍                               | 10 kB 25.6 MB/s eta 0:00:01\r\u001b[K     |▊                               | 20 kB 27.7 MB/s eta 0:00:01\r\u001b[K     |█                               | 30 kB 30.3 MB/s eta 0:00:01\r\u001b[K     |█▌                              | 40 kB 34.7 MB/s eta 0:00:01\r\u001b[K     |█▉                              | 51 kB 38.0 MB/s eta 0:00:01\r\u001b[K     |██▏                             | 61 kB 28.4 MB/s eta 0:00:01\r\u001b[K     |██▋                             | 71 kB 28.4 MB/s eta 0:00:01\r\u001b[K     |███                             | 81 kB 29.1 MB/s eta 0:00:01\r\u001b[K     |███▎                            | 92 kB 24.9 MB/s eta 0:00:01\r\u001b[K     |███▊                            | 102 kB 26.4 MB/s eta 0:00:01\r\u001b[K     |████                            | 112 kB 26.4 MB/s eta 0:00:01\r\u001b[K     |████▍                           | 122 kB 26.4 MB/s eta 0:00:01\r\u001b[K     |████▉                           | 133 kB 26.4 MB/s eta 0:00:01\r\u001b[K     |█████▏                          | 143 kB 26.4 MB/s eta 0:00:01\r\u001b[K     |█████▌                          | 153 kB 26.4 MB/s eta 0:00:01\r\u001b[K     |█████▉                          | 163 kB 26.4 MB/s eta 0:00:01\r\u001b[K     |██████▎                         | 174 kB 26.4 MB/s eta 0:00:01\r\u001b[K     |██████▋                         | 184 kB 26.4 MB/s eta 0:00:01\r\u001b[K     |███████                         | 194 kB 26.4 MB/s eta 0:00:01\r\u001b[K     |███████▍                        | 204 kB 26.4 MB/s eta 0:00:01\r\u001b[K     |███████▊                        | 215 kB 26.4 MB/s eta 0:00:01\r\u001b[K     |████████                        | 225 kB 26.4 MB/s eta 0:00:01\r\u001b[K     |████████▌                       | 235 kB 26.4 MB/s eta 0:00:01\r\u001b[K     |████████▉                       | 245 kB 26.4 MB/s eta 0:00:01\r\u001b[K     |█████████▏                      | 256 kB 26.4 MB/s eta 0:00:01\r\u001b[K     |█████████▋                      | 266 kB 26.4 MB/s eta 0:00:01\r\u001b[K     |██████████                      | 276 kB 26.4 MB/s eta 0:00:01\r\u001b[K     |██████████▎                     | 286 kB 26.4 MB/s eta 0:00:01\r\u001b[K     |██████████▋                     | 296 kB 26.4 MB/s eta 0:00:01\r\u001b[K     |███████████                     | 307 kB 26.4 MB/s eta 0:00:01\r\u001b[K     |███████████▍                    | 317 kB 26.4 MB/s eta 0:00:01\r\u001b[K     |███████████▊                    | 327 kB 26.4 MB/s eta 0:00:01\r\u001b[K     |████████████▏                   | 337 kB 26.4 MB/s eta 0:00:01\r\u001b[K     |████████████▌                   | 348 kB 26.4 MB/s eta 0:00:01\r\u001b[K     |████████████▉                   | 358 kB 26.4 MB/s eta 0:00:01\r\u001b[K     |█████████████▎                  | 368 kB 26.4 MB/s eta 0:00:01\r\u001b[K     |█████████████▋                  | 378 kB 26.4 MB/s eta 0:00:01\r\u001b[K     |██████████████                  | 389 kB 26.4 MB/s eta 0:00:01\r\u001b[K     |██████████████▍                 | 399 kB 26.4 MB/s eta 0:00:01\r\u001b[K     |██████████████▊                 | 409 kB 26.4 MB/s eta 0:00:01\r\u001b[K     |███████████████                 | 419 kB 26.4 MB/s eta 0:00:01\r\u001b[K     |███████████████▍                | 430 kB 26.4 MB/s eta 0:00:01\r\u001b[K     |███████████████▉                | 440 kB 26.4 MB/s eta 0:00:01\r\u001b[K     |████████████████▏               | 450 kB 26.4 MB/s eta 0:00:01\r\u001b[K     |████████████████▌               | 460 kB 26.4 MB/s eta 0:00:01\r\u001b[K     |█████████████████               | 471 kB 26.4 MB/s eta 0:00:01\r\u001b[K     |█████████████████▎              | 481 kB 26.4 MB/s eta 0:00:01\r\u001b[K     |█████████████████▋              | 491 kB 26.4 MB/s eta 0:00:01\r\u001b[K     |██████████████████              | 501 kB 26.4 MB/s eta 0:00:01\r\u001b[K     |██████████████████▍             | 512 kB 26.4 MB/s eta 0:00:01\r\u001b[K     |██████████████████▊             | 522 kB 26.4 MB/s eta 0:00:01\r\u001b[K     |███████████████████▏            | 532 kB 26.4 MB/s eta 0:00:01\r\u001b[K     |███████████████████▌            | 542 kB 26.4 MB/s eta 0:00:01\r\u001b[K     |███████████████████▉            | 552 kB 26.4 MB/s eta 0:00:01\r\u001b[K     |████████████████████▏           | 563 kB 26.4 MB/s eta 0:00:01\r\u001b[K     |████████████████████▋           | 573 kB 26.4 MB/s eta 0:00:01\r\u001b[K     |█████████████████████           | 583 kB 26.4 MB/s eta 0:00:01\r\u001b[K     |█████████████████████▎          | 593 kB 26.4 MB/s eta 0:00:01\r\u001b[K     |█████████████████████▊          | 604 kB 26.4 MB/s eta 0:00:01\r\u001b[K     |██████████████████████          | 614 kB 26.4 MB/s eta 0:00:01\r\u001b[K     |██████████████████████▍         | 624 kB 26.4 MB/s eta 0:00:01\r\u001b[K     |██████████████████████▉         | 634 kB 26.4 MB/s eta 0:00:01\r\u001b[K     |███████████████████████▏        | 645 kB 26.4 MB/s eta 0:00:01\r\u001b[K     |███████████████████████▌        | 655 kB 26.4 MB/s eta 0:00:01\r\u001b[K     |████████████████████████        | 665 kB 26.4 MB/s eta 0:00:01\r\u001b[K     |████████████████████████▎       | 675 kB 26.4 MB/s eta 0:00:01\r\u001b[K     |████████████████████████▋       | 686 kB 26.4 MB/s eta 0:00:01\r\u001b[K     |█████████████████████████       | 696 kB 26.4 MB/s eta 0:00:01\r\u001b[K     |█████████████████████████▍      | 706 kB 26.4 MB/s eta 0:00:01\r\u001b[K     |█████████████████████████▊      | 716 kB 26.4 MB/s eta 0:00:01\r\u001b[K     |██████████████████████████      | 727 kB 26.4 MB/s eta 0:00:01\r\u001b[K     |██████████████████████████▌     | 737 kB 26.4 MB/s eta 0:00:01\r\u001b[K     |██████████████████████████▉     | 747 kB 26.4 MB/s eta 0:00:01\r\u001b[K     |███████████████████████████▏    | 757 kB 26.4 MB/s eta 0:00:01\r\u001b[K     |███████████████████████████▋    | 768 kB 26.4 MB/s eta 0:00:01\r\u001b[K     |████████████████████████████    | 778 kB 26.4 MB/s eta 0:00:01\r\u001b[K     |████████████████████████████▎   | 788 kB 26.4 MB/s eta 0:00:01\r\u001b[K     |████████████████████████████▊   | 798 kB 26.4 MB/s eta 0:00:01\r\u001b[K     |█████████████████████████████   | 808 kB 26.4 MB/s eta 0:00:01\r\u001b[K     |█████████████████████████████▍  | 819 kB 26.4 MB/s eta 0:00:01\r\u001b[K     |█████████████████████████████▊  | 829 kB 26.4 MB/s eta 0:00:01\r\u001b[K     |██████████████████████████████▏ | 839 kB 26.4 MB/s eta 0:00:01\r\u001b[K     |██████████████████████████████▌ | 849 kB 26.4 MB/s eta 0:00:01\r\u001b[K     |██████████████████████████████▉ | 860 kB 26.4 MB/s eta 0:00:01\r\u001b[K     |███████████████████████████████▎| 870 kB 26.4 MB/s eta 0:00:01\r\u001b[K     |███████████████████████████████▋| 880 kB 26.4 MB/s eta 0:00:01\r\u001b[K     |████████████████████████████████| 890 kB 26.4 MB/s eta 0:00:01\r\u001b[K     |████████████████████████████████| 891 kB 26.4 MB/s \n",
            "\u001b[?25hCollecting lightgbm==3.1.1\n",
            "  Downloading lightgbm-3.1.1-py2.py3-none-manylinux1_x86_64.whl (1.8 MB)\n",
            "\u001b[?25l\r\u001b[K     |▏                               | 10 kB 26.6 MB/s eta 0:00:01\r\u001b[K     |▍                               | 20 kB 33.8 MB/s eta 0:00:01\r\u001b[K     |▋                               | 30 kB 43.0 MB/s eta 0:00:01\r\u001b[K     |▊                               | 40 kB 48.9 MB/s eta 0:00:01\r\u001b[K     |█                               | 51 kB 53.5 MB/s eta 0:00:01\r\u001b[K     |█▏                              | 61 kB 58.9 MB/s eta 0:00:01\r\u001b[K     |█▎                              | 71 kB 61.8 MB/s eta 0:00:01\r\u001b[K     |█▌                              | 81 kB 63.1 MB/s eta 0:00:01\r\u001b[K     |█▊                              | 92 kB 64.1 MB/s eta 0:00:01\r\u001b[K     |█▉                              | 102 kB 66.2 MB/s eta 0:00:01\r\u001b[K     |██                              | 112 kB 66.2 MB/s eta 0:00:01\r\u001b[K     |██▎                             | 122 kB 66.2 MB/s eta 0:00:01\r\u001b[K     |██▍                             | 133 kB 66.2 MB/s eta 0:00:01\r\u001b[K     |██▋                             | 143 kB 66.2 MB/s eta 0:00:01\r\u001b[K     |██▉                             | 153 kB 66.2 MB/s eta 0:00:01\r\u001b[K     |███                             | 163 kB 66.2 MB/s eta 0:00:01\r\u001b[K     |███▏                            | 174 kB 66.2 MB/s eta 0:00:01\r\u001b[K     |███▍                            | 184 kB 66.2 MB/s eta 0:00:01\r\u001b[K     |███▌                            | 194 kB 66.2 MB/s eta 0:00:01\r\u001b[K     |███▊                            | 204 kB 66.2 MB/s eta 0:00:01\r\u001b[K     |████                            | 215 kB 66.2 MB/s eta 0:00:01\r\u001b[K     |████                            | 225 kB 66.2 MB/s eta 0:00:01\r\u001b[K     |████▎                           | 235 kB 66.2 MB/s eta 0:00:01\r\u001b[K     |████▌                           | 245 kB 66.2 MB/s eta 0:00:01\r\u001b[K     |████▋                           | 256 kB 66.2 MB/s eta 0:00:01\r\u001b[K     |████▉                           | 266 kB 66.2 MB/s eta 0:00:01\r\u001b[K     |█████                           | 276 kB 66.2 MB/s eta 0:00:01\r\u001b[K     |█████▏                          | 286 kB 66.2 MB/s eta 0:00:01\r\u001b[K     |█████▍                          | 296 kB 66.2 MB/s eta 0:00:01\r\u001b[K     |█████▋                          | 307 kB 66.2 MB/s eta 0:00:01\r\u001b[K     |█████▊                          | 317 kB 66.2 MB/s eta 0:00:01\r\u001b[K     |██████                          | 327 kB 66.2 MB/s eta 0:00:01\r\u001b[K     |██████▏                         | 337 kB 66.2 MB/s eta 0:00:01\r\u001b[K     |██████▎                         | 348 kB 66.2 MB/s eta 0:00:01\r\u001b[K     |██████▌                         | 358 kB 66.2 MB/s eta 0:00:01\r\u001b[K     |██████▊                         | 368 kB 66.2 MB/s eta 0:00:01\r\u001b[K     |██████▉                         | 378 kB 66.2 MB/s eta 0:00:01\r\u001b[K     |███████                         | 389 kB 66.2 MB/s eta 0:00:01\r\u001b[K     |███████▎                        | 399 kB 66.2 MB/s eta 0:00:01\r\u001b[K     |███████▍                        | 409 kB 66.2 MB/s eta 0:00:01\r\u001b[K     |███████▋                        | 419 kB 66.2 MB/s eta 0:00:01\r\u001b[K     |███████▉                        | 430 kB 66.2 MB/s eta 0:00:01\r\u001b[K     |████████                        | 440 kB 66.2 MB/s eta 0:00:01\r\u001b[K     |████████▏                       | 450 kB 66.2 MB/s eta 0:00:01\r\u001b[K     |████████▍                       | 460 kB 66.2 MB/s eta 0:00:01\r\u001b[K     |████████▌                       | 471 kB 66.2 MB/s eta 0:00:01\r\u001b[K     |████████▊                       | 481 kB 66.2 MB/s eta 0:00:01\r\u001b[K     |█████████                       | 491 kB 66.2 MB/s eta 0:00:01\r\u001b[K     |█████████                       | 501 kB 66.2 MB/s eta 0:00:01\r\u001b[K     |█████████▎                      | 512 kB 66.2 MB/s eta 0:00:01\r\u001b[K     |█████████▌                      | 522 kB 66.2 MB/s eta 0:00:01\r\u001b[K     |█████████▋                      | 532 kB 66.2 MB/s eta 0:00:01\r\u001b[K     |█████████▉                      | 542 kB 66.2 MB/s eta 0:00:01\r\u001b[K     |██████████                      | 552 kB 66.2 MB/s eta 0:00:01\r\u001b[K     |██████████▏                     | 563 kB 66.2 MB/s eta 0:00:01\r\u001b[K     |██████████▍                     | 573 kB 66.2 MB/s eta 0:00:01\r\u001b[K     |██████████▋                     | 583 kB 66.2 MB/s eta 0:00:01\r\u001b[K     |██████████▊                     | 593 kB 66.2 MB/s eta 0:00:01\r\u001b[K     |███████████                     | 604 kB 66.2 MB/s eta 0:00:01\r\u001b[K     |███████████▏                    | 614 kB 66.2 MB/s eta 0:00:01\r\u001b[K     |███████████▎                    | 624 kB 66.2 MB/s eta 0:00:01\r\u001b[K     |███████████▌                    | 634 kB 66.2 MB/s eta 0:00:01\r\u001b[K     |███████████▊                    | 645 kB 66.2 MB/s eta 0:00:01\r\u001b[K     |███████████▉                    | 655 kB 66.2 MB/s eta 0:00:01\r\u001b[K     |████████████                    | 665 kB 66.2 MB/s eta 0:00:01\r\u001b[K     |████████████▎                   | 675 kB 66.2 MB/s eta 0:00:01\r\u001b[K     |████████████▍                   | 686 kB 66.2 MB/s eta 0:00:01\r\u001b[K     |████████████▋                   | 696 kB 66.2 MB/s eta 0:00:01\r\u001b[K     |████████████▉                   | 706 kB 66.2 MB/s eta 0:00:01\r\u001b[K     |█████████████                   | 716 kB 66.2 MB/s eta 0:00:01\r\u001b[K     |█████████████▏                  | 727 kB 66.2 MB/s eta 0:00:01\r\u001b[K     |█████████████▍                  | 737 kB 66.2 MB/s eta 0:00:01\r\u001b[K     |█████████████▌                  | 747 kB 66.2 MB/s eta 0:00:01\r\u001b[K     |█████████████▊                  | 757 kB 66.2 MB/s eta 0:00:01\r\u001b[K     |██████████████                  | 768 kB 66.2 MB/s eta 0:00:01\r\u001b[K     |██████████████                  | 778 kB 66.2 MB/s eta 0:00:01\r\u001b[K     |██████████████▎                 | 788 kB 66.2 MB/s eta 0:00:01\r\u001b[K     |██████████████▌                 | 798 kB 66.2 MB/s eta 0:00:01\r\u001b[K     |██████████████▋                 | 808 kB 66.2 MB/s eta 0:00:01\r\u001b[K     |██████████████▉                 | 819 kB 66.2 MB/s eta 0:00:01\r\u001b[K     |███████████████                 | 829 kB 66.2 MB/s eta 0:00:01\r\u001b[K     |███████████████▏                | 839 kB 66.2 MB/s eta 0:00:01\r\u001b[K     |███████████████▍                | 849 kB 66.2 MB/s eta 0:00:01\r\u001b[K     |███████████████▋                | 860 kB 66.2 MB/s eta 0:00:01\r\u001b[K     |███████████████▊                | 870 kB 66.2 MB/s eta 0:00:01\r\u001b[K     |████████████████                | 880 kB 66.2 MB/s eta 0:00:01\r\u001b[K     |████████████████▏               | 890 kB 66.2 MB/s eta 0:00:01\r\u001b[K     |████████████████▍               | 901 kB 66.2 MB/s eta 0:00:01\r\u001b[K     |████████████████▌               | 911 kB 66.2 MB/s eta 0:00:01\r\u001b[K     |████████████████▊               | 921 kB 66.2 MB/s eta 0:00:01\r\u001b[K     |█████████████████               | 931 kB 66.2 MB/s eta 0:00:01\r\u001b[K     |█████████████████               | 942 kB 66.2 MB/s eta 0:00:01\r\u001b[K     |█████████████████▎              | 952 kB 66.2 MB/s eta 0:00:01\r\u001b[K     |█████████████████▌              | 962 kB 66.2 MB/s eta 0:00:01\r\u001b[K     |█████████████████▋              | 972 kB 66.2 MB/s eta 0:00:01\r\u001b[K     |█████████████████▉              | 983 kB 66.2 MB/s eta 0:00:01\r\u001b[K     |██████████████████              | 993 kB 66.2 MB/s eta 0:00:01\r\u001b[K     |██████████████████▏             | 1.0 MB 66.2 MB/s eta 0:00:01\r\u001b[K     |██████████████████▍             | 1.0 MB 66.2 MB/s eta 0:00:01\r\u001b[K     |██████████████████▋             | 1.0 MB 66.2 MB/s eta 0:00:01\r\u001b[K     |██████████████████▊             | 1.0 MB 66.2 MB/s eta 0:00:01\r\u001b[K     |███████████████████             | 1.0 MB 66.2 MB/s eta 0:00:01\r\u001b[K     |███████████████████▏            | 1.1 MB 66.2 MB/s eta 0:00:01\r\u001b[K     |███████████████████▎            | 1.1 MB 66.2 MB/s eta 0:00:01\r\u001b[K     |███████████████████▌            | 1.1 MB 66.2 MB/s eta 0:00:01\r\u001b[K     |███████████████████▊            | 1.1 MB 66.2 MB/s eta 0:00:01\r\u001b[K     |███████████████████▉            | 1.1 MB 66.2 MB/s eta 0:00:01\r\u001b[K     |████████████████████            | 1.1 MB 66.2 MB/s eta 0:00:01\r\u001b[K     |████████████████████▎           | 1.1 MB 66.2 MB/s eta 0:00:01\r\u001b[K     |████████████████████▍           | 1.1 MB 66.2 MB/s eta 0:00:01\r\u001b[K     |████████████████████▋           | 1.1 MB 66.2 MB/s eta 0:00:01\r\u001b[K     |████████████████████▉           | 1.1 MB 66.2 MB/s eta 0:00:01\r\u001b[K     |█████████████████████           | 1.2 MB 66.2 MB/s eta 0:00:01\r\u001b[K     |█████████████████████▏          | 1.2 MB 66.2 MB/s eta 0:00:01\r\u001b[K     |█████████████████████▍          | 1.2 MB 66.2 MB/s eta 0:00:01\r\u001b[K     |█████████████████████▌          | 1.2 MB 66.2 MB/s eta 0:00:01\r\u001b[K     |█████████████████████▊          | 1.2 MB 66.2 MB/s eta 0:00:01\r\u001b[K     |██████████████████████          | 1.2 MB 66.2 MB/s eta 0:00:01\r\u001b[K     |██████████████████████          | 1.2 MB 66.2 MB/s eta 0:00:01\r\u001b[K     |██████████████████████▎         | 1.2 MB 66.2 MB/s eta 0:00:01\r\u001b[K     |██████████████████████▌         | 1.2 MB 66.2 MB/s eta 0:00:01\r\u001b[K     |██████████████████████▋         | 1.2 MB 66.2 MB/s eta 0:00:01\r\u001b[K     |██████████████████████▉         | 1.3 MB 66.2 MB/s eta 0:00:01\r\u001b[K     |███████████████████████         | 1.3 MB 66.2 MB/s eta 0:00:01\r\u001b[K     |███████████████████████▏        | 1.3 MB 66.2 MB/s eta 0:00:01\r\u001b[K     |███████████████████████▍        | 1.3 MB 66.2 MB/s eta 0:00:01\r\u001b[K     |███████████████████████▋        | 1.3 MB 66.2 MB/s eta 0:00:01\r\u001b[K     |███████████████████████▊        | 1.3 MB 66.2 MB/s eta 0:00:01\r\u001b[K     |████████████████████████        | 1.3 MB 66.2 MB/s eta 0:00:01\r\u001b[K     |████████████████████████▏       | 1.3 MB 66.2 MB/s eta 0:00:01\r\u001b[K     |████████████████████████▎       | 1.3 MB 66.2 MB/s eta 0:00:01\r\u001b[K     |████████████████████████▌       | 1.4 MB 66.2 MB/s eta 0:00:01\r\u001b[K     |████████████████████████▊       | 1.4 MB 66.2 MB/s eta 0:00:01\r\u001b[K     |████████████████████████▉       | 1.4 MB 66.2 MB/s eta 0:00:01\r\u001b[K     |█████████████████████████       | 1.4 MB 66.2 MB/s eta 0:00:01\r\u001b[K     |█████████████████████████▎      | 1.4 MB 66.2 MB/s eta 0:00:01\r\u001b[K     |█████████████████████████▍      | 1.4 MB 66.2 MB/s eta 0:00:01\r\u001b[K     |█████████████████████████▋      | 1.4 MB 66.2 MB/s eta 0:00:01\r\u001b[K     |█████████████████████████▉      | 1.4 MB 66.2 MB/s eta 0:00:01\r\u001b[K     |██████████████████████████      | 1.4 MB 66.2 MB/s eta 0:00:01\r\u001b[K     |██████████████████████████▏     | 1.4 MB 66.2 MB/s eta 0:00:01\r\u001b[K     |██████████████████████████▍     | 1.5 MB 66.2 MB/s eta 0:00:01\r\u001b[K     |██████████████████████████▌     | 1.5 MB 66.2 MB/s eta 0:00:01\r\u001b[K     |██████████████████████████▊     | 1.5 MB 66.2 MB/s eta 0:00:01\r\u001b[K     |███████████████████████████     | 1.5 MB 66.2 MB/s eta 0:00:01\r\u001b[K     |███████████████████████████     | 1.5 MB 66.2 MB/s eta 0:00:01\r\u001b[K     |███████████████████████████▎    | 1.5 MB 66.2 MB/s eta 0:00:01\r\u001b[K     |███████████████████████████▌    | 1.5 MB 66.2 MB/s eta 0:00:01\r\u001b[K     |███████████████████████████▋    | 1.5 MB 66.2 MB/s eta 0:00:01\r\u001b[K     |███████████████████████████▉    | 1.5 MB 66.2 MB/s eta 0:00:01\r\u001b[K     |████████████████████████████    | 1.5 MB 66.2 MB/s eta 0:00:01\r\u001b[K     |████████████████████████████▏   | 1.6 MB 66.2 MB/s eta 0:00:01\r\u001b[K     |████████████████████████████▍   | 1.6 MB 66.2 MB/s eta 0:00:01\r\u001b[K     |████████████████████████████▋   | 1.6 MB 66.2 MB/s eta 0:00:01\r\u001b[K     |████████████████████████████▊   | 1.6 MB 66.2 MB/s eta 0:00:01\r\u001b[K     |█████████████████████████████   | 1.6 MB 66.2 MB/s eta 0:00:01\r\u001b[K     |█████████████████████████████▏  | 1.6 MB 66.2 MB/s eta 0:00:01\r\u001b[K     |█████████████████████████████▎  | 1.6 MB 66.2 MB/s eta 0:00:01\r\u001b[K     |█████████████████████████████▌  | 1.6 MB 66.2 MB/s eta 0:00:01\r\u001b[K     |█████████████████████████████▊  | 1.6 MB 66.2 MB/s eta 0:00:01\r\u001b[K     |█████████████████████████████▉  | 1.6 MB 66.2 MB/s eta 0:00:01\r\u001b[K     |██████████████████████████████  | 1.7 MB 66.2 MB/s eta 0:00:01\r\u001b[K     |██████████████████████████████▎ | 1.7 MB 66.2 MB/s eta 0:00:01\r\u001b[K     |██████████████████████████████▍ | 1.7 MB 66.2 MB/s eta 0:00:01\r\u001b[K     |██████████████████████████████▋ | 1.7 MB 66.2 MB/s eta 0:00:01\r\u001b[K     |██████████████████████████████▉ | 1.7 MB 66.2 MB/s eta 0:00:01\r\u001b[K     |███████████████████████████████ | 1.7 MB 66.2 MB/s eta 0:00:01\r\u001b[K     |███████████████████████████████▏| 1.7 MB 66.2 MB/s eta 0:00:01\r\u001b[K     |███████████████████████████████▍| 1.7 MB 66.2 MB/s eta 0:00:01\r\u001b[K     |███████████████████████████████▌| 1.7 MB 66.2 MB/s eta 0:00:01\r\u001b[K     |███████████████████████████████▊| 1.8 MB 66.2 MB/s eta 0:00:01\r\u001b[K     |████████████████████████████████| 1.8 MB 66.2 MB/s eta 0:00:01\r\u001b[K     |████████████████████████████████| 1.8 MB 66.2 MB/s \n",
            "\u001b[?25hRequirement already satisfied: numpy in /usr/local/lib/python3.7/dist-packages (from lightgbm==3.1.1) (1.19.5)\n",
            "Requirement already satisfied: wheel in /usr/local/lib/python3.7/dist-packages (from lightgbm==3.1.1) (0.37.0)\n",
            "Requirement already satisfied: scikit-learn!=0.22.0 in /usr/local/lib/python3.7/dist-packages (from lightgbm==3.1.1) (1.0.1)\n",
            "Requirement already satisfied: scipy in /usr/local/lib/python3.7/dist-packages (from lightgbm==3.1.1) (1.4.1)\n",
            "Requirement already satisfied: threadpoolctl>=2.0.0 in /usr/local/lib/python3.7/dist-packages (from scikit-learn!=0.22.0->lightgbm==3.1.1) (3.0.0)\n",
            "Requirement already satisfied: joblib>=0.11 in /usr/local/lib/python3.7/dist-packages (from scikit-learn!=0.22.0->lightgbm==3.1.1) (1.1.0)\n",
            "Requirement already satisfied: attrs in /usr/local/lib/python3.7/dist-packages (from fastrank) (21.2.0)\n",
            "Requirement already satisfied: cffi in /usr/local/lib/python3.7/dist-packages (from fastrank) (1.15.0)\n",
            "Requirement already satisfied: pycparser in /usr/local/lib/python3.7/dist-packages (from cffi->fastrank) (2.21)\n",
            "Installing collected packages: lightgbm, fastrank\n",
            "  Attempting uninstall: lightgbm\n",
            "    Found existing installation: lightgbm 2.2.3\n",
            "    Uninstalling lightgbm-2.2.3:\n",
            "      Successfully uninstalled lightgbm-2.2.3\n",
            "Successfully installed fastrank-0.7.0 lightgbm-3.1.1\n",
            "Collecting python-terrier\n",
            "  Downloading python-terrier-0.7.1.tar.gz (95 kB)\n",
            "\u001b[K     |████████████████████████████████| 95 kB 4.1 MB/s \n",
            "\u001b[?25hRequirement already satisfied: numpy in /usr/local/lib/python3.7/dist-packages (from python-terrier) (1.19.5)\n",
            "Requirement already satisfied: pandas in /usr/local/lib/python3.7/dist-packages (from python-terrier) (1.1.5)\n",
            "Collecting wget\n",
            "  Downloading wget-3.2.zip (10 kB)\n",
            "Requirement already satisfied: tqdm in /usr/local/lib/python3.7/dist-packages (from python-terrier) (4.62.3)\n",
            "Collecting pyjnius~=1.3.0\n",
            "  Downloading pyjnius-1.3.0-cp37-cp37m-manylinux2010_x86_64.whl (1.1 MB)\n",
            "\u001b[K     |████████████████████████████████| 1.1 MB 47.4 MB/s \n",
            "\u001b[?25hCollecting matchpy\n",
            "  Downloading matchpy-0.5.5-py3-none-any.whl (69 kB)\n",
            "\u001b[K     |████████████████████████████████| 69 kB 7.7 MB/s \n",
            "\u001b[?25hRequirement already satisfied: sklearn in /usr/local/lib/python3.7/dist-packages (from python-terrier) (0.0)\n",
            "Collecting deprecation\n",
            "  Downloading deprecation-2.1.0-py2.py3-none-any.whl (11 kB)\n",
            "Collecting chest\n",
            "  Downloading chest-0.2.3.tar.gz (9.6 kB)\n",
            "Requirement already satisfied: scipy in /usr/local/lib/python3.7/dist-packages (from python-terrier) (1.4.1)\n",
            "Requirement already satisfied: requests in /usr/local/lib/python3.7/dist-packages (from python-terrier) (2.23.0)\n",
            "Requirement already satisfied: joblib in /usr/local/lib/python3.7/dist-packages (from python-terrier) (1.1.0)\n",
            "Collecting nptyping\n",
            "  Downloading nptyping-1.4.4-py3-none-any.whl (31 kB)\n",
            "Requirement already satisfied: more_itertools in /usr/local/lib/python3.7/dist-packages (from python-terrier) (8.12.0)\n",
            "Collecting ir_datasets>=0.3.2\n",
            "  Downloading ir_datasets-0.5.0-py3-none-any.whl (255 kB)\n",
            "\u001b[K     |████████████████████████████████| 255 kB 52.4 MB/s \n",
            "\u001b[?25hRequirement already satisfied: jinja2 in /usr/local/lib/python3.7/dist-packages (from python-terrier) (2.11.3)\n",
            "Requirement already satisfied: statsmodels in /usr/local/lib/python3.7/dist-packages (from python-terrier) (0.10.2)\n",
            "Collecting ir_measures>=0.2.0\n",
            "  Downloading ir_measures-0.2.3.tar.gz (41 kB)\n",
            "\u001b[K     |████████████████████████████████| 41 kB 295 kB/s \n",
            "\u001b[?25hRequirement already satisfied: dill in /usr/local/lib/python3.7/dist-packages (from python-terrier) (0.3.4)\n",
            "Collecting lxml>=4.5.2\n",
            "  Downloading lxml-4.6.5-cp37-cp37m-manylinux_2_17_x86_64.manylinux2014_x86_64.manylinux_2_24_x86_64.whl (6.3 MB)\n",
            "\u001b[K     |████████████████████████████████| 6.3 MB 45.6 MB/s \n",
            "\u001b[?25hCollecting lz4>=3.1.1\n",
            "  Downloading lz4-3.1.10-cp37-cp37m-manylinux2010_x86_64.whl (1.8 MB)\n",
            "\u001b[K     |████████████████████████████████| 1.8 MB 36.4 MB/s \n",
            "\u001b[?25hCollecting trec-car-tools>=2.5.4\n",
            "  Downloading trec_car_tools-2.5.4-py3-none-any.whl (8.1 kB)\n",
            "Collecting warc3-wet-clueweb09>=0.2.5\n",
            "  Downloading warc3-wet-clueweb09-0.2.5.tar.gz (17 kB)\n",
            "Collecting zlib-state>=0.1.3\n",
            "  Downloading zlib_state-0.1.5-cp37-cp37m-manylinux2010_x86_64.whl (72 kB)\n",
            "\u001b[K     |████████████████████████████████| 72 kB 1.4 MB/s \n",
            "\u001b[?25hCollecting warc3-wet>=0.2.3\n",
            "  Downloading warc3_wet-0.2.3-py3-none-any.whl (13 kB)\n",
            "Collecting pyautocorpus>=0.1.1\n",
            "  Downloading pyautocorpus-0.1.8-cp37-cp37m-manylinux_2_12_x86_64.manylinux2010_x86_64.whl (294 kB)\n",
            "\u001b[K     |████████████████████████████████| 294 kB 50.3 MB/s \n",
            "\u001b[?25hCollecting pyyaml>=5.3.1\n",
            "  Downloading PyYAML-6.0-cp37-cp37m-manylinux_2_5_x86_64.manylinux1_x86_64.manylinux_2_12_x86_64.manylinux2010_x86_64.whl (596 kB)\n",
            "\u001b[K     |████████████████████████████████| 596 kB 47.4 MB/s \n",
            "\u001b[?25hCollecting ijson>=3.1.3\n",
            "  Downloading ijson-3.1.4-cp37-cp37m-manylinux2010_x86_64.whl (126 kB)\n",
            "\u001b[K     |████████████████████████████████| 126 kB 44.9 MB/s \n",
            "\u001b[?25hRequirement already satisfied: beautifulsoup4>=4.4.1 in /usr/local/lib/python3.7/dist-packages (from ir_datasets>=0.3.2->python-terrier) (4.6.3)\n",
            "Collecting pytrec-eval-terrier==0.5.1\n",
            "  Downloading pytrec_eval_terrier-0.5.1-cp37-cp37m-manylinux2010_x86_64.whl (291 kB)\n",
            "\u001b[K     |████████████████████████████████| 291 kB 46.6 MB/s \n",
            "\u001b[?25hCollecting cwl-eval>=1.0.10\n",
            "  Downloading cwl-eval-1.0.10.tar.gz (31 kB)\n",
            "Collecting pyndeval>=0.0.2\n",
            "  Downloading pyndeval-0.0.2-cp37-cp37m-manylinux_2_5_x86_64.manylinux1_x86_64.manylinux_2_12_x86_64.manylinux2010_x86_64.whl (59 kB)\n",
            "\u001b[K     |████████████████████████████████| 59 kB 6.8 MB/s \n",
            "\u001b[?25hRequirement already satisfied: cython in /usr/local/lib/python3.7/dist-packages (from pyjnius~=1.3.0->python-terrier) (0.29.24)\n",
            "Requirement already satisfied: six>=1.7.0 in /usr/local/lib/python3.7/dist-packages (from pyjnius~=1.3.0->python-terrier) (1.15.0)\n",
            "Requirement already satisfied: idna<3,>=2.5 in /usr/local/lib/python3.7/dist-packages (from requests->python-terrier) (2.10)\n",
            "Requirement already satisfied: chardet<4,>=3.0.2 in /usr/local/lib/python3.7/dist-packages (from requests->python-terrier) (3.0.4)\n",
            "Requirement already satisfied: urllib3!=1.25.0,!=1.25.1,<1.26,>=1.21.1 in /usr/local/lib/python3.7/dist-packages (from requests->python-terrier) (1.24.3)\n",
            "Requirement already satisfied: certifi>=2017.4.17 in /usr/local/lib/python3.7/dist-packages (from requests->python-terrier) (2021.10.8)\n",
            "Collecting cbor>=1.0.0\n",
            "  Downloading cbor-1.0.0.tar.gz (20 kB)\n",
            "Requirement already satisfied: heapdict in /usr/local/lib/python3.7/dist-packages (from chest->python-terrier) (1.0.1)\n",
            "Requirement already satisfied: packaging in /usr/local/lib/python3.7/dist-packages (from deprecation->python-terrier) (21.3)\n",
            "Requirement already satisfied: MarkupSafe>=0.23 in /usr/local/lib/python3.7/dist-packages (from jinja2->python-terrier) (2.0.1)\n",
            "Collecting multiset<3.0,>=2.0\n",
            "  Downloading multiset-2.1.1-py2.py3-none-any.whl (8.8 kB)\n",
            "Collecting typish>=1.7.0\n",
            "  Downloading typish-1.9.3-py3-none-any.whl (45 kB)\n",
            "\u001b[K     |████████████████████████████████| 45 kB 3.0 MB/s \n",
            "\u001b[?25hRequirement already satisfied: pyparsing!=3.0.5,>=2.0.2 in /usr/local/lib/python3.7/dist-packages (from packaging->deprecation->python-terrier) (3.0.6)\n",
            "Requirement already satisfied: python-dateutil>=2.7.3 in /usr/local/lib/python3.7/dist-packages (from pandas->python-terrier) (2.8.2)\n",
            "Requirement already satisfied: pytz>=2017.2 in /usr/local/lib/python3.7/dist-packages (from pandas->python-terrier) (2018.9)\n",
            "Requirement already satisfied: scikit-learn in /usr/local/lib/python3.7/dist-packages (from sklearn->python-terrier) (1.0.1)\n",
            "Requirement already satisfied: threadpoolctl>=2.0.0 in /usr/local/lib/python3.7/dist-packages (from scikit-learn->sklearn->python-terrier) (3.0.0)\n",
            "Requirement already satisfied: patsy>=0.4.0 in /usr/local/lib/python3.7/dist-packages (from statsmodels->python-terrier) (0.5.2)\n",
            "Building wheels for collected packages: python-terrier, ir-measures, cwl-eval, cbor, warc3-wet-clueweb09, chest, wget\n",
            "  Building wheel for python-terrier (setup.py) ... \u001b[?25l\u001b[?25hdone\n",
            "  Created wheel for python-terrier: filename=python_terrier-0.7.1-py3-none-any.whl size=102452 sha256=102aa86c0d4e921d6748d670c92f0fc0d166c26637acfe58e03367d8cab8932e\n",
            "  Stored in directory: /root/.cache/pip/wheels/c0/9a/c8/1c2d9ec6a1494bb54f47e0d2627b5ed7b2de704b66723d3417\n",
            "  Building wheel for ir-measures (setup.py) ... \u001b[?25l\u001b[?25hdone\n",
            "  Created wheel for ir-measures: filename=ir_measures-0.2.3-py3-none-any.whl size=53216 sha256=b7eb7c6a58094600104627616cbbab5a10fe0849401dc5bae28c6f623e5495ce\n",
            "  Stored in directory: /root/.cache/pip/wheels/b2/06/1b/b8dc2d9a9802a9c30dd3a28d4199061297df0034d8ab9b808a\n",
            "  Building wheel for cwl-eval (setup.py) ... \u001b[?25l\u001b[?25hdone\n",
            "  Created wheel for cwl-eval: filename=cwl_eval-1.0.10-py3-none-any.whl size=37795 sha256=cb887573289c009e8df7b835f0a96c5785338e530abd68761a2f76c4deb8778b\n",
            "  Stored in directory: /root/.cache/pip/wheels/ff/e9/ff/d2b6d72d9feb0d0b1b11aacfaf5cd866717034615c2d194093\n",
            "  Building wheel for cbor (setup.py) ... \u001b[?25l\u001b[?25hdone\n",
            "  Created wheel for cbor: filename=cbor-1.0.0-cp37-cp37m-linux_x86_64.whl size=51313 sha256=8617e199e624fee5083b56713f69c332a734cd918e883eb8175ee8a8a1a45018\n",
            "  Stored in directory: /root/.cache/pip/wheels/19/77/49/c9c2c8dc5848502e606e8579d0bbda18b850fb056a6c62239d\n",
            "  Building wheel for warc3-wet-clueweb09 (setup.py) ... \u001b[?25l\u001b[?25hdone\n",
            "  Created wheel for warc3-wet-clueweb09: filename=warc3_wet_clueweb09-0.2.5-py3-none-any.whl size=18921 sha256=8c680ea10bbb7b4eded916a7e14626f7f12bb7534119a7158a8e47716ad0138a\n",
            "  Stored in directory: /root/.cache/pip/wheels/42/d4/3c/7c2b0c3d400ad744e4db69f2fde166655da2ed2198bfc02db6\n",
            "  Building wheel for chest (setup.py) ... \u001b[?25l\u001b[?25hdone\n",
            "  Created wheel for chest: filename=chest-0.2.3-py3-none-any.whl size=7632 sha256=2c568e713590e5ff7b3be49dc4159bd88f105df43d72e980342dfea6e93037cb\n",
            "  Stored in directory: /root/.cache/pip/wheels/fc/f5/b9/c436e11300809e6b40d46a5d2592fb0bff89e0712f2e878dc7\n",
            "  Building wheel for wget (setup.py) ... \u001b[?25l\u001b[?25hdone\n",
            "  Created wheel for wget: filename=wget-3.2-py3-none-any.whl size=9672 sha256=261420da7127b74b6977e50d8624d8d3c03688764598a71c8072fab84999d165\n",
            "  Stored in directory: /root/.cache/pip/wheels/a1/b6/7c/0e63e34eb06634181c63adacca38b79ff8f35c37e3c13e3c02\n",
            "Successfully built python-terrier ir-measures cwl-eval cbor warc3-wet-clueweb09 chest wget\n",
            "Installing collected packages: cbor, zlib-state, warc3-wet-clueweb09, warc3-wet, typish, trec-car-tools, pyyaml, pytrec-eval-terrier, pyndeval, pyautocorpus, multiset, lz4, lxml, ijson, cwl-eval, wget, pyjnius, nptyping, matchpy, ir-measures, ir-datasets, deprecation, chest, python-terrier\n",
            "  Attempting uninstall: pyyaml\n",
            "    Found existing installation: PyYAML 3.13\n",
            "    Uninstalling PyYAML-3.13:\n",
            "      Successfully uninstalled PyYAML-3.13\n",
            "  Attempting uninstall: lxml\n",
            "    Found existing installation: lxml 4.2.6\n",
            "    Uninstalling lxml-4.2.6:\n",
            "      Successfully uninstalled lxml-4.2.6\n",
            "Successfully installed cbor-1.0.0 chest-0.2.3 cwl-eval-1.0.10 deprecation-2.1.0 ijson-3.1.4 ir-datasets-0.5.0 ir-measures-0.2.3 lxml-4.6.5 lz4-3.1.10 matchpy-0.5.5 multiset-2.1.1 nptyping-1.4.4 pyautocorpus-0.1.8 pyjnius-1.3.0 pyndeval-0.0.2 python-terrier-0.7.1 pytrec-eval-terrier-0.5.1 pyyaml-6.0 trec-car-tools-2.5.4 typish-1.9.3 warc3-wet-0.2.3 warc3-wet-clueweb09-0.2.5 wget-3.2 zlib-state-0.1.5\n"
          ]
        }
      ],
      "source": [
        "!pip install --upgrade fastrank lightgbm==3.1.1\n",
        "!pip install python-terrier\n",
        "# !pip install --upgrade git+https://github.com/Georgetown-IR-Lab/OpenNIR\n",
        "# !pip install --upgrade git+https://github.com/terrierteam/pyterrier_doc2query.git"
      ]
    },
    {
      "cell_type": "code",
      "execution_count": null,
      "metadata": {
        "id": "X6qix9ERhctj"
      },
      "outputs": [],
      "source": [
        "import pyterrier as pt\n",
        "import pandas as pd\n",
        "import os\n",
        "# import onir_pt"
      ]
    },
    {
      "cell_type": "code",
      "execution_count": null,
      "metadata": {
        "colab": {
          "base_uri": "https://localhost:8080/"
        },
        "id": "ch0TmjGdhdop",
        "outputId": "41964993-4ba2-4cc7-8879-882e73d92c20"
      },
      "outputs": [
        {
          "name": "stdout",
          "output_type": "stream",
          "text": [
            "terrier-assemblies 5.6 jar-with-dependencies not found, downloading to /root/.pyterrier...\n",
            "Done\n",
            "terrier-python-helper 0.0.6 jar not found, downloading to /root/.pyterrier...\n",
            "Done\n",
            "PyTerrier 0.7.1 has loaded Terrier 5.6 (built by craigmacdonald on 2021-09-17 13:27)\n"
          ]
        }
      ],
      "source": [
        "if not pt.started():\n",
        "    pt.init()"
      ]
    },
    {
      "cell_type": "code",
      "execution_count": null,
      "metadata": {
        "colab": {
          "base_uri": "https://localhost:8080/",
          "height": 76,
          "resources": {
            "http://localhost:8080/nbextensions/google.colab/files.js": {
              "data": "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",
              "headers": [
                [
                  "content-type",
                  "application/javascript"
                ]
              ],
              "ok": true,
              "status": 200,
              "status_text": ""
            }
          }
        },
        "id": "AZuHDDgSottP",
        "outputId": "c44e3211-74a7-4383-9d60-3d590b1886b5"
      },
      "outputs": [
        {
          "data": {
            "text/html": [
              "\n",
              "     <input type=\"file\" id=\"files-95efb6c9-7fdc-43a2-af8f-78166ae7c95a\" name=\"files[]\" multiple disabled\n",
              "        style=\"border:none\" />\n",
              "     <output id=\"result-95efb6c9-7fdc-43a2-af8f-78166ae7c95a\">\n",
              "      Upload widget is only available when the cell has been executed in the\n",
              "      current browser session. Please rerun this cell to enable.\n",
              "      </output>\n",
              "      <script src=\"/nbextensions/google.colab/files.js\"></script> "
            ],
            "text/plain": [
              "<IPython.core.display.HTML object>"
            ]
          },
          "metadata": {},
          "output_type": "display_data"
        },
        {
          "name": "stdout",
          "output_type": "stream",
          "text": [
            "Saving final_documents.csv to final_documents.csv\n"
          ]
        }
      ],
      "source": [
        "from google.colab import files\n",
        "uploaded = files.upload()"
      ]
    },
    {
      "cell_type": "code",
      "execution_count": null,
      "metadata": {
        "colab": {
          "base_uri": "https://localhost:8080/",
          "height": 591
        },
        "id": "rPEK6Jx05JEU",
        "outputId": "5ef4937c-45c1-4ba4-fbad-7a0cb61e29b0"
      },
      "outputs": [
        {
          "data": {
            "text/html": [
              "<div>\n",
              "<style scoped>\n",
              "    .dataframe tbody tr th:only-of-type {\n",
              "        vertical-align: middle;\n",
              "    }\n",
              "\n",
              "    .dataframe tbody tr th {\n",
              "        vertical-align: top;\n",
              "    }\n",
              "\n",
              "    .dataframe thead th {\n",
              "        text-align: right;\n",
              "    }\n",
              "</style>\n",
              "<table border=\"1\" class=\"dataframe\">\n",
              "  <thead>\n",
              "    <tr style=\"text-align: right;\">\n",
              "      <th></th>\n",
              "      <th>docno</th>\n",
              "      <th>place_id</th>\n",
              "      <th>name</th>\n",
              "      <th>map_name</th>\n",
              "      <th>state</th>\n",
              "      <th>lat</th>\n",
              "      <th>lng</th>\n",
              "      <th>title</th>\n",
              "      <th>description</th>\n",
              "      <th>rating</th>\n",
              "      <th>review_text_1</th>\n",
              "      <th>review_time_1</th>\n",
              "      <th>review_text_2</th>\n",
              "      <th>review_time_2</th>\n",
              "      <th>review_text_3</th>\n",
              "      <th>review_time_3</th>\n",
              "      <th>review_text_4</th>\n",
              "      <th>review_time_4</th>\n",
              "      <th>review_text_5</th>\n",
              "      <th>review_time_5</th>\n",
              "    </tr>\n",
              "  </thead>\n",
              "  <tbody>\n",
              "    <tr>\n",
              "      <th>0</th>\n",
              "      <td>1</td>\n",
              "      <td>ChIJ_VVXImAMyFYRnus7r5Dykqs</td>\n",
              "      <td>26 Glacier Cruise</td>\n",
              "      <td>26 Glacier Cruise</td>\n",
              "      <td>Alaska</td>\n",
              "      <td>60.777823</td>\n",
              "      <td>-148.697484</td>\n",
              "      <td>26 Glacier Cruise - Whittier, Alaska - Alaska ...</td>\n",
              "      <td>26 Glacier Cruise takes passengers around the ...</td>\n",
              "      <td>4.8</td>\n",
              "      <td>Fantastic experience! The pictures attached to...</td>\n",
              "      <td>1636781828.0</td>\n",
              "      <td>The cruise so worth and highly recommend if an...</td>\n",
              "      <td>1630602901.0</td>\n",
              "      <td>Booked the 26 Glaciers but changed to the shor...</td>\n",
              "      <td>1629765328.0</td>\n",
              "      <td>One of our best tour experiences during our vi...</td>\n",
              "      <td>1626901581.0</td>\n",
              "      <td>OMG! My family and I had an amazing Time on th...</td>\n",
              "      <td>1626768663.0</td>\n",
              "    </tr>\n",
              "    <tr>\n",
              "      <th>1</th>\n",
              "      <td>2</td>\n",
              "      <td>ChIJH0jnvSmWyFYRXV2yOkGp6Ac</td>\n",
              "      <td>5th Avenue Mall</td>\n",
              "      <td>Anchorage 5th Avenue Mall</td>\n",
              "      <td>Alaska</td>\n",
              "      <td>61.216889</td>\n",
              "      <td>-149.888942</td>\n",
              "      <td>5th Avenue Mall - Anchorage, Alaska - Shopping...</td>\n",
              "      <td>5th Avenue Mall is located at West 5th Avenue ...</td>\n",
              "      <td>4.2</td>\n",
              "      <td>While there are many vacancies currently, this...</td>\n",
              "      <td>1636418825.0</td>\n",
              "      <td>Pretty good... I haven't been here for years. ...</td>\n",
              "      <td>1637807843.0</td>\n",
              "      <td>Visited my favorite shoe store (The Alaska Wal...</td>\n",
              "      <td>1619913101.0</td>\n",
              "      <td>Location is prime. This place has the best loc...</td>\n",
              "      <td>1626155621.0</td>\n",
              "      <td>I truly value my bi-weekly visits here! The su...</td>\n",
              "      <td>1636152161.0</td>\n",
              "    </tr>\n",
              "    <tr>\n",
              "      <th>2</th>\n",
              "      <td>3</td>\n",
              "      <td>ChIJyYLv3YLfAFQRwdhiwYC5zcQ</td>\n",
              "      <td>A Gallery in Juneau</td>\n",
              "      <td>Juneau Artists Gallery Ltd</td>\n",
              "      <td>Alaska</td>\n",
              "      <td>58.300215</td>\n",
              "      <td>-134.404656</td>\n",
              "      <td>A Gallery in Juneau</td>\n",
              "      <td>Like many cities in Alaska, Juneau has numerou...</td>\n",
              "      <td>4.5</td>\n",
              "      <td>Great assortment of local artist works, with a...</td>\n",
              "      <td>1638149268.0</td>\n",
              "      <td>Great place for local artists.</td>\n",
              "      <td>1636178619.0</td>\n",
              "      <td>Great local artwork and jewelry.  Stop in and ...</td>\n",
              "      <td>1554835391.0</td>\n",
              "      <td>This store sells locally crafted items such as...</td>\n",
              "      <td>1518289597.0</td>\n",
              "      <td>Visited while on vacation fun place</td>\n",
              "      <td>1506443215.0</td>\n",
              "    </tr>\n",
              "    <tr>\n",
              "      <th>3</th>\n",
              "      <td>4</td>\n",
              "      <td>ChIJjUPnbCmWyFYRr_lSUBrKRVc</td>\n",
              "      <td>A Part of the Anchorage Museum</td>\n",
              "      <td>Anchorage Museum</td>\n",
              "      <td>Alaska</td>\n",
              "      <td>61.216228</td>\n",
              "      <td>-149.885579</td>\n",
              "      <td>A Part of the Anchorage Museum</td>\n",
              "      <td>The Rasmussen Center is the portion of the Anc...</td>\n",
              "      <td>4.5</td>\n",
              "      <td>Shockingly wonderful! We had a great experienc...</td>\n",
              "      <td>1634888805.0</td>\n",
              "      <td>The Anchorage Museum was fantastic! We were fo...</td>\n",
              "      <td>1637977833.0</td>\n",
              "      <td>One of the more culturally and globally aware ...</td>\n",
              "      <td>1638073297.0</td>\n",
              "      <td>A very good regional museum, encompassing art,...</td>\n",
              "      <td>1629402829.0</td>\n",
              "      <td>The exterior and interior design of the museum...</td>\n",
              "      <td>1632588328.0</td>\n",
              "    </tr>\n",
              "    <tr>\n",
              "      <th>4</th>\n",
              "      <td>5</td>\n",
              "      <td>ChIJhbwvNU97yFYRtKJsGzJuMXw</td>\n",
              "      <td>A Rugged, But Beautiful Adventure</td>\n",
              "      <td>Alaska Wildland Adventures</td>\n",
              "      <td>Alaska</td>\n",
              "      <td>60.961173</td>\n",
              "      <td>-149.145260</td>\n",
              "      <td>A Rugged, But Beautiful Adventure</td>\n",
              "      <td>Switchback Trail is a hiking trail not for the...</td>\n",
              "      <td>4.3</td>\n",
              "      <td>We recently stayed at the Kenai Fjords Glacier...</td>\n",
              "      <td>1629992829.0</td>\n",
              "      <td>Everything is top-notch, A1 here! Guides are f...</td>\n",
              "      <td>1622805819.0</td>\n",
              "      <td>Awesome day of guided fishing on the Upper Ken...</td>\n",
              "      <td>1536624163.0</td>\n",
              "      <td>Beautiful lodges in spectacular locations with...</td>\n",
              "      <td>1532641243.0</td>\n",
              "      <td>A great company to work for!</td>\n",
              "      <td>1555657216.0</td>\n",
              "    </tr>\n",
              "  </tbody>\n",
              "</table>\n",
              "</div>"
            ],
            "text/plain": [
              "  docno  ... review_time_5\n",
              "0     1  ...  1626768663.0\n",
              "1     2  ...  1636152161.0\n",
              "2     3  ...  1506443215.0\n",
              "3     4  ...  1632588328.0\n",
              "4     5  ...  1555657216.0\n",
              "\n",
              "[5 rows x 20 columns]"
            ]
          },
          "execution_count": 9,
          "metadata": {},
          "output_type": "execute_result"
        }
      ],
      "source": [
        "df = pd.read_csv('final_documents.csv') \n",
        "df['docno'] = df.docno.astype(str)\n",
        "df['rating'] = df.rating.astype(str)\n",
        "df['review_text_1'] = df.review_text_1.astype(str)\n",
        "df['review_time_1'] = df.review_time_1.astype(str)\n",
        "df['review_text_2'] = df.review_text_2.astype(str)\n",
        "df['review_time_2'] = df.review_time_2.astype(str)\n",
        "df['review_text_3'] = df.review_text_3.astype(str)\n",
        "df['review_time_3'] = df.review_time_3.astype(str)\n",
        "df['review_text_4'] = df.review_text_4.astype(str)\n",
        "df['review_time_4'] = df.review_time_4.astype(str)\n",
        "df['review_text_5'] = df.review_text_5.astype(str)\n",
        "df['review_time_5'] = df.review_time_5.astype(str)\n",
        "df.head()"
      ]
    },
    {
      "cell_type": "code",
      "execution_count": null,
      "metadata": {
        "id": "4PB83GrO-HB8"
      },
      "outputs": [],
      "source": [
        "pd_indexer = pt.DFIndexer(\"./pd_index\", overwrite=True, blocks=True)\n",
        "indexref = pd_indexer.index(df[\"description\"], df[\"docno\"], \n",
        "                            df[\"map_name\"], df[\"title\"], df[\"rating\"], \n",
        "                            df[\"review_text_1\"], df[\"review_time_1\"],\n",
        "                            df[\"review_text_2\"], df[\"review_time_2\"],\n",
        "                            df[\"review_text_3\"], df[\"review_time_3\"],\n",
        "                            df[\"review_text_4\"], df[\"review_time_4\"],\n",
        "                            df[\"review_text_5\"], df[\"review_time_5\"],)"
      ]
    },
    {
      "cell_type": "code",
      "execution_count": null,
      "metadata": {
        "colab": {
          "base_uri": "https://localhost:8080/"
        },
        "id": "dwbmJUMxKFNr",
        "outputId": "413c4c70-332b-467f-bac9-70b967a441f0"
      },
      "outputs": [
        {
          "name": "stdout",
          "output_type": "stream",
          "text": [
            "Number of documents: 13891\n",
            "Number of terms: 42016\n",
            "Number of postings: 1855998\n",
            "Number of fields: 0\n",
            "Number of tokens: 2708372\n",
            "Field names: []\n",
            "Positions:   true\n",
            "\n"
          ]
        }
      ],
      "source": [
        "index = pt.IndexFactory.of(indexref)\n",
        "print(index.getCollectionStatistics().toString())"
      ]
    },
    {
      "cell_type": "code",
      "execution_count": null,
      "metadata": {
        "colab": {
          "base_uri": "https://localhost:8080/",
          "height": 76,
          "resources": {
            "http://localhost:8080/nbextensions/google.colab/files.js": {
              "data": "Ly8gQ29weXJpZ2h0IDIwMTcgR29vZ2xlIExMQwovLwovLyBMaWNlbnNlZCB1bmRlciB0aGUgQXBhY2hlIExpY2Vuc2UsIFZlcnNpb24gMi4wICh0aGUgIkxpY2Vuc2UiKTsKLy8geW91IG1heSBub3QgdXNlIHRoaXMgZmlsZSBleGNlcHQgaW4gY29tcGxpYW5jZSB3aXRoIHRoZSBMaWNlbnNlLgovLyBZb3UgbWF5IG9idGFpbiBhIGNvcHkgb2YgdGhlIExpY2Vuc2UgYXQKLy8KLy8gICAgICBodHRwOi8vd3d3LmFwYWNoZS5vcmcvbGljZW5zZXMvTElDRU5TRS0yLjAKLy8KLy8gVW5sZXNzIHJlcXVpcmVkIGJ5IGFwcGxpY2FibGUgbGF3IG9yIGFncmVlZCB0byBpbiB3cml0aW5nLCBzb2Z0d2FyZQovLyBkaXN0cmlidXRlZCB1bmRlciB0aGUgTGljZW5zZSBpcyBkaXN0cmlidXRlZCBvbiBhbiAiQVMgSVMiIEJBU0lTLAovLyBXSVRIT1VUIFdBUlJBTlRJRVMgT1IgQ09ORElUSU9OUyBPRiBBTlkgS0lORCwgZWl0aGVyIGV4cHJlc3Mgb3IgaW1wbGllZC4KLy8gU2VlIHRoZSBMaWNlbnNlIGZvciB0aGUgc3BlY2lmaWMgbGFuZ3VhZ2UgZ292ZXJuaW5nIHBlcm1pc3Npb25zIGFuZAovLyBsaW1pdGF0aW9ucyB1bmRlciB0aGUgTGljZW5zZS4KCi8qKgogKiBAZmlsZW92ZXJ2aWV3IEhlbHBlcnMgZm9yIGdvb2dsZS5jb2xhYiBQeXRob24gbW9kdWxlLgogKi8KKGZ1bmN0aW9uKHNjb3BlKSB7CmZ1bmN0aW9uIHNwYW4odGV4dCwgc3R5bGVBdHRyaWJ1dGVzID0ge30pIHsKICBjb25zdCBlbGVtZW50ID0gZG9jdW1lbnQuY3JlYXRlRWxlbWVudCgnc3BhbicpOwogIGVsZW1lbnQudGV4dENvbnRlbnQgPSB0ZXh0OwogIGZvciAoY29uc3Qga2V5IG9mIE9iamVjdC5rZXlzKHN0eWxlQXR0cmlidXRlcykpIHsKICAgIGVsZW1lbnQuc3R5bGVba2V5XSA9IHN0eWxlQXR0cmlidXRlc1trZXldOwogIH0KICByZXR1cm4gZWxlbWVudDsKfQoKLy8gTWF4IG51bWJlciBvZiBieXRlcyB3aGljaCB3aWxsIGJlIHVwbG9hZGVkIGF0IGEgdGltZS4KY29uc3QgTUFYX1BBWUxPQURfU0laRSA9IDEwMCAqIDEwMjQ7CgpmdW5jdGlvbiBfdXBsb2FkRmlsZXMoaW5wdXRJZCwgb3V0cHV0SWQpIHsKICBjb25zdCBzdGVwcyA9IHVwbG9hZEZpbGVzU3RlcChpbnB1dElkLCBvdXRwdXRJZCk7CiAgY29uc3Qgb3V0cHV0RWxlbWVudCA9IGRvY3VtZW50LmdldEVsZW1lbnRCeUlkKG91dHB1dElkKTsKICAvLyBDYWNoZSBzdGVwcyBvbiB0aGUgb3V0cHV0RWxlbWVudCB0byBtYWtlIGl0IGF2YWlsYWJsZSBmb3IgdGhlIG5leHQgY2FsbAogIC8vIHRvIHVwbG9hZEZpbGVzQ29udGludWUgZnJvbSBQeXRob24uCiAgb3V0cHV0RWxlbWVudC5zdGVwcyA9IHN0ZXBzOwoKICByZXR1cm4gX3VwbG9hZEZpbGVzQ29udGludWUob3V0cHV0SWQpOwp9CgovLyBUaGlzIGlzIHJvdWdobHkgYW4gYXN5bmMgZ2VuZXJhdG9yIChub3Qgc3VwcG9ydGVkIGluIHRoZSBicm93c2VyIHlldCksCi8vIHdoZXJlIHRoZXJlIGFyZSBtdWx0aXBsZSBhc3luY2hyb25vdXMgc3RlcHMgYW5kIHRoZSBQeXRob24gc2lkZSBpcyBnb2luZwovLyB0byBwb2xsIGZvciBjb21wbGV0aW9uIG9mIGVhY2ggc3RlcC4KLy8gVGhpcyB1c2VzIGEgUHJvbWlzZSB0byBibG9jayB0aGUgcHl0aG9uIHNpZGUgb24gY29tcGxldGlvbiBvZiBlYWNoIHN0ZXAsCi8vIHRoZW4gcGFzc2VzIHRoZSByZXN1bHQgb2YgdGhlIHByZXZpb3VzIHN0ZXAgYXMgdGhlIGlucHV0IHRvIHRoZSBuZXh0IHN0ZXAuCmZ1bmN0aW9uIF91cGxvYWRGaWxlc0NvbnRpbnVlKG91dHB1dElkKSB7CiAgY29uc3Qgb3V0cHV0RWxlbWVudCA9IGRvY3VtZW50LmdldEVsZW1lbnRCeUlkKG91dHB1dElkKTsKICBjb25zdCBzdGVwcyA9IG91dHB1dEVsZW1lbnQuc3RlcHM7CgogIGNvbnN0IG5leHQgPSBzdGVwcy5uZXh0KG91dHB1dEVsZW1lbnQubGFzdFByb21pc2VWYWx1ZSk7CiAgcmV0dXJuIFByb21pc2UucmVzb2x2ZShuZXh0LnZhbHVlLnByb21pc2UpLnRoZW4oKHZhbHVlKSA9PiB7CiAgICAvLyBDYWNoZSB0aGUgbGFzdCBwcm9taXNlIHZhbHVlIHRvIG1ha2UgaXQgYXZhaWxhYmxlIHRvIHRoZSBuZXh0CiAgICAvLyBzdGVwIG9mIHRoZSBnZW5lcmF0b3IuCiAgICBvdXRwdXRFbGVtZW50Lmxhc3RQcm9taXNlVmFsdWUgPSB2YWx1ZTsKICAgIHJldHVybiBuZXh0LnZhbHVlLnJlc3BvbnNlOwogIH0pOwp9CgovKioKICogR2VuZXJhdG9yIGZ1bmN0aW9uIHdoaWNoIGlzIGNhbGxlZCBiZXR3ZWVuIGVhY2ggYXN5bmMgc3RlcCBvZiB0aGUgdXBsb2FkCiAqIHByb2Nlc3MuCiAqIEBwYXJhbSB7c3RyaW5nfSBpbnB1dElkIEVsZW1lbnQgSUQgb2YgdGhlIGlucHV0IGZpbGUgcGlja2VyIGVsZW1lbnQuCiAqIEBwYXJhbSB7c3RyaW5nfSBvdXRwdXRJZCBFbGVtZW50IElEIG9mIHRoZSBvdXRwdXQgZGlzcGxheS4KICogQHJldHVybiB7IUl0ZXJhYmxlPCFPYmplY3Q+fSBJdGVyYWJsZSBvZiBuZXh0IHN0ZXBzLgogKi8KZnVuY3Rpb24qIHVwbG9hZEZpbGVzU3RlcChpbnB1dElkLCBvdXRwdXRJZCkgewogIGNvbnN0IGlucHV0RWxlbWVudCA9IGRvY3VtZW50LmdldEVsZW1lbnRCeUlkKGlucHV0SWQpOwogIGlucHV0RWxlbWVudC5kaXNhYmxlZCA9IGZhbHNlOwoKICBjb25zdCBvdXRwdXRFbGVtZW50ID0gZG9jdW1lbnQuZ2V0RWxlbWVudEJ5SWQob3V0cHV0SWQpOwogIG91dHB1dEVsZW1lbnQuaW5uZXJIVE1MID0gJyc7CgogIGNvbnN0IHBpY2tlZFByb21pc2UgPSBuZXcgUHJvbWlzZSgocmVzb2x2ZSkgPT4gewogICAgaW5wdXRFbGVtZW50LmFkZEV2ZW50TGlzdGVuZXIoJ2NoYW5nZScsIChlKSA9PiB7CiAgICAgIHJlc29sdmUoZS50YXJnZXQuZmlsZXMpOwogICAgfSk7CiAgfSk7CgogIGNvbnN0IGNhbmNlbCA9IGRvY3VtZW50LmNyZWF0ZUVsZW1lbnQoJ2J1dHRvbicpOwogIGlucHV0RWxlbWVudC5wYXJlbnRFbGVtZW50LmFwcGVuZENoaWxkKGNhbmNlbCk7CiAgY2FuY2VsLnRleHRDb250ZW50ID0gJ0NhbmNlbCB1cGxvYWQnOwogIGNvbnN0IGNhbmNlbFByb21pc2UgPSBuZXcgUHJvbWlzZSgocmVzb2x2ZSkgPT4gewogICAgY2FuY2VsLm9uY2xpY2sgPSAoKSA9PiB7CiAgICAgIHJlc29sdmUobnVsbCk7CiAgICB9OwogIH0pOwoKICAvLyBXYWl0IGZvciB0aGUgdXNlciB0byBwaWNrIHRoZSBmaWxlcy4KICBjb25zdCBmaWxlcyA9IHlpZWxkIHsKICAgIHByb21pc2U6IFByb21pc2UucmFjZShbcGlja2VkUHJvbWlzZSwgY2FuY2VsUHJvbWlzZV0pLAogICAgcmVzcG9uc2U6IHsKICAgICAgYWN0aW9uOiAnc3RhcnRpbmcnLAogICAgfQogIH07CgogIGNhbmNlbC5yZW1vdmUoKTsKCiAgLy8gRGlzYWJsZSB0aGUgaW5wdXQgZWxlbWVudCBzaW5jZSBmdXJ0aGVyIHBpY2tzIGFyZSBub3QgYWxsb3dlZC4KICBpbnB1dEVsZW1lbnQuZGlzYWJsZWQgPSB0cnVlOwoKICBpZiAoIWZpbGVzKSB7CiAgICByZXR1cm4gewogICAgICByZXNwb25zZTogewogICAgICAgIGFjdGlvbjogJ2NvbXBsZXRlJywKICAgICAgfQogICAgfTsKICB9CgogIGZvciAoY29uc3QgZmlsZSBvZiBmaWxlcykgewogICAgY29uc3QgbGkgPSBkb2N1bWVudC5jcmVhdGVFbGVtZW50KCdsaScpOwogICAgbGkuYXBwZW5kKHNwYW4oZmlsZS5uYW1lLCB7Zm9udFdlaWdodDogJ2JvbGQnfSkpOwogICAgbGkuYXBwZW5kKHNwYW4oCiAgICAgICAgYCgke2ZpbGUudHlwZSB8fCAnbi9hJ30pIC0gJHtmaWxlLnNpemV9IGJ5dGVzLCBgICsKICAgICAgICBgbGFzdCBtb2RpZmllZDogJHsKICAgICAgICAgICAgZmlsZS5sYXN0TW9kaWZpZWREYXRlID8gZmlsZS5sYXN0TW9kaWZpZWREYXRlLnRvTG9jYWxlRGF0ZVN0cmluZygpIDoKICAgICAgICAgICAgICAgICAgICAgICAgICAgICAgICAgICAgJ24vYSd9IC0gYCkpOwogICAgY29uc3QgcGVyY2VudCA9IHNwYW4oJzAlIGRvbmUnKTsKICAgIGxpLmFwcGVuZENoaWxkKHBlcmNlbnQpOwoKICAgIG91dHB1dEVsZW1lbnQuYXBwZW5kQ2hpbGQobGkpOwoKICAgIGNvbnN0IGZpbGVEYXRhUHJvbWlzZSA9IG5ldyBQcm9taXNlKChyZXNvbHZlKSA9PiB7CiAgICAgIGNvbnN0IHJlYWRlciA9IG5ldyBGaWxlUmVhZGVyKCk7CiAgICAgIHJlYWRlci5vbmxvYWQgPSAoZSkgPT4gewogICAgICAgIHJlc29sdmUoZS50YXJnZXQucmVzdWx0KTsKICAgICAgfTsKICAgICAgcmVhZGVyLnJlYWRBc0FycmF5QnVmZmVyKGZpbGUpOwogICAgfSk7CiAgICAvLyBXYWl0IGZvciB0aGUgZGF0YSB0byBiZSByZWFkeS4KICAgIGxldCBmaWxlRGF0YSA9IHlpZWxkIHsKICAgICAgcHJvbWlzZTogZmlsZURhdGFQcm9taXNlLAogICAgICByZXNwb25zZTogewogICAgICAgIGFjdGlvbjogJ2NvbnRpbnVlJywKICAgICAgfQogICAgfTsKCiAgICAvLyBVc2UgYSBjaHVua2VkIHNlbmRpbmcgdG8gYXZvaWQgbWVzc2FnZSBzaXplIGxpbWl0cy4gU2VlIGIvNjIxMTU2NjAuCiAgICBsZXQgcG9zaXRpb24gPSAwOwogICAgZG8gewogICAgICBjb25zdCBsZW5ndGggPSBNYXRoLm1pbihmaWxlRGF0YS5ieXRlTGVuZ3RoIC0gcG9zaXRpb24sIE1BWF9QQVlMT0FEX1NJWkUpOwogICAgICBjb25zdCBjaHVuayA9IG5ldyBVaW50OEFycmF5KGZpbGVEYXRhLCBwb3NpdGlvbiwgbGVuZ3RoKTsKICAgICAgcG9zaXRpb24gKz0gbGVuZ3RoOwoKICAgICAgY29uc3QgYmFzZTY0ID0gYnRvYShTdHJpbmcuZnJvbUNoYXJDb2RlLmFwcGx5KG51bGwsIGNodW5rKSk7CiAgICAgIHlpZWxkIHsKICAgICAgICByZXNwb25zZTogewogICAgICAgICAgYWN0aW9uOiAnYXBwZW5kJywKICAgICAgICAgIGZpbGU6IGZpbGUubmFtZSwKICAgICAgICAgIGRhdGE6IGJhc2U2NCwKICAgICAgICB9LAogICAgICB9OwoKICAgICAgbGV0IHBlcmNlbnREb25lID0gZmlsZURhdGEuYnl0ZUxlbmd0aCA9PT0gMCA/CiAgICAgICAgICAxMDAgOgogICAgICAgICAgTWF0aC5yb3VuZCgocG9zaXRpb24gLyBmaWxlRGF0YS5ieXRlTGVuZ3RoKSAqIDEwMCk7CiAgICAgIHBlcmNlbnQudGV4dENvbnRlbnQgPSBgJHtwZXJjZW50RG9uZX0lIGRvbmVgOwoKICAgIH0gd2hpbGUgKHBvc2l0aW9uIDwgZmlsZURhdGEuYnl0ZUxlbmd0aCk7CiAgfQoKICAvLyBBbGwgZG9uZS4KICB5aWVsZCB7CiAgICByZXNwb25zZTogewogICAgICBhY3Rpb246ICdjb21wbGV0ZScsCiAgICB9CiAgfTsKfQoKc2NvcGUuZ29vZ2xlID0gc2NvcGUuZ29vZ2xlIHx8IHt9OwpzY29wZS5nb29nbGUuY29sYWIgPSBzY29wZS5nb29nbGUuY29sYWIgfHwge307CnNjb3BlLmdvb2dsZS5jb2xhYi5fZmlsZXMgPSB7CiAgX3VwbG9hZEZpbGVzLAogIF91cGxvYWRGaWxlc0NvbnRpbnVlLAp9Owp9KShzZWxmKTsK",
              "headers": [
                [
                  "content-type",
                  "application/javascript"
                ]
              ],
              "ok": true,
              "status": 200,
              "status_text": ""
            }
          }
        },
        "id": "J7svJd2cqW8l",
        "outputId": "16c14185-53b0-4ee7-9cdd-a1ddee21c557"
      },
      "outputs": [
        {
          "data": {
            "text/html": [
              "\n",
              "     <input type=\"file\" id=\"files-bebf30aa-7800-4fdc-957c-c5d31bc09252\" name=\"files[]\" multiple disabled\n",
              "        style=\"border:none\" />\n",
              "     <output id=\"result-bebf30aa-7800-4fdc-957c-c5d31bc09252\">\n",
              "      Upload widget is only available when the cell has been executed in the\n",
              "      current browser session. Please rerun this cell to enable.\n",
              "      </output>\n",
              "      <script src=\"/nbextensions/google.colab/files.js\"></script> "
            ],
            "text/plain": [
              "<IPython.core.display.HTML object>"
            ]
          },
          "metadata": {},
          "output_type": "display_data"
        },
        {
          "name": "stdout",
          "output_type": "stream",
          "text": [
            "Saving Query.csv to Query.csv\n"
          ]
        }
      ],
      "source": [
        "from google.colab import files\n",
        "uploaded = files.upload()"
      ]
    },
    {
      "cell_type": "code",
      "execution_count": null,
      "metadata": {
        "colab": {
          "base_uri": "https://localhost:8080/",
          "height": 206
        },
        "id": "pAd8XUWbKgIO",
        "outputId": "c402ada4-fd30-4bba-824b-a2dcd67a64df"
      },
      "outputs": [
        {
          "data": {
            "text/html": [
              "<div>\n",
              "<style scoped>\n",
              "    .dataframe tbody tr th:only-of-type {\n",
              "        vertical-align: middle;\n",
              "    }\n",
              "\n",
              "    .dataframe tbody tr th {\n",
              "        vertical-align: top;\n",
              "    }\n",
              "\n",
              "    .dataframe thead th {\n",
              "        text-align: right;\n",
              "    }\n",
              "</style>\n",
              "<table border=\"1\" class=\"dataframe\">\n",
              "  <thead>\n",
              "    <tr style=\"text-align: right;\">\n",
              "      <th></th>\n",
              "      <th>qid</th>\n",
              "      <th>query</th>\n",
              "    </tr>\n",
              "  </thead>\n",
              "  <tbody>\n",
              "    <tr>\n",
              "      <th>0</th>\n",
              "      <td>1</td>\n",
              "      <td>A place where you can see various kinds of ani...</td>\n",
              "    </tr>\n",
              "    <tr>\n",
              "      <th>1</th>\n",
              "      <td>2</td>\n",
              "      <td>A park with trees everywhere</td>\n",
              "    </tr>\n",
              "    <tr>\n",
              "      <th>2</th>\n",
              "      <td>3</td>\n",
              "      <td>A beautiful place with waterfalls</td>\n",
              "    </tr>\n",
              "    <tr>\n",
              "      <th>3</th>\n",
              "      <td>4</td>\n",
              "      <td>A playground suitable for family entertainment</td>\n",
              "    </tr>\n",
              "    <tr>\n",
              "      <th>4</th>\n",
              "      <td>5</td>\n",
              "      <td>A city with many art-focused museums</td>\n",
              "    </tr>\n",
              "  </tbody>\n",
              "</table>\n",
              "</div>"
            ],
            "text/plain": [
              "  qid                                              query\n",
              "0   1  A place where you can see various kinds of ani...\n",
              "1   2                       A park with trees everywhere\n",
              "2   3                  A beautiful place with waterfalls\n",
              "3   4     A playground suitable for family entertainment\n",
              "4   5               A city with many art-focused museums"
            ]
          },
          "execution_count": 13,
          "metadata": {},
          "output_type": "execute_result"
        }
      ],
      "source": [
        "topics = pd.read_csv('Query.csv') \n",
        "topics['qid'] = topics.qid.astype('str')\n",
        "topics.head()"
      ]
    },
    {
      "cell_type": "code",
      "execution_count": null,
      "metadata": {
        "colab": {
          "base_uri": "https://localhost:8080/",
          "height": 76,
          "resources": {
            "http://localhost:8080/nbextensions/google.colab/files.js": {
              "data": "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",
              "headers": [
                [
                  "content-type",
                  "application/javascript"
                ]
              ],
              "ok": true,
              "status": 200,
              "status_text": ""
            }
          }
        },
        "id": "pAItWpQTqiU4",
        "outputId": "e69f9b6a-1a05-4267-adda-1590707ed3e1"
      },
      "outputs": [
        {
          "data": {
            "text/html": [
              "\n",
              "     <input type=\"file\" id=\"files-4bb514ff-7572-4994-a82d-fa8e5ef5cc75\" name=\"files[]\" multiple disabled\n",
              "        style=\"border:none\" />\n",
              "     <output id=\"result-4bb514ff-7572-4994-a82d-fa8e5ef5cc75\">\n",
              "      Upload widget is only available when the cell has been executed in the\n",
              "      current browser session. Please rerun this cell to enable.\n",
              "      </output>\n",
              "      <script src=\"/nbextensions/google.colab/files.js\"></script> "
            ],
            "text/plain": [
              "<IPython.core.display.HTML object>"
            ]
          },
          "metadata": {},
          "output_type": "display_data"
        },
        {
          "name": "stdout",
          "output_type": "stream",
          "text": [
            "Saving qrel.csv to qrel.csv\n"
          ]
        }
      ],
      "source": [
        "from google.colab import files\n",
        "uploaded = files.upload()"
      ]
    },
    {
      "cell_type": "code",
      "execution_count": null,
      "metadata": {
        "colab": {
          "base_uri": "https://localhost:8080/",
          "height": 206
        },
        "id": "SKOeS46bLrhe",
        "outputId": "d558cd41-7850-46a3-e718-3e657cd10858"
      },
      "outputs": [
        {
          "data": {
            "text/html": [
              "<div>\n",
              "<style scoped>\n",
              "    .dataframe tbody tr th:only-of-type {\n",
              "        vertical-align: middle;\n",
              "    }\n",
              "\n",
              "    .dataframe tbody tr th {\n",
              "        vertical-align: top;\n",
              "    }\n",
              "\n",
              "    .dataframe thead th {\n",
              "        text-align: right;\n",
              "    }\n",
              "</style>\n",
              "<table border=\"1\" class=\"dataframe\">\n",
              "  <thead>\n",
              "    <tr style=\"text-align: right;\">\n",
              "      <th></th>\n",
              "      <th>qid</th>\n",
              "      <th>docno</th>\n",
              "      <th>label</th>\n",
              "    </tr>\n",
              "  </thead>\n",
              "  <tbody>\n",
              "    <tr>\n",
              "      <th>0</th>\n",
              "      <td>1</td>\n",
              "      <td>9837</td>\n",
              "      <td>5</td>\n",
              "    </tr>\n",
              "    <tr>\n",
              "      <th>1</th>\n",
              "      <td>1</td>\n",
              "      <td>572</td>\n",
              "      <td>5</td>\n",
              "    </tr>\n",
              "    <tr>\n",
              "      <th>2</th>\n",
              "      <td>1</td>\n",
              "      <td>12369</td>\n",
              "      <td>5</td>\n",
              "    </tr>\n",
              "    <tr>\n",
              "      <th>3</th>\n",
              "      <td>1</td>\n",
              "      <td>4629</td>\n",
              "      <td>5</td>\n",
              "    </tr>\n",
              "    <tr>\n",
              "      <th>4</th>\n",
              "      <td>1</td>\n",
              "      <td>811</td>\n",
              "      <td>5</td>\n",
              "    </tr>\n",
              "  </tbody>\n",
              "</table>\n",
              "</div>"
            ],
            "text/plain": [
              "  qid  docno  label\n",
              "0   1   9837      5\n",
              "1   1    572      5\n",
              "2   1  12369      5\n",
              "3   1   4629      5\n",
              "4   1    811      5"
            ]
          },
          "execution_count": 15,
          "metadata": {},
          "output_type": "execute_result"
        }
      ],
      "source": [
        "qrels = pd.read_csv('qrel.csv') \n",
        "qrels['qid'] = qrels.qid.astype(str)\n",
        "qrels['docno'] = qrels.docno.astype(str)\n",
        "qrels.head()"
      ]
    },
    {
      "cell_type": "code",
      "execution_count": null,
      "metadata": {
        "id": "AKm7Y_rxT46O"
      },
      "outputs": [],
      "source": [
        "tf = pt.BatchRetrieve(index, wmodel=\"Tf\")\n",
        "tf_idf = pt.BatchRetrieve(index, wmodel=\"TF_IDF\")\n",
        "bm25 = pt.BatchRetrieve(index, wmodel=\"BM25\")\n",
        "br = pt.BatchRetrieve(index)\n",
        "sdm = pt.rewrite.SDM()\n",
        "qe = pt.rewrite.Bo1QueryExpansion(index)"
      ]
    },
    {
      "cell_type": "code",
      "execution_count": null,
      "metadata": {
        "id": "rrwpevGhMjAL"
      },
      "outputs": [],
      "source": [
        "RANK_CUTOFF = 100\n",
        "SEED=42\n",
        "\n",
        "from sklearn.model_selection import train_test_split\n",
        "\n",
        "tr_va_topics, test_topics = train_test_split(topics, test_size=9, random_state=SEED)\n",
        "train_topics, valid_topics = train_test_split(tr_va_topics, test_size=3, random_state=SEED)"
      ]
    },
    {
      "cell_type": "code",
      "execution_count": null,
      "metadata": {
        "id": "9bclza2wMqNU"
      },
      "outputs": [],
      "source": [
        "ltr_feats_0 = (bm25 % RANK_CUTOFF) >> pt.text.get_text(index, [\"map_name\", \"title\", \"rating\", \"review_text_1\", \"review_text_2\", \"review_text_3\", \"review_text_4\", \"review_text_5\"]) >> (\n",
        "    pt.transformer.IdentityTransformer()\n",
        "    ** # sequential dependence\n",
        "    (sdm >> bm25)\n",
        "    ** # score of map_name\n",
        "    (pt.text.scorer(body_attr=\"map_name\", wmodel='BM25') ) \n",
        "    ** # score of title\n",
        "    (pt.text.scorer(body_attr=\"title\", wmodel='BM25') ) \n",
        "    ** # rating\n",
        "    (pt.apply.doc_score(lambda row: 0 if row[\"rating\"]==\"nan\" else float(row[\"rating\"])))\n",
        "    ** # score of reviews\n",
        "    (pt.text.scorer(body_attr=\"review_text_1\", wmodel='BM25') + \n",
        "     pt.text.scorer(body_attr=\"review_text_2\", wmodel='BM25') +\n",
        "     pt.text.scorer(body_attr=\"review_text_3\", wmodel='BM25') +\n",
        "     pt.text.scorer(body_attr=\"review_text_4\", wmodel='BM25') +\n",
        "     pt.text.scorer(body_attr=\"review_text_5\", wmodel='BM25') )\n",
        "    ** # abstract coordinate match\n",
        "    pt.BatchRetrieve(index, wmodel=\"CoordinateMatch\")\n",
        ")\n",
        "                                                             \n",
        "# for reference, lets record the feature names here too\n",
        "fnames=[\"BM25\", \"SDM\", \"map_name\", \"title\", \"rating\", \"reviews\", \"CoordinateMatch\"]"
      ]
    },
    {
      "cell_type": "code",
      "execution_count": null,
      "metadata": {
        "id": "7UxyH7VrMr_n"
      },
      "outputs": [],
      "source": [
        "ltr_feats_1 = (bm25 % RANK_CUTOFF) >> pt.text.get_text(index, [\"map_name\", \"title\", \"rating\", \"review_text_1\", \"review_text_2\", \"review_text_3\", \"review_text_4\", \"review_text_5\"]) >> (\n",
        "    pt.transformer.IdentityTransformer()\n",
        "    ** # sequential dependence\n",
        "    (sdm >> bm25)\n",
        "    ** # score of title\n",
        "    (pt.text.scorer(body_attr=\"title\", wmodel='BM25') ) \n",
        "    ** # rating\n",
        "    (pt.apply.doc_score(lambda row: 0 if row[\"rating\"]==\"nan\" else float(row[\"rating\"])))\n",
        "    ** # score of reviews\n",
        "    (pt.text.scorer(body_attr=\"review_text_1\", wmodel='BM25') + \n",
        "     pt.text.scorer(body_attr=\"review_text_2\", wmodel='BM25') +\n",
        "     pt.text.scorer(body_attr=\"review_text_3\", wmodel='BM25') +\n",
        "     pt.text.scorer(body_attr=\"review_text_4\", wmodel='BM25') +\n",
        "     pt.text.scorer(body_attr=\"review_text_5\", wmodel='BM25') )\n",
        "    ** # abstract coordinate match\n",
        "    pt.BatchRetrieve(index, wmodel=\"CoordinateMatch\")\n",
        ")"
      ]
    },
    {
      "cell_type": "code",
      "execution_count": null,
      "metadata": {
        "id": "0oErHh_dM57G"
      },
      "outputs": [],
      "source": [
        "ltr_feats_2 = (bm25 % RANK_CUTOFF) >> pt.text.get_text(index, [\"map_name\", \"title\", \"rating\", \"review_text_1\", \"review_text_2\", \"review_text_3\", \"review_text_4\", \"review_text_5\"]) >> (\n",
        "    pt.transformer.IdentityTransformer()\n",
        "    ** # sequential dependence\n",
        "    (sdm >> bm25)\n",
        "    ** # score of map_name\n",
        "    (pt.text.scorer(body_attr=\"map_name\", wmodel='BM25') ) \n",
        "    ** # score of title\n",
        "    (pt.text.scorer(body_attr=\"title\", wmodel='BM25') ) \n",
        "    ** # score of reviews\n",
        "    (pt.text.scorer(body_attr=\"review_text_1\", wmodel='BM25') + \n",
        "     pt.text.scorer(body_attr=\"review_text_2\", wmodel='BM25') +\n",
        "     pt.text.scorer(body_attr=\"review_text_3\", wmodel='BM25') +\n",
        "     pt.text.scorer(body_attr=\"review_text_4\", wmodel='BM25') +\n",
        "     pt.text.scorer(body_attr=\"review_text_5\", wmodel='BM25') )\n",
        "    ** # abstract coordinate match\n",
        "    pt.BatchRetrieve(index, wmodel=\"CoordinateMatch\")\n",
        ")"
      ]
    },
    {
      "cell_type": "code",
      "execution_count": null,
      "metadata": {
        "id": "O7gSEHt8NpqX"
      },
      "outputs": [],
      "source": [
        "ltr_feats_3 = (bm25 % RANK_CUTOFF) >> pt.text.get_text(index, [\"map_name\", \"title\", \"rating\", \"review_text_1\", \"review_text_2\", \"review_text_3\", \"review_text_4\", \"review_text_5\"]) >> (\n",
        "    pt.transformer.IdentityTransformer()\n",
        "    ** # sequential dependence\n",
        "    (sdm >> bm25)\n",
        "    ** # score of map_name\n",
        "    (pt.text.scorer(body_attr=\"map_name\", wmodel='BM25') ) \n",
        "    ** # score of title\n",
        "    (pt.text.scorer(body_attr=\"title\", wmodel='BM25') ) \n",
        "    ** # rating\n",
        "    (pt.apply.doc_score(lambda row: 0 if row[\"rating\"]==\"nan\" else float(row[\"rating\"])))\n",
        "    ** # abstract coordinate match\n",
        "    pt.BatchRetrieve(index, wmodel=\"CoordinateMatch\")\n",
        ")"
      ]
    },
    {
      "cell_type": "code",
      "execution_count": null,
      "metadata": {
        "id": "RctP8J10Ntdv"
      },
      "outputs": [],
      "source": [
        "ltr_feats_4 = (bm25 % RANK_CUTOFF) >> pt.text.get_text(index, [\"map_name\", \"title\", \"rating\", \"review_text_1\", \"review_text_2\", \"review_text_3\", \"review_text_4\", \"review_text_5\"]) >> (\n",
        "    pt.transformer.IdentityTransformer()\n",
        "    ** # sequential dependence\n",
        "    (sdm >> bm25)\n",
        "    ** # score of title\n",
        "    (pt.text.scorer(body_attr=\"title\", wmodel='BM25') ) \n",
        "    ** # score of reviews\n",
        "    (pt.text.scorer(body_attr=\"review_text_1\", wmodel='BM25') + \n",
        "     pt.text.scorer(body_attr=\"review_text_2\", wmodel='BM25') +\n",
        "     pt.text.scorer(body_attr=\"review_text_3\", wmodel='BM25') +\n",
        "     pt.text.scorer(body_attr=\"review_text_4\", wmodel='BM25') +\n",
        "     pt.text.scorer(body_attr=\"review_text_5\", wmodel='BM25') )\n",
        "    ** # abstract coordinate match\n",
        "    pt.BatchRetrieve(index, wmodel=\"CoordinateMatch\")\n",
        ")"
      ]
    },
    {
      "cell_type": "code",
      "execution_count": null,
      "metadata": {
        "id": "2fXGh5zdN05L"
      },
      "outputs": [],
      "source": [
        "ltr_feats_5 = (bm25 % RANK_CUTOFF) >> pt.text.get_text(index, [\"map_name\", \"title\", \"rating\", \"review_text_1\", \"review_text_2\", \"review_text_3\", \"review_text_4\", \"review_text_5\"]) >> (\n",
        "    pt.transformer.IdentityTransformer()\n",
        "    ** # sequential dependence\n",
        "    (sdm >> bm25)\n",
        "    ** # score of title\n",
        "    (pt.text.scorer(body_attr=\"title\", wmodel='BM25') ) \n",
        "    ** # rating\n",
        "    (pt.apply.doc_score(lambda row: 0 if row[\"rating\"]==\"nan\" else float(row[\"rating\"])))\n",
        "    ** # abstract coordinate match\n",
        "    pt.BatchRetrieve(index, wmodel=\"CoordinateMatch\")\n",
        ")"
      ]
    },
    {
      "cell_type": "code",
      "execution_count": null,
      "metadata": {
        "id": "bj8KvB5bN5w3"
      },
      "outputs": [],
      "source": [
        "ltr_feats_6 = (bm25 % RANK_CUTOFF) >> pt.text.get_text(index, [\"map_name\", \"title\", \"rating\", \"review_text_1\", \"review_text_2\", \"review_text_3\", \"review_text_4\", \"review_text_5\"]) >> (\n",
        "    pt.transformer.IdentityTransformer()\n",
        "    ** # sequential dependence\n",
        "    (sdm >> bm25)\n",
        "    ** # score of map_name\n",
        "    (pt.text.scorer(body_attr=\"map_name\", wmodel='BM25') ) \n",
        "    ** # score of title\n",
        "    (pt.text.scorer(body_attr=\"title\", wmodel='BM25') ) \n",
        "    ** # abstract coordinate match\n",
        "    pt.BatchRetrieve(index, wmodel=\"CoordinateMatch\")\n",
        ")"
      ]
    },
    {
      "cell_type": "code",
      "execution_count": null,
      "metadata": {
        "id": "7wM7P-4KN9nW"
      },
      "outputs": [],
      "source": [
        "ltr_feats_7 = (bm25 % RANK_CUTOFF) >> pt.text.get_text(index, [\"map_name\", \"title\", \"rating\", \"review_text_1\", \"review_text_2\", \"review_text_3\", \"review_text_4\", \"review_text_5\"]) >> (\n",
        "    pt.transformer.IdentityTransformer()\n",
        "    ** # sequential dependence\n",
        "    (sdm >> bm25)\n",
        "    ** # score of title\n",
        "    (pt.text.scorer(body_attr=\"title\", wmodel='BM25') ) \n",
        "    ** # abstract coordinate match\n",
        "    pt.BatchRetrieve(index, wmodel=\"CoordinateMatch\")\n",
        ")"
      ]
    },
    {
      "cell_type": "code",
      "execution_count": null,
      "metadata": {
        "colab": {
          "base_uri": "https://localhost:8080/",
          "height": 1000
        },
        "id": "mw-UhYxXon8_",
        "outputId": "59c175a0-815a-47de-daca-e8a7a37e77eb"
      },
      "outputs": [
        {
          "name": "stdout",
          "output_type": "stream",
          "text": [
            "21:48:48.580 [main] WARN org.terrier.querying.ApplyTermPipeline - The index has no termpipelines configuration, and no control configuration is found. Defaulting to global termpipelines configuration of 'Stopwords,PorterStemmer'. Set a termpipelines control to remove this warning.\n",
            "21:48:49.009 [main] WARN org.terrier.querying.ApplyTermPipeline - The index has no termpipelines configuration, and no control configuration is found. Defaulting to global termpipelines configuration of 'Stopwords,PorterStemmer'. Set a termpipelines control to remove this warning.\n",
            "21:48:49.536 [main] WARN org.terrier.querying.ApplyTermPipeline - The index has no termpipelines configuration, and no control configuration is found. Defaulting to global termpipelines configuration of 'Stopwords,PorterStemmer'. Set a termpipelines control to remove this warning.\n",
            "21:48:50.061 [main] WARN org.terrier.querying.ApplyTermPipeline - The index has no termpipelines configuration, and no control configuration is found. Defaulting to global termpipelines configuration of 'Stopwords,PorterStemmer'. Set a termpipelines control to remove this warning.\n",
            "21:48:50.580 [main] WARN org.terrier.querying.ApplyTermPipeline - The index has no termpipelines configuration, and no control configuration is found. Defaulting to global termpipelines configuration of 'Stopwords,PorterStemmer'. Set a termpipelines control to remove this warning.\n",
            "21:48:51.094 [main] WARN org.terrier.querying.ApplyTermPipeline - The index has no termpipelines configuration, and no control configuration is found. Defaulting to global termpipelines configuration of 'Stopwords,PorterStemmer'. Set a termpipelines control to remove this warning.\n",
            "21:48:51.614 [main] WARN org.terrier.querying.ApplyTermPipeline - The index has no termpipelines configuration, and no control configuration is found. Defaulting to global termpipelines configuration of 'Stopwords,PorterStemmer'. Set a termpipelines control to remove this warning.\n"
          ]
        },
        {
          "name": "stderr",
          "output_type": "stream",
          "text": [
            "/usr/local/lib/python3.7/dist-packages/pyterrier/transformer.py:760: UserWarning: Got number of results different expected from CombSumTransformer(CombSumTransformer(CombSumTransformer(CombSumTransformer(<pyterrier.batchretrieve.TextScorer object at 0x7f3827b80e90>, <pyterrier.batchretrieve.TextScorer object at 0x7f3827b80d90>), <pyterrier.batchretrieve.TextScorer object at 0x7f3827b80e10>), <pyterrier.batchretrieve.TextScorer object at 0x7f3827b80f10>), <pyterrier.batchretrieve.TextScorer object at 0x7f3827b80f90>), expected 900 received 19, feature scores for any missing documents be 0, extraneous documents will be removed\n",
            "  warn(\"Got number of results different expected from %s, expected %d received %d, feature scores for any missing documents be 0, extraneous documents will be removed\" % (repr(m), num_results, len(res)))\n"
          ]
        },
        {
          "name": "stdout",
          "output_type": "stream",
          "text": [
            "21:48:56.494 [main] WARN org.terrier.querying.ApplyTermPipeline - The index has no termpipelines configuration, and no control configuration is found. Defaulting to global termpipelines configuration of 'Stopwords,PorterStemmer'. Set a termpipelines control to remove this warning.\n",
            "21:48:56.928 [main] WARN org.terrier.querying.ApplyTermPipeline - The index has no termpipelines configuration, and no control configuration is found. Defaulting to global termpipelines configuration of 'Stopwords,PorterStemmer'. Set a termpipelines control to remove this warning.\n",
            "21:48:57.448 [main] WARN org.terrier.querying.ApplyTermPipeline - The index has no termpipelines configuration, and no control configuration is found. Defaulting to global termpipelines configuration of 'Stopwords,PorterStemmer'. Set a termpipelines control to remove this warning.\n",
            "21:48:57.981 [main] WARN org.terrier.querying.ApplyTermPipeline - The index has no termpipelines configuration, and no control configuration is found. Defaulting to global termpipelines configuration of 'Stopwords,PorterStemmer'. Set a termpipelines control to remove this warning.\n",
            "21:48:58.518 [main] WARN org.terrier.querying.ApplyTermPipeline - The index has no termpipelines configuration, and no control configuration is found. Defaulting to global termpipelines configuration of 'Stopwords,PorterStemmer'. Set a termpipelines control to remove this warning.\n",
            "21:48:59.043 [main] WARN org.terrier.querying.ApplyTermPipeline - The index has no termpipelines configuration, and no control configuration is found. Defaulting to global termpipelines configuration of 'Stopwords,PorterStemmer'. Set a termpipelines control to remove this warning.\n",
            "21:48:59.554 [main] WARN org.terrier.querying.ApplyTermPipeline - The index has no termpipelines configuration, and no control configuration is found. Defaulting to global termpipelines configuration of 'Stopwords,PorterStemmer'. Set a termpipelines control to remove this warning.\n"
          ]
        },
        {
          "name": "stderr",
          "output_type": "stream",
          "text": [
            "/usr/local/lib/python3.7/dist-packages/pyterrier/transformer.py:760: UserWarning: Got number of results different expected from CombSumTransformer(CombSumTransformer(CombSumTransformer(CombSumTransformer(<pyterrier.batchretrieve.TextScorer object at 0x7f3827b80e90>, <pyterrier.batchretrieve.TextScorer object at 0x7f3827b80d90>), <pyterrier.batchretrieve.TextScorer object at 0x7f3827b80e10>), <pyterrier.batchretrieve.TextScorer object at 0x7f3827b80f10>), <pyterrier.batchretrieve.TextScorer object at 0x7f3827b80f90>), expected 900 received 19, feature scores for any missing documents be 0, extraneous documents will be removed\n",
            "  warn(\"Got number of results different expected from %s, expected %d received %d, feature scores for any missing documents be 0, extraneous documents will be removed\" % (repr(m), num_results, len(res)))\n"
          ]
        },
        {
          "name": "stdout",
          "output_type": "stream",
          "text": [
            "21:49:04.396 [main] WARN org.terrier.querying.ApplyTermPipeline - The index has no termpipelines configuration, and no control configuration is found. Defaulting to global termpipelines configuration of 'Stopwords,PorterStemmer'. Set a termpipelines control to remove this warning.\n",
            "21:49:04.829 [main] WARN org.terrier.querying.ApplyTermPipeline - The index has no termpipelines configuration, and no control configuration is found. Defaulting to global termpipelines configuration of 'Stopwords,PorterStemmer'. Set a termpipelines control to remove this warning.\n",
            "21:49:05.361 [main] WARN org.terrier.querying.ApplyTermPipeline - The index has no termpipelines configuration, and no control configuration is found. Defaulting to global termpipelines configuration of 'Stopwords,PorterStemmer'. Set a termpipelines control to remove this warning.\n",
            "21:49:05.896 [main] WARN org.terrier.querying.ApplyTermPipeline - The index has no termpipelines configuration, and no control configuration is found. Defaulting to global termpipelines configuration of 'Stopwords,PorterStemmer'. Set a termpipelines control to remove this warning.\n",
            "21:49:06.409 [main] WARN org.terrier.querying.ApplyTermPipeline - The index has no termpipelines configuration, and no control configuration is found. Defaulting to global termpipelines configuration of 'Stopwords,PorterStemmer'. Set a termpipelines control to remove this warning.\n",
            "21:49:06.927 [main] WARN org.terrier.querying.ApplyTermPipeline - The index has no termpipelines configuration, and no control configuration is found. Defaulting to global termpipelines configuration of 'Stopwords,PorterStemmer'. Set a termpipelines control to remove this warning.\n",
            "21:49:07.440 [main] WARN org.terrier.querying.ApplyTermPipeline - The index has no termpipelines configuration, and no control configuration is found. Defaulting to global termpipelines configuration of 'Stopwords,PorterStemmer'. Set a termpipelines control to remove this warning.\n"
          ]
        },
        {
          "name": "stderr",
          "output_type": "stream",
          "text": [
            "/usr/local/lib/python3.7/dist-packages/pyterrier/transformer.py:760: UserWarning: Got number of results different expected from CombSumTransformer(CombSumTransformer(CombSumTransformer(CombSumTransformer(<pyterrier.batchretrieve.TextScorer object at 0x7f3827b80e90>, <pyterrier.batchretrieve.TextScorer object at 0x7f3827b80d90>), <pyterrier.batchretrieve.TextScorer object at 0x7f3827b80e10>), <pyterrier.batchretrieve.TextScorer object at 0x7f3827b80f10>), <pyterrier.batchretrieve.TextScorer object at 0x7f3827b80f90>), expected 900 received 19, feature scores for any missing documents be 0, extraneous documents will be removed\n",
            "  warn(\"Got number of results different expected from %s, expected %d received %d, feature scores for any missing documents be 0, extraneous documents will be removed\" % (repr(m), num_results, len(res)))\n"
          ]
        },
        {
          "name": "stdout",
          "output_type": "stream",
          "text": [
            "21:49:12.289 [main] WARN org.terrier.querying.ApplyTermPipeline - The index has no termpipelines configuration, and no control configuration is found. Defaulting to global termpipelines configuration of 'Stopwords,PorterStemmer'. Set a termpipelines control to remove this warning.\n",
            "21:49:12.714 [main] WARN org.terrier.querying.ApplyTermPipeline - The index has no termpipelines configuration, and no control configuration is found. Defaulting to global termpipelines configuration of 'Stopwords,PorterStemmer'. Set a termpipelines control to remove this warning.\n",
            "21:49:13.252 [main] WARN org.terrier.querying.ApplyTermPipeline - The index has no termpipelines configuration, and no control configuration is found. Defaulting to global termpipelines configuration of 'Stopwords,PorterStemmer'. Set a termpipelines control to remove this warning.\n",
            "21:49:13.778 [main] WARN org.terrier.querying.ApplyTermPipeline - The index has no termpipelines configuration, and no control configuration is found. Defaulting to global termpipelines configuration of 'Stopwords,PorterStemmer'. Set a termpipelines control to remove this warning.\n",
            "21:49:14.304 [main] WARN org.terrier.querying.ApplyTermPipeline - The index has no termpipelines configuration, and no control configuration is found. Defaulting to global termpipelines configuration of 'Stopwords,PorterStemmer'. Set a termpipelines control to remove this warning.\n",
            "21:49:14.849 [main] WARN org.terrier.querying.ApplyTermPipeline - The index has no termpipelines configuration, and no control configuration is found. Defaulting to global termpipelines configuration of 'Stopwords,PorterStemmer'. Set a termpipelines control to remove this warning.\n",
            "21:49:15.429 [main] WARN org.terrier.querying.ApplyTermPipeline - The index has no termpipelines configuration, and no control configuration is found. Defaulting to global termpipelines configuration of 'Stopwords,PorterStemmer'. Set a termpipelines control to remove this warning.\n"
          ]
        },
        {
          "name": "stderr",
          "output_type": "stream",
          "text": [
            "/usr/local/lib/python3.7/dist-packages/pyterrier/transformer.py:760: UserWarning: Got number of results different expected from CombSumTransformer(CombSumTransformer(CombSumTransformer(CombSumTransformer(<pyterrier.batchretrieve.TextScorer object at 0x7f3827b80e90>, <pyterrier.batchretrieve.TextScorer object at 0x7f3827b80d90>), <pyterrier.batchretrieve.TextScorer object at 0x7f3827b80e10>), <pyterrier.batchretrieve.TextScorer object at 0x7f3827b80f10>), <pyterrier.batchretrieve.TextScorer object at 0x7f3827b80f90>), expected 900 received 19, feature scores for any missing documents be 0, extraneous documents will be removed\n",
            "  warn(\"Got number of results different expected from %s, expected %d received %d, feature scores for any missing documents be 0, extraneous documents will be removed\" % (repr(m), num_results, len(res)))\n"
          ]
        },
        {
          "name": "stdout",
          "output_type": "stream",
          "text": [
            "21:49:20.229 [main] WARN org.terrier.querying.ApplyTermPipeline - The index has no termpipelines configuration, and no control configuration is found. Defaulting to global termpipelines configuration of 'Stopwords,PorterStemmer'. Set a termpipelines control to remove this warning.\n",
            "21:49:20.658 [main] WARN org.terrier.querying.ApplyTermPipeline - The index has no termpipelines configuration, and no control configuration is found. Defaulting to global termpipelines configuration of 'Stopwords,PorterStemmer'. Set a termpipelines control to remove this warning.\n",
            "21:49:21.189 [main] WARN org.terrier.querying.ApplyTermPipeline - The index has no termpipelines configuration, and no control configuration is found. Defaulting to global termpipelines configuration of 'Stopwords,PorterStemmer'. Set a termpipelines control to remove this warning.\n",
            "21:49:21.794 [main] WARN org.terrier.querying.ApplyTermPipeline - The index has no termpipelines configuration, and no control configuration is found. Defaulting to global termpipelines configuration of 'Stopwords,PorterStemmer'. Set a termpipelines control to remove this warning.\n",
            "21:49:22.339 [main] WARN org.terrier.querying.ApplyTermPipeline - The index has no termpipelines configuration, and no control configuration is found. Defaulting to global termpipelines configuration of 'Stopwords,PorterStemmer'. Set a termpipelines control to remove this warning.\n",
            "21:49:22.856 [main] WARN org.terrier.querying.ApplyTermPipeline - The index has no termpipelines configuration, and no control configuration is found. Defaulting to global termpipelines configuration of 'Stopwords,PorterStemmer'. Set a termpipelines control to remove this warning.\n",
            "21:49:23.372 [main] WARN org.terrier.querying.ApplyTermPipeline - The index has no termpipelines configuration, and no control configuration is found. Defaulting to global termpipelines configuration of 'Stopwords,PorterStemmer'. Set a termpipelines control to remove this warning.\n"
          ]
        },
        {
          "name": "stderr",
          "output_type": "stream",
          "text": [
            "/usr/local/lib/python3.7/dist-packages/pyterrier/transformer.py:760: UserWarning: Got number of results different expected from CombSumTransformer(CombSumTransformer(CombSumTransformer(CombSumTransformer(<pyterrier.batchretrieve.TextScorer object at 0x7f3827b80e90>, <pyterrier.batchretrieve.TextScorer object at 0x7f3827b80d90>), <pyterrier.batchretrieve.TextScorer object at 0x7f3827b80e10>), <pyterrier.batchretrieve.TextScorer object at 0x7f3827b80f10>), <pyterrier.batchretrieve.TextScorer object at 0x7f3827b80f90>), expected 900 received 19, feature scores for any missing documents be 0, extraneous documents will be removed\n",
            "  warn(\"Got number of results different expected from %s, expected %d received %d, feature scores for any missing documents be 0, extraneous documents will be removed\" % (repr(m), num_results, len(res)))\n"
          ]
        },
        {
          "name": "stdout",
          "output_type": "stream",
          "text": [
            "21:49:28.351 [main] WARN org.terrier.querying.ApplyTermPipeline - The index has no termpipelines configuration, and no control configuration is found. Defaulting to global termpipelines configuration of 'Stopwords,PorterStemmer'. Set a termpipelines control to remove this warning.\n",
            "21:49:28.788 [main] WARN org.terrier.querying.ApplyTermPipeline - The index has no termpipelines configuration, and no control configuration is found. Defaulting to global termpipelines configuration of 'Stopwords,PorterStemmer'. Set a termpipelines control to remove this warning.\n",
            "21:49:29.316 [main] WARN org.terrier.querying.ApplyTermPipeline - The index has no termpipelines configuration, and no control configuration is found. Defaulting to global termpipelines configuration of 'Stopwords,PorterStemmer'. Set a termpipelines control to remove this warning.\n",
            "21:49:29.842 [main] WARN org.terrier.querying.ApplyTermPipeline - The index has no termpipelines configuration, and no control configuration is found. Defaulting to global termpipelines configuration of 'Stopwords,PorterStemmer'. Set a termpipelines control to remove this warning.\n",
            "21:49:30.368 [main] WARN org.terrier.querying.ApplyTermPipeline - The index has no termpipelines configuration, and no control configuration is found. Defaulting to global termpipelines configuration of 'Stopwords,PorterStemmer'. Set a termpipelines control to remove this warning.\n",
            "21:49:30.927 [main] WARN org.terrier.querying.ApplyTermPipeline - The index has no termpipelines configuration, and no control configuration is found. Defaulting to global termpipelines configuration of 'Stopwords,PorterStemmer'. Set a termpipelines control to remove this warning.\n",
            "21:49:31.625 [main] WARN org.terrier.querying.ApplyTermPipeline - The index has no termpipelines configuration, and no control configuration is found. Defaulting to global termpipelines configuration of 'Stopwords,PorterStemmer'. Set a termpipelines control to remove this warning.\n"
          ]
        },
        {
          "name": "stderr",
          "output_type": "stream",
          "text": [
            "/usr/local/lib/python3.7/dist-packages/pyterrier/transformer.py:760: UserWarning: Got number of results different expected from CombSumTransformer(CombSumTransformer(CombSumTransformer(CombSumTransformer(<pyterrier.batchretrieve.TextScorer object at 0x7f3827b80e90>, <pyterrier.batchretrieve.TextScorer object at 0x7f3827b80d90>), <pyterrier.batchretrieve.TextScorer object at 0x7f3827b80e10>), <pyterrier.batchretrieve.TextScorer object at 0x7f3827b80f10>), <pyterrier.batchretrieve.TextScorer object at 0x7f3827b80f90>), expected 900 received 19, feature scores for any missing documents be 0, extraneous documents will be removed\n",
            "  warn(\"Got number of results different expected from %s, expected %d received %d, feature scores for any missing documents be 0, extraneous documents will be removed\" % (repr(m), num_results, len(res)))\n"
          ]
        },
        {
          "name": "stdout",
          "output_type": "stream",
          "text": [
            "21:49:36.447 [main] WARN org.terrier.querying.ApplyTermPipeline - The index has no termpipelines configuration, and no control configuration is found. Defaulting to global termpipelines configuration of 'Stopwords,PorterStemmer'. Set a termpipelines control to remove this warning.\n",
            "21:49:36.879 [main] WARN org.terrier.querying.ApplyTermPipeline - The index has no termpipelines configuration, and no control configuration is found. Defaulting to global termpipelines configuration of 'Stopwords,PorterStemmer'. Set a termpipelines control to remove this warning.\n",
            "21:49:37.414 [main] WARN org.terrier.querying.ApplyTermPipeline - The index has no termpipelines configuration, and no control configuration is found. Defaulting to global termpipelines configuration of 'Stopwords,PorterStemmer'. Set a termpipelines control to remove this warning.\n",
            "21:49:37.940 [main] WARN org.terrier.querying.ApplyTermPipeline - The index has no termpipelines configuration, and no control configuration is found. Defaulting to global termpipelines configuration of 'Stopwords,PorterStemmer'. Set a termpipelines control to remove this warning.\n",
            "21:49:38.462 [main] WARN org.terrier.querying.ApplyTermPipeline - The index has no termpipelines configuration, and no control configuration is found. Defaulting to global termpipelines configuration of 'Stopwords,PorterStemmer'. Set a termpipelines control to remove this warning.\n",
            "21:49:38.970 [main] WARN org.terrier.querying.ApplyTermPipeline - The index has no termpipelines configuration, and no control configuration is found. Defaulting to global termpipelines configuration of 'Stopwords,PorterStemmer'. Set a termpipelines control to remove this warning.\n",
            "21:49:39.492 [main] WARN org.terrier.querying.ApplyTermPipeline - The index has no termpipelines configuration, and no control configuration is found. Defaulting to global termpipelines configuration of 'Stopwords,PorterStemmer'. Set a termpipelines control to remove this warning.\n"
          ]
        },
        {
          "name": "stderr",
          "output_type": "stream",
          "text": [
            "/usr/local/lib/python3.7/dist-packages/pyterrier/transformer.py:760: UserWarning: Got number of results different expected from CombSumTransformer(CombSumTransformer(CombSumTransformer(CombSumTransformer(<pyterrier.batchretrieve.TextScorer object at 0x7f3827b80e90>, <pyterrier.batchretrieve.TextScorer object at 0x7f3827b80d90>), <pyterrier.batchretrieve.TextScorer object at 0x7f3827b80e10>), <pyterrier.batchretrieve.TextScorer object at 0x7f3827b80f10>), <pyterrier.batchretrieve.TextScorer object at 0x7f3827b80f90>), expected 900 received 19, feature scores for any missing documents be 0, extraneous documents will be removed\n",
            "  warn(\"Got number of results different expected from %s, expected %d received %d, feature scores for any missing documents be 0, extraneous documents will be removed\" % (repr(m), num_results, len(res)))\n"
          ]
        },
        {
          "data": {
            "application/javascript": [
              "\n",
              "    async function download(id, filename, size) {\n",
              "      if (!google.colab.kernel.accessAllowed) {\n",
              "        return;\n",
              "      }\n",
              "      const div = document.createElement('div');\n",
              "      const label = document.createElement('label');\n",
              "      label.textContent = `Downloading \"${filename}\": `;\n",
              "      div.appendChild(label);\n",
              "      const progress = document.createElement('progress');\n",
              "      progress.max = size;\n",
              "      div.appendChild(progress);\n",
              "      document.body.appendChild(div);\n",
              "\n",
              "      const buffers = [];\n",
              "      let downloaded = 0;\n",
              "\n",
              "      const channel = await google.colab.kernel.comms.open(id);\n",
              "      // Send a message to notify the kernel that we're ready.\n",
              "      channel.send({})\n",
              "\n",
              "      for await (const message of channel.messages) {\n",
              "        // Send a message to notify the kernel that we're ready.\n",
              "        channel.send({})\n",
              "        if (message.buffers) {\n",
              "          for (const buffer of message.buffers) {\n",
              "            buffers.push(buffer);\n",
              "            downloaded += buffer.byteLength;\n",
              "            progress.value = downloaded;\n",
              "          }\n",
              "        }\n",
              "      }\n",
              "      const blob = new Blob(buffers, {type: 'application/binary'});\n",
              "      const a = document.createElement('a');\n",
              "      a.href = window.URL.createObjectURL(blob);\n",
              "      a.download = filename;\n",
              "      div.appendChild(a);\n",
              "      a.click();\n",
              "      div.remove();\n",
              "    }\n",
              "  "
            ],
            "text/plain": [
              "<IPython.core.display.Javascript object>"
            ]
          },
          "metadata": {},
          "output_type": "display_data"
        },
        {
          "data": {
            "application/javascript": [
              "download(\"download_c478848b-51bc-4218-98ba-9d8c39be88b3\", \"feature_eval.csv\", 909)"
            ],
            "text/plain": [
              "<IPython.core.display.Javascript object>"
            ]
          },
          "metadata": {},
          "output_type": "display_data"
        }
      ],
      "source": [
        "feature_eval = pt.Experiment(\n",
        "    [ltr_feats_0 >> pt.ltr.feature_to_score(i) for i in range(len(fnames))],\n",
        "    test_topics,\n",
        "    qrels, \n",
        "    names=fnames,\n",
        "    eval_metrics=[\"map\", \"ndcg\", \"ndcg_cut_100\", \"P_30\", \"recall_30\", \"mrt\"])\n",
        "feature_eval.to_csv(\"feature_eval.csv\")\n",
        "files.download('feature_eval.csv')"
      ]
    },
    {
      "cell_type": "code",
      "execution_count": null,
      "metadata": {
        "colab": {
          "base_uri": "https://localhost:8080/"
        },
        "id": "YerpJf-kR-xA",
        "outputId": "78591398-8a32-41d8-a117-2af4129a9a72"
      },
      "outputs": [
        {
          "name": "stdout",
          "output_type": "stream",
          "text": [
            "13:06:24.818 [main] WARN org.terrier.querying.ApplyTermPipeline - The index has no termpipelines configuration, and no control configuration is found. Defaulting to global termpipelines configuration of 'Stopwords,PorterStemmer'. Set a termpipelines control to remove this warning.\n",
            "13:06:26.221 [main] WARN org.terrier.querying.ApplyTermPipeline - The index has no termpipelines configuration, and no control configuration is found. Defaulting to global termpipelines configuration of 'Stopwords,PorterStemmer'. Set a termpipelines control to remove this warning.\n",
            "13:06:27.752 [main] WARN org.terrier.querying.ApplyTermPipeline - The index has no termpipelines configuration, and no control configuration is found. Defaulting to global termpipelines configuration of 'Stopwords,PorterStemmer'. Set a termpipelines control to remove this warning.\n",
            "13:06:29.339 [main] WARN org.terrier.querying.ApplyTermPipeline - The index has no termpipelines configuration, and no control configuration is found. Defaulting to global termpipelines configuration of 'Stopwords,PorterStemmer'. Set a termpipelines control to remove this warning.\n",
            "13:06:30.932 [main] WARN org.terrier.querying.ApplyTermPipeline - The index has no termpipelines configuration, and no control configuration is found. Defaulting to global termpipelines configuration of 'Stopwords,PorterStemmer'. Set a termpipelines control to remove this warning.\n",
            "13:06:32.358 [main] WARN org.terrier.querying.ApplyTermPipeline - The index has no termpipelines configuration, and no control configuration is found. Defaulting to global termpipelines configuration of 'Stopwords,PorterStemmer'. Set a termpipelines control to remove this warning.\n",
            "13:06:33.782 [main] WARN org.terrier.querying.ApplyTermPipeline - The index has no termpipelines configuration, and no control configuration is found. Defaulting to global termpipelines configuration of 'Stopwords,PorterStemmer'. Set a termpipelines control to remove this warning.\n"
          ]
        },
        {
          "name": "stderr",
          "output_type": "stream",
          "text": [
            "/usr/local/lib/python3.7/dist-packages/pyterrier/transformer.py:760: UserWarning: Got number of results different expected from CombSumTransformer(CombSumTransformer(CombSumTransformer(CombSumTransformer(<pyterrier.batchretrieve.TextScorer object at 0x7fcc6cf7af50>, <pyterrier.batchretrieve.TextScorer object at 0x7fcc6cf7af90>), <pyterrier.batchretrieve.TextScorer object at 0x7fcc6cf79090>), <pyterrier.batchretrieve.TextScorer object at 0x7fcc6cf79110>), <pyterrier.batchretrieve.TextScorer object at 0x7fcc6cf79190>), expected 1800 received 85, feature scores for any missing documents be 0, extraneous documents will be removed\n",
            "  warn(\"Got number of results different expected from %s, expected %d received %d, feature scores for any missing documents be 0, extraneous documents will be removed\" % (repr(m), num_results, len(res)))\n",
            "/usr/local/lib/python3.7/dist-packages/pyterrier/transformer.py:760: UserWarning: Got number of results different expected from <pyterrier.batchretrieve.TextScorer object at 0x7fcc6cf7aed0>, expected 1800 received 511, feature scores for any missing documents be 0, extraneous documents will be removed\n",
            "  warn(\"Got number of results different expected from %s, expected %d received %d, feature scores for any missing documents be 0, extraneous documents will be removed\" % (repr(m), num_results, len(res)))\n"
          ]
        },
        {
          "name": "stdout",
          "output_type": "stream",
          "text": [
            "CPU times: user 30.6 s, sys: 509 ms, total: 31.1 s\n",
            "Wall time: 22.8 s\n",
            "13:06:46.464 [main] WARN org.terrier.querying.ApplyTermPipeline - The index has no termpipelines configuration, and no control configuration is found. Defaulting to global termpipelines configuration of 'Stopwords,PorterStemmer'. Set a termpipelines control to remove this warning.\n",
            "13:06:47.750 [main] WARN org.terrier.querying.ApplyTermPipeline - The index has no termpipelines configuration, and no control configuration is found. Defaulting to global termpipelines configuration of 'Stopwords,PorterStemmer'. Set a termpipelines control to remove this warning.\n",
            "13:06:49.194 [main] WARN org.terrier.querying.ApplyTermPipeline - The index has no termpipelines configuration, and no control configuration is found. Defaulting to global termpipelines configuration of 'Stopwords,PorterStemmer'. Set a termpipelines control to remove this warning.\n",
            "13:06:50.684 [main] WARN org.terrier.querying.ApplyTermPipeline - The index has no termpipelines configuration, and no control configuration is found. Defaulting to global termpipelines configuration of 'Stopwords,PorterStemmer'. Set a termpipelines control to remove this warning.\n",
            "13:06:52.001 [main] WARN org.terrier.querying.ApplyTermPipeline - The index has no termpipelines configuration, and no control configuration is found. Defaulting to global termpipelines configuration of 'Stopwords,PorterStemmer'. Set a termpipelines control to remove this warning.\n",
            "13:06:53.416 [main] WARN org.terrier.querying.ApplyTermPipeline - The index has no termpipelines configuration, and no control configuration is found. Defaulting to global termpipelines configuration of 'Stopwords,PorterStemmer'. Set a termpipelines control to remove this warning.\n"
          ]
        },
        {
          "name": "stderr",
          "output_type": "stream",
          "text": [
            "/usr/local/lib/python3.7/dist-packages/pyterrier/transformer.py:760: UserWarning: Got number of results different expected from CombSumTransformer(CombSumTransformer(CombSumTransformer(CombSumTransformer(<pyterrier.batchretrieve.TextScorer object at 0x7fcc6cf8db90>, <pyterrier.batchretrieve.TextScorer object at 0x7fcc6cf8dbd0>), <pyterrier.batchretrieve.TextScorer object at 0x7fcc6cf8db10>), <pyterrier.batchretrieve.TextScorer object at 0x7fcc6cf8dc10>), <pyterrier.batchretrieve.TextScorer object at 0x7fcc6cf8dc90>), expected 1800 received 85, feature scores for any missing documents be 0, extraneous documents will be removed\n",
            "  warn(\"Got number of results different expected from %s, expected %d received %d, feature scores for any missing documents be 0, extraneous documents will be removed\" % (repr(m), num_results, len(res)))\n",
            "/usr/local/lib/python3.7/dist-packages/pyterrier/transformer.py:760: UserWarning: Got number of results different expected from <pyterrier.batchretrieve.TextScorer object at 0x7fcc6cf8da90>, expected 1800 received 511, feature scores for any missing documents be 0, extraneous documents will be removed\n",
            "  warn(\"Got number of results different expected from %s, expected %d received %d, feature scores for any missing documents be 0, extraneous documents will be removed\" % (repr(m), num_results, len(res)))\n"
          ]
        },
        {
          "name": "stdout",
          "output_type": "stream",
          "text": [
            "CPU times: user 21.1 s, sys: 276 ms, total: 21.4 s\n",
            "Wall time: 18.6 s\n",
            "13:07:03.797 [main] WARN org.terrier.querying.ApplyTermPipeline - The index has no termpipelines configuration, and no control configuration is found. Defaulting to global termpipelines configuration of 'Stopwords,PorterStemmer'. Set a termpipelines control to remove this warning.\n",
            "13:07:04.840 [main] WARN org.terrier.querying.ApplyTermPipeline - The index has no termpipelines configuration, and no control configuration is found. Defaulting to global termpipelines configuration of 'Stopwords,PorterStemmer'. Set a termpipelines control to remove this warning.\n",
            "13:07:06.127 [main] WARN org.terrier.querying.ApplyTermPipeline - The index has no termpipelines configuration, and no control configuration is found. Defaulting to global termpipelines configuration of 'Stopwords,PorterStemmer'. Set a termpipelines control to remove this warning.\n",
            "13:07:07.607 [main] WARN org.terrier.querying.ApplyTermPipeline - The index has no termpipelines configuration, and no control configuration is found. Defaulting to global termpipelines configuration of 'Stopwords,PorterStemmer'. Set a termpipelines control to remove this warning.\n",
            "13:07:08.942 [main] WARN org.terrier.querying.ApplyTermPipeline - The index has no termpipelines configuration, and no control configuration is found. Defaulting to global termpipelines configuration of 'Stopwords,PorterStemmer'. Set a termpipelines control to remove this warning.\n",
            "13:07:10.249 [main] WARN org.terrier.querying.ApplyTermPipeline - The index has no termpipelines configuration, and no control configuration is found. Defaulting to global termpipelines configuration of 'Stopwords,PorterStemmer'. Set a termpipelines control to remove this warning.\n",
            "13:07:11.529 [main] WARN org.terrier.querying.ApplyTermPipeline - The index has no termpipelines configuration, and no control configuration is found. Defaulting to global termpipelines configuration of 'Stopwords,PorterStemmer'. Set a termpipelines control to remove this warning.\n"
          ]
        },
        {
          "name": "stderr",
          "output_type": "stream",
          "text": [
            "/usr/local/lib/python3.7/dist-packages/pyterrier/transformer.py:760: UserWarning: Got number of results different expected from CombSumTransformer(CombSumTransformer(CombSumTransformer(CombSumTransformer(<pyterrier.batchretrieve.TextScorer object at 0x7fcc6cf82bd0>, <pyterrier.batchretrieve.TextScorer object at 0x7fcc6cf82c10>), <pyterrier.batchretrieve.TextScorer object at 0x7fcc6cf82b50>), <pyterrier.batchretrieve.TextScorer object at 0x7fcc6cf82c50>), <pyterrier.batchretrieve.TextScorer object at 0x7fcc6cf82cd0>), expected 1800 received 85, feature scores for any missing documents be 0, extraneous documents will be removed\n",
            "  warn(\"Got number of results different expected from %s, expected %d received %d, feature scores for any missing documents be 0, extraneous documents will be removed\" % (repr(m), num_results, len(res)))\n",
            "/usr/local/lib/python3.7/dist-packages/pyterrier/transformer.py:760: UserWarning: Got number of results different expected from <pyterrier.batchretrieve.TextScorer object at 0x7fcc6cf82a90>, expected 1800 received 511, feature scores for any missing documents be 0, extraneous documents will be removed\n",
            "  warn(\"Got number of results different expected from %s, expected %d received %d, feature scores for any missing documents be 0, extraneous documents will be removed\" % (repr(m), num_results, len(res)))\n"
          ]
        },
        {
          "name": "stdout",
          "output_type": "stream",
          "text": [
            "CPU times: user 19.4 s, sys: 253 ms, total: 19.7 s\n",
            "Wall time: 18.2 s\n",
            "13:07:22.165 [main] WARN org.terrier.querying.ApplyTermPipeline - The index has no termpipelines configuration, and no control configuration is found. Defaulting to global termpipelines configuration of 'Stopwords,PorterStemmer'. Set a termpipelines control to remove this warning.\n",
            "13:07:23.199 [main] WARN org.terrier.querying.ApplyTermPipeline - The index has no termpipelines configuration, and no control configuration is found. Defaulting to global termpipelines configuration of 'Stopwords,PorterStemmer'. Set a termpipelines control to remove this warning.\n"
          ]
        },
        {
          "name": "stderr",
          "output_type": "stream",
          "text": [
            "/usr/local/lib/python3.7/dist-packages/pyterrier/transformer.py:760: UserWarning: Got number of results different expected from <pyterrier.batchretrieve.TextScorer object at 0x7fcc6cf91250>, expected 1800 received 511, feature scores for any missing documents be 0, extraneous documents will be removed\n",
            "  warn(\"Got number of results different expected from %s, expected %d received %d, feature scores for any missing documents be 0, extraneous documents will be removed\" % (repr(m), num_results, len(res)))\n"
          ]
        },
        {
          "name": "stdout",
          "output_type": "stream",
          "text": [
            "CPU times: user 12.4 s, sys: 246 ms, total: 12.6 s\n",
            "Wall time: 11.4 s\n",
            "13:07:33.366 [main] WARN org.terrier.querying.ApplyTermPipeline - The index has no termpipelines configuration, and no control configuration is found. Defaulting to global termpipelines configuration of 'Stopwords,PorterStemmer'. Set a termpipelines control to remove this warning.\n",
            "13:07:34.659 [main] WARN org.terrier.querying.ApplyTermPipeline - The index has no termpipelines configuration, and no control configuration is found. Defaulting to global termpipelines configuration of 'Stopwords,PorterStemmer'. Set a termpipelines control to remove this warning.\n",
            "13:07:35.999 [main] WARN org.terrier.querying.ApplyTermPipeline - The index has no termpipelines configuration, and no control configuration is found. Defaulting to global termpipelines configuration of 'Stopwords,PorterStemmer'. Set a termpipelines control to remove this warning.\n",
            "13:07:37.394 [main] WARN org.terrier.querying.ApplyTermPipeline - The index has no termpipelines configuration, and no control configuration is found. Defaulting to global termpipelines configuration of 'Stopwords,PorterStemmer'. Set a termpipelines control to remove this warning.\n",
            "13:07:38.805 [main] WARN org.terrier.querying.ApplyTermPipeline - The index has no termpipelines configuration, and no control configuration is found. Defaulting to global termpipelines configuration of 'Stopwords,PorterStemmer'. Set a termpipelines control to remove this warning.\n",
            "13:07:40.122 [main] WARN org.terrier.querying.ApplyTermPipeline - The index has no termpipelines configuration, and no control configuration is found. Defaulting to global termpipelines configuration of 'Stopwords,PorterStemmer'. Set a termpipelines control to remove this warning.\n"
          ]
        },
        {
          "name": "stderr",
          "output_type": "stream",
          "text": [
            "/usr/local/lib/python3.7/dist-packages/pyterrier/transformer.py:760: UserWarning: Got number of results different expected from CombSumTransformer(CombSumTransformer(CombSumTransformer(CombSumTransformer(<pyterrier.batchretrieve.TextScorer object at 0x7fcc7cbbd290>, <pyterrier.batchretrieve.TextScorer object at 0x7fcc7cbbd510>), <pyterrier.batchretrieve.TextScorer object at 0x7fcc7cbbd610>), <pyterrier.batchretrieve.TextScorer object at 0x7fcc7cbbd410>), <pyterrier.batchretrieve.TextScorer object at 0x7fcc7cbbd4d0>), expected 1800 received 85, feature scores for any missing documents be 0, extraneous documents will be removed\n",
            "  warn(\"Got number of results different expected from %s, expected %d received %d, feature scores for any missing documents be 0, extraneous documents will be removed\" % (repr(m), num_results, len(res)))\n",
            "/usr/local/lib/python3.7/dist-packages/pyterrier/transformer.py:760: UserWarning: Got number of results different expected from <pyterrier.batchretrieve.TextScorer object at 0x7fcc7cbbd250>, expected 1800 received 511, feature scores for any missing documents be 0, extraneous documents will be removed\n",
            "  warn(\"Got number of results different expected from %s, expected %d received %d, feature scores for any missing documents be 0, extraneous documents will be removed\" % (repr(m), num_results, len(res)))\n"
          ]
        },
        {
          "name": "stdout",
          "output_type": "stream",
          "text": [
            "CPU times: user 17.9 s, sys: 157 ms, total: 18 s\n",
            "Wall time: 16.9 s\n",
            "13:07:50.638 [main] WARN org.terrier.querying.ApplyTermPipeline - The index has no termpipelines configuration, and no control configuration is found. Defaulting to global termpipelines configuration of 'Stopwords,PorterStemmer'. Set a termpipelines control to remove this warning.\n"
          ]
        },
        {
          "name": "stderr",
          "output_type": "stream",
          "text": [
            "/usr/local/lib/python3.7/dist-packages/pyterrier/transformer.py:760: UserWarning: Got number of results different expected from <pyterrier.batchretrieve.TextScorer object at 0x7fcc6cf919d0>, expected 1800 received 511, feature scores for any missing documents be 0, extraneous documents will be removed\n",
            "  warn(\"Got number of results different expected from %s, expected %d received %d, feature scores for any missing documents be 0, extraneous documents will be removed\" % (repr(m), num_results, len(res)))\n"
          ]
        },
        {
          "name": "stdout",
          "output_type": "stream",
          "text": [
            "CPU times: user 11.4 s, sys: 239 ms, total: 11.6 s\n",
            "Wall time: 10.4 s\n",
            "13:08:00.759 [main] WARN org.terrier.querying.ApplyTermPipeline - The index has no termpipelines configuration, and no control configuration is found. Defaulting to global termpipelines configuration of 'Stopwords,PorterStemmer'. Set a termpipelines control to remove this warning.\n",
            "13:08:01.802 [main] WARN org.terrier.querying.ApplyTermPipeline - The index has no termpipelines configuration, and no control configuration is found. Defaulting to global termpipelines configuration of 'Stopwords,PorterStemmer'. Set a termpipelines control to remove this warning.\n"
          ]
        },
        {
          "name": "stderr",
          "output_type": "stream",
          "text": [
            "/usr/local/lib/python3.7/dist-packages/pyterrier/transformer.py:760: UserWarning: Got number of results different expected from <pyterrier.batchretrieve.TextScorer object at 0x7fcc6cf5df90>, expected 1800 received 511, feature scores for any missing documents be 0, extraneous documents will be removed\n",
            "  warn(\"Got number of results different expected from %s, expected %d received %d, feature scores for any missing documents be 0, extraneous documents will be removed\" % (repr(m), num_results, len(res)))\n"
          ]
        },
        {
          "name": "stdout",
          "output_type": "stream",
          "text": [
            "CPU times: user 12.3 s, sys: 110 ms, total: 12.4 s\n",
            "Wall time: 11.1 s\n",
            "13:08:11.754 [main] WARN org.terrier.querying.ApplyTermPipeline - The index has no termpipelines configuration, and no control configuration is found. Defaulting to global termpipelines configuration of 'Stopwords,PorterStemmer'. Set a termpipelines control to remove this warning.\n"
          ]
        },
        {
          "name": "stderr",
          "output_type": "stream",
          "text": [
            "/usr/local/lib/python3.7/dist-packages/pyterrier/transformer.py:760: UserWarning: Got number of results different expected from <pyterrier.batchretrieve.TextScorer object at 0x7fcc6cf8a490>, expected 1800 received 511, feature scores for any missing documents be 0, extraneous documents will be removed\n",
            "  warn(\"Got number of results different expected from %s, expected %d received %d, feature scores for any missing documents be 0, extraneous documents will be removed\" % (repr(m), num_results, len(res)))\n"
          ]
        },
        {
          "name": "stdout",
          "output_type": "stream",
          "text": [
            "CPU times: user 10 s, sys: 92.4 ms, total: 10.1 s\n",
            "Wall time: 9.58 s\n"
          ]
        }
      ],
      "source": [
        "import fastrank\n",
        "\n",
        "train_request = fastrank.TrainRequest.coordinate_ascent()\n",
        "\n",
        "params = train_request.params\n",
        "params.init_random = True\n",
        "params.normalize = True\n",
        "params.seed = 1234567\n",
        "qrels['label'] = qrels.label.astype(float)\n",
        "ca_pipe0 = ltr_feats_0 >> pt.ltr.apply_learned_model(train_request, form='fastrank')\n",
        "%time ca_pipe0.fit(train_topics, qrels)\n",
        "ca_pipe1 = ltr_feats_1 >> pt.ltr.apply_learned_model(train_request, form='fastrank')\n",
        "%time ca_pipe1.fit(train_topics, qrels)\n",
        "ca_pipe2 = ltr_feats_2 >> pt.ltr.apply_learned_model(train_request, form='fastrank')\n",
        "%time ca_pipe2.fit(train_topics, qrels)\n",
        "ca_pipe3 = ltr_feats_3 >> pt.ltr.apply_learned_model(train_request, form='fastrank')\n",
        "%time ca_pipe3.fit(train_topics, qrels)\n",
        "ca_pipe4 = ltr_feats_4 >> pt.ltr.apply_learned_model(train_request, form='fastrank')\n",
        "%time ca_pipe4.fit(train_topics, qrels)\n",
        "ca_pipe5 = ltr_feats_5 >> pt.ltr.apply_learned_model(train_request, form='fastrank')\n",
        "%time ca_pipe5.fit(train_topics, qrels)\n",
        "ca_pipe6 = ltr_feats_6 >> pt.ltr.apply_learned_model(train_request, form='fastrank')\n",
        "%time ca_pipe6.fit(train_topics, qrels)\n",
        "ca_pipe7 = ltr_feats_7 >> pt.ltr.apply_learned_model(train_request, form='fastrank')\n",
        "%time ca_pipe7.fit(train_topics, qrels)"
      ]
    },
    {
      "cell_type": "code",
      "execution_count": null,
      "metadata": {
        "colab": {
          "base_uri": "https://localhost:8080/"
        },
        "id": "rfvhxU7YR_SJ",
        "outputId": "630d7439-8c7c-4fdf-9de8-984a4fd08f96"
      },
      "outputs": [
        {
          "name": "stdout",
          "output_type": "stream",
          "text": [
            "13:08:48.978 [main] WARN org.terrier.querying.ApplyTermPipeline - The index has no termpipelines configuration, and no control configuration is found. Defaulting to global termpipelines configuration of 'Stopwords,PorterStemmer'. Set a termpipelines control to remove this warning.\n",
            "13:08:50.032 [main] WARN org.terrier.querying.ApplyTermPipeline - The index has no termpipelines configuration, and no control configuration is found. Defaulting to global termpipelines configuration of 'Stopwords,PorterStemmer'. Set a termpipelines control to remove this warning.\n",
            "13:08:51.299 [main] WARN org.terrier.querying.ApplyTermPipeline - The index has no termpipelines configuration, and no control configuration is found. Defaulting to global termpipelines configuration of 'Stopwords,PorterStemmer'. Set a termpipelines control to remove this warning.\n",
            "13:08:52.649 [main] WARN org.terrier.querying.ApplyTermPipeline - The index has no termpipelines configuration, and no control configuration is found. Defaulting to global termpipelines configuration of 'Stopwords,PorterStemmer'. Set a termpipelines control to remove this warning.\n",
            "13:08:53.986 [main] WARN org.terrier.querying.ApplyTermPipeline - The index has no termpipelines configuration, and no control configuration is found. Defaulting to global termpipelines configuration of 'Stopwords,PorterStemmer'. Set a termpipelines control to remove this warning.\n",
            "13:08:55.323 [main] WARN org.terrier.querying.ApplyTermPipeline - The index has no termpipelines configuration, and no control configuration is found. Defaulting to global termpipelines configuration of 'Stopwords,PorterStemmer'. Set a termpipelines control to remove this warning.\n",
            "13:08:56.611 [main] WARN org.terrier.querying.ApplyTermPipeline - The index has no termpipelines configuration, and no control configuration is found. Defaulting to global termpipelines configuration of 'Stopwords,PorterStemmer'. Set a termpipelines control to remove this warning.\n"
          ]
        },
        {
          "name": "stderr",
          "output_type": "stream",
          "text": [
            "/usr/local/lib/python3.7/dist-packages/pyterrier/transformer.py:760: UserWarning: Got number of results different expected from CombSumTransformer(CombSumTransformer(CombSumTransformer(CombSumTransformer(<pyterrier.batchretrieve.TextScorer object at 0x7fcc6cf7af50>, <pyterrier.batchretrieve.TextScorer object at 0x7fcc6cf7af90>), <pyterrier.batchretrieve.TextScorer object at 0x7fcc6cf79090>), <pyterrier.batchretrieve.TextScorer object at 0x7fcc6cf79110>), <pyterrier.batchretrieve.TextScorer object at 0x7fcc6cf79190>), expected 1800 received 85, feature scores for any missing documents be 0, extraneous documents will be removed\n",
            "  warn(\"Got number of results different expected from %s, expected %d received %d, feature scores for any missing documents be 0, extraneous documents will be removed\" % (repr(m), num_results, len(res)))\n",
            "/usr/local/lib/python3.7/dist-packages/pyterrier/transformer.py:760: UserWarning: Got number of results different expected from <pyterrier.batchretrieve.TextScorer object at 0x7fcc6cf7aed0>, expected 1800 received 511, feature scores for any missing documents be 0, extraneous documents will be removed\n",
            "  warn(\"Got number of results different expected from %s, expected %d received %d, feature scores for any missing documents be 0, extraneous documents will be removed\" % (repr(m), num_results, len(res)))\n",
            "[Parallel(n_jobs=2)]: Using backend ThreadingBackend with 2 concurrent workers.\n",
            "[Parallel(n_jobs=2)]: Done  46 tasks      | elapsed:    0.2s\n",
            "[Parallel(n_jobs=2)]: Done 196 tasks      | elapsed:    0.9s\n"
          ]
        },
        {
          "name": "stdout",
          "output_type": "stream",
          "text": [
            "CPU times: user 20.4 s, sys: 276 ms, total: 20.7 s\n",
            "Wall time: 19 s\n"
          ]
        },
        {
          "name": "stderr",
          "output_type": "stream",
          "text": [
            "[Parallel(n_jobs=2)]: Done 400 out of 400 | elapsed:    1.8s finished\n"
          ]
        }
      ],
      "source": [
        "from sklearn.ensemble import RandomForestRegressor\n",
        "\n",
        "rf = RandomForestRegressor(n_estimators=400, verbose=1, random_state=SEED, n_jobs=2)\n",
        "\n",
        "rf_pipe = ltr_feats_0 >> pt.ltr.apply_learned_model(rf)\n",
        "\n",
        "%time rf_pipe.fit(train_topics, qrels)"
      ]
    },
    {
      "cell_type": "code",
      "execution_count": null,
      "metadata": {
        "colab": {
          "base_uri": "https://localhost:8080/"
        },
        "id": "8Pn9skuoTQ5L",
        "outputId": "85309377-aaa2-440f-c2b8-11fa8697c8b4"
      },
      "outputs": [
        {
          "name": "stdout",
          "output_type": "stream",
          "text": [
            "13:11:36.503 [main] WARN org.terrier.querying.ApplyTermPipeline - The index has no termpipelines configuration, and no control configuration is found. Defaulting to global termpipelines configuration of 'Stopwords,PorterStemmer'. Set a termpipelines control to remove this warning.\n",
            "13:11:37.525 [main] WARN org.terrier.querying.ApplyTermPipeline - The index has no termpipelines configuration, and no control configuration is found. Defaulting to global termpipelines configuration of 'Stopwords,PorterStemmer'. Set a termpipelines control to remove this warning.\n",
            "13:11:38.880 [main] WARN org.terrier.querying.ApplyTermPipeline - The index has no termpipelines configuration, and no control configuration is found. Defaulting to global termpipelines configuration of 'Stopwords,PorterStemmer'. Set a termpipelines control to remove this warning.\n",
            "13:11:40.250 [main] WARN org.terrier.querying.ApplyTermPipeline - The index has no termpipelines configuration, and no control configuration is found. Defaulting to global termpipelines configuration of 'Stopwords,PorterStemmer'. Set a termpipelines control to remove this warning.\n",
            "13:11:41.620 [main] WARN org.terrier.querying.ApplyTermPipeline - The index has no termpipelines configuration, and no control configuration is found. Defaulting to global termpipelines configuration of 'Stopwords,PorterStemmer'. Set a termpipelines control to remove this warning.\n",
            "13:11:42.936 [main] WARN org.terrier.querying.ApplyTermPipeline - The index has no termpipelines configuration, and no control configuration is found. Defaulting to global termpipelines configuration of 'Stopwords,PorterStemmer'. Set a termpipelines control to remove this warning.\n",
            "13:11:44.247 [main] WARN org.terrier.querying.ApplyTermPipeline - The index has no termpipelines configuration, and no control configuration is found. Defaulting to global termpipelines configuration of 'Stopwords,PorterStemmer'. Set a termpipelines control to remove this warning.\n"
          ]
        },
        {
          "name": "stderr",
          "output_type": "stream",
          "text": [
            "/usr/local/lib/python3.7/dist-packages/pyterrier/transformer.py:760: UserWarning: Got number of results different expected from CombSumTransformer(CombSumTransformer(CombSumTransformer(CombSumTransformer(<pyterrier.batchretrieve.TextScorer object at 0x7fcc6cf7af50>, <pyterrier.batchretrieve.TextScorer object at 0x7fcc6cf7af90>), <pyterrier.batchretrieve.TextScorer object at 0x7fcc6cf79090>), <pyterrier.batchretrieve.TextScorer object at 0x7fcc6cf79110>), <pyterrier.batchretrieve.TextScorer object at 0x7fcc6cf79190>), expected 1800 received 85, feature scores for any missing documents be 0, extraneous documents will be removed\n",
            "  warn(\"Got number of results different expected from %s, expected %d received %d, feature scores for any missing documents be 0, extraneous documents will be removed\" % (repr(m), num_results, len(res)))\n",
            "/usr/local/lib/python3.7/dist-packages/pyterrier/transformer.py:760: UserWarning: Got number of results different expected from <pyterrier.batchretrieve.TextScorer object at 0x7fcc6cf7aed0>, expected 1800 received 511, feature scores for any missing documents be 0, extraneous documents will be removed\n",
            "  warn(\"Got number of results different expected from %s, expected %d received %d, feature scores for any missing documents be 0, extraneous documents will be removed\" % (repr(m), num_results, len(res)))\n"
          ]
        },
        {
          "name": "stdout",
          "output_type": "stream",
          "text": [
            "13:11:47.256 [main] WARN org.terrier.querying.ApplyTermPipeline - The index has no termpipelines configuration, and no control configuration is found. Defaulting to global termpipelines configuration of 'Stopwords,PorterStemmer'. Set a termpipelines control to remove this warning.\n",
            "13:11:47.508 [main] WARN org.terrier.querying.ApplyTermPipeline - The index has no termpipelines configuration, and no control configuration is found. Defaulting to global termpipelines configuration of 'Stopwords,PorterStemmer'. Set a termpipelines control to remove this warning.\n",
            "13:11:47.806 [main] WARN org.terrier.querying.ApplyTermPipeline - The index has no termpipelines configuration, and no control configuration is found. Defaulting to global termpipelines configuration of 'Stopwords,PorterStemmer'. Set a termpipelines control to remove this warning.\n",
            "13:11:48.111 [main] WARN org.terrier.querying.ApplyTermPipeline - The index has no termpipelines configuration, and no control configuration is found. Defaulting to global termpipelines configuration of 'Stopwords,PorterStemmer'. Set a termpipelines control to remove this warning.\n",
            "13:11:48.408 [main] WARN org.terrier.querying.ApplyTermPipeline - The index has no termpipelines configuration, and no control configuration is found. Defaulting to global termpipelines configuration of 'Stopwords,PorterStemmer'. Set a termpipelines control to remove this warning.\n",
            "13:11:48.709 [main] WARN org.terrier.querying.ApplyTermPipeline - The index has no termpipelines configuration, and no control configuration is found. Defaulting to global termpipelines configuration of 'Stopwords,PorterStemmer'. Set a termpipelines control to remove this warning.\n",
            "13:11:49.010 [main] WARN org.terrier.querying.ApplyTermPipeline - The index has no termpipelines configuration, and no control configuration is found. Defaulting to global termpipelines configuration of 'Stopwords,PorterStemmer'. Set a termpipelines control to remove this warning.\n"
          ]
        },
        {
          "name": "stderr",
          "output_type": "stream",
          "text": [
            "/usr/local/lib/python3.7/dist-packages/pyterrier/transformer.py:760: UserWarning: Got number of results different expected from CombSumTransformer(CombSumTransformer(CombSumTransformer(CombSumTransformer(<pyterrier.batchretrieve.TextScorer object at 0x7fcc6cf7af50>, <pyterrier.batchretrieve.TextScorer object at 0x7fcc6cf7af90>), <pyterrier.batchretrieve.TextScorer object at 0x7fcc6cf79090>), <pyterrier.batchretrieve.TextScorer object at 0x7fcc6cf79110>), <pyterrier.batchretrieve.TextScorer object at 0x7fcc6cf79190>), expected 300 received 27, feature scores for any missing documents be 0, extraneous documents will be removed\n",
            "  warn(\"Got number of results different expected from %s, expected %d received %d, feature scores for any missing documents be 0, extraneous documents will be removed\" % (repr(m), num_results, len(res)))\n",
            "/usr/local/lib/python3.7/dist-packages/lightgbm/engine.py:151: UserWarning: Found `num_iterations` in params. Will use it instead of argument\n",
            "  warnings.warn(\"Found `{}` in params. Will use it instead of argument\".format(alias))\n",
            "/usr/local/lib/python3.7/dist-packages/lightgbm/engine.py:156: UserWarning: Found `early_stopping_rounds` in params. Will use it instead of argument\n",
            "  warnings.warn(\"Found `{}` in params. Will use it instead of argument\".format(alias))\n"
          ]
        },
        {
          "name": "stdout",
          "output_type": "stream",
          "text": [
            "[LightGBM] [Warning] early_stopping_round is set=40, early_stopping_rounds=40 will be ignored. Current value: early_stopping_round=40\n",
            "[LightGBM] [Warning] min_sum_hessian_in_leaf is set=1, min_child_weight=0.001 will be ignored. Current value: min_sum_hessian_in_leaf=1\n",
            "[LightGBM] [Warning] min_data_in_leaf is set=1, min_child_samples=20 will be ignored. Current value: min_data_in_leaf=1\n",
            "[LightGBM] [Warning] min_sum_hessian_in_leaf is set=1, min_child_weight=0.001 will be ignored. Current value: min_sum_hessian_in_leaf=1\n",
            "[LightGBM] [Warning] min_data_in_leaf is set=1, min_child_samples=20 will be ignored. Current value: min_data_in_leaf=1\n",
            "[LightGBM] [Warning] Auto-choosing row-wise multi-threading, the overhead of testing was 0.000763 seconds.\n",
            "You can set `force_row_wise=true` to remove the overhead.\n",
            "And if memory is not enough, you can set `force_col_wise=true`.\n",
            "[LightGBM] [Info] Total Bins 744\n",
            "[LightGBM] [Info] Number of data points in the train set: 1800, number of used features: 7\n",
            "[LightGBM] [Warning] early_stopping_round is set=40, early_stopping_rounds=40 will be ignored. Current value: early_stopping_round=40\n",
            "[LightGBM] [Warning] min_sum_hessian_in_leaf is set=1, min_child_weight=0.001 will be ignored. Current value: min_sum_hessian_in_leaf=1\n",
            "[LightGBM] [Warning] min_data_in_leaf is set=1, min_child_samples=20 will be ignored. Current value: min_data_in_leaf=1\n",
            "[1]\tvalid_0's ndcg@10: 0.604825\n",
            "Training until validation scores don't improve for 40 rounds\n",
            "[2]\tvalid_0's ndcg@10: 0.493135\n",
            "[3]\tvalid_0's ndcg@10: 0.494727\n",
            "[4]\tvalid_0's ndcg@10: 0.479907\n",
            "[5]\tvalid_0's ndcg@10: 0.499234\n",
            "[6]\tvalid_0's ndcg@10: 0.519806\n",
            "[7]\tvalid_0's ndcg@10: 0.530999\n",
            "[8]\tvalid_0's ndcg@10: 0.551353\n",
            "[9]\tvalid_0's ndcg@10: 0.572032\n",
            "[10]\tvalid_0's ndcg@10: 0.579298\n",
            "[11]\tvalid_0's ndcg@10: 0.573362\n",
            "[12]\tvalid_0's ndcg@10: 0.580374\n",
            "[13]\tvalid_0's ndcg@10: 0.575793\n",
            "[14]\tvalid_0's ndcg@10: 0.573916\n",
            "[15]\tvalid_0's ndcg@10: 0.56381\n",
            "[16]\tvalid_0's ndcg@10: 0.5833\n",
            "[LightGBM] [Warning] No further splits with positive gain, best gain: -inf\n",
            "[17]\tvalid_0's ndcg@10: 0.579816\n",
            "[18]\tvalid_0's ndcg@10: 0.59733\n",
            "[LightGBM] [Warning] No further splits with positive gain, best gain: -inf\n",
            "[19]\tvalid_0's ndcg@10: 0.588913\n",
            "[LightGBM] [Warning] No further splits with positive gain, best gain: -inf\n",
            "[20]\tvalid_0's ndcg@10: 0.608748\n",
            "[LightGBM] [Warning] No further splits with positive gain, best gain: -inf\n",
            "[21]\tvalid_0's ndcg@10: 0.606929\n",
            "[LightGBM] [Warning] No further splits with positive gain, best gain: -inf\n",
            "[22]\tvalid_0's ndcg@10: 0.617015\n",
            "[LightGBM] [Warning] No further splits with positive gain, best gain: -inf\n",
            "[23]\tvalid_0's ndcg@10: 0.619863\n",
            "[LightGBM] [Warning] No further splits with positive gain, best gain: -inf\n",
            "[24]\tvalid_0's ndcg@10: 0.617737\n",
            "[LightGBM] [Warning] No further splits with positive gain, best gain: -inf\n",
            "[25]\tvalid_0's ndcg@10: 0.620442\n",
            "[LightGBM] [Warning] No further splits with positive gain, best gain: -inf\n",
            "[26]\tvalid_0's ndcg@10: 0.623914\n",
            "[LightGBM] [Warning] No further splits with positive gain, best gain: -inf\n",
            "[27]\tvalid_0's ndcg@10: 0.615922\n",
            "[LightGBM] [Warning] No further splits with positive gain, best gain: -inf\n",
            "[28]\tvalid_0's ndcg@10: 0.618224\n",
            "[LightGBM] [Warning] No further splits with positive gain, best gain: -inf\n",
            "[29]\tvalid_0's ndcg@10: 0.615772\n",
            "[LightGBM] [Warning] No further splits with positive gain, best gain: -inf\n",
            "[30]\tvalid_0's ndcg@10: 0.628643\n",
            "[LightGBM] [Warning] No further splits with positive gain, best gain: -inf\n",
            "[31]\tvalid_0's ndcg@10: 0.62999\n",
            "[LightGBM] [Warning] No further splits with positive gain, best gain: -inf\n",
            "[32]\tvalid_0's ndcg@10: 0.630355\n",
            "[LightGBM] [Warning] No further splits with positive gain, best gain: -inf\n",
            "[33]\tvalid_0's ndcg@10: 0.656142\n",
            "[LightGBM] [Warning] No further splits with positive gain, best gain: -inf\n",
            "[34]\tvalid_0's ndcg@10: 0.656323\n",
            "[LightGBM] [Warning] No further splits with positive gain, best gain: -inf\n",
            "[35]\tvalid_0's ndcg@10: 0.655266\n",
            "[LightGBM] [Warning] No further splits with positive gain, best gain: -inf\n",
            "[36]\tvalid_0's ndcg@10: 0.650253\n",
            "[LightGBM] [Warning] No further splits with positive gain, best gain: -inf\n",
            "[37]\tvalid_0's ndcg@10: 0.655266\n",
            "[LightGBM] [Warning] No further splits with positive gain, best gain: -inf\n",
            "[38]\tvalid_0's ndcg@10: 0.657294\n",
            "[LightGBM] [Warning] No further splits with positive gain, best gain: -inf\n",
            "[39]\tvalid_0's ndcg@10: 0.663303\n",
            "[LightGBM] [Warning] No further splits with positive gain, best gain: -inf\n",
            "[40]\tvalid_0's ndcg@10: 0.660238\n",
            "[LightGBM] [Warning] No further splits with positive gain, best gain: -inf\n",
            "[41]\tvalid_0's ndcg@10: 0.660238\n",
            "[LightGBM] [Warning] No further splits with positive gain, best gain: -inf\n",
            "[42]\tvalid_0's ndcg@10: 0.658567\n",
            "[LightGBM] [Warning] No further splits with positive gain, best gain: -inf\n",
            "[43]\tvalid_0's ndcg@10: 0.658774\n",
            "[LightGBM] [Warning] No further splits with positive gain, best gain: -inf\n",
            "[44]\tvalid_0's ndcg@10: 0.657225\n",
            "[LightGBM] [Warning] No further splits with positive gain, best gain: -inf\n",
            "[45]\tvalid_0's ndcg@10: 0.657225\n",
            "[LightGBM] [Warning] No further splits with positive gain, best gain: -inf\n",
            "[46]\tvalid_0's ndcg@10: 0.657017\n",
            "[LightGBM] [Warning] No further splits with positive gain, best gain: -inf\n",
            "[47]\tvalid_0's ndcg@10: 0.662651\n",
            "[LightGBM] [Warning] No further splits with positive gain, best gain: -inf\n",
            "[48]\tvalid_0's ndcg@10: 0.664322\n",
            "[LightGBM] [Warning] No further splits with positive gain, best gain: -inf\n",
            "[49]\tvalid_0's ndcg@10: 0.667147\n",
            "[LightGBM] [Warning] No further splits with positive gain, best gain: -inf\n",
            "[50]\tvalid_0's ndcg@10: 0.667147\n",
            "[LightGBM] [Warning] No further splits with positive gain, best gain: -inf\n",
            "[51]\tvalid_0's ndcg@10: 0.66892\n",
            "[LightGBM] [Warning] No further splits with positive gain, best gain: -inf\n",
            "[52]\tvalid_0's ndcg@10: 0.667147\n",
            "[LightGBM] [Warning] No further splits with positive gain, best gain: -inf\n",
            "[53]\tvalid_0's ndcg@10: 0.66892\n",
            "[LightGBM] [Warning] No further splits with positive gain, best gain: -inf\n",
            "[54]\tvalid_0's ndcg@10: 0.668162\n",
            "[LightGBM] [Warning] No further splits with positive gain, best gain: -inf\n",
            "[55]\tvalid_0's ndcg@10: 0.668162\n",
            "[LightGBM] [Warning] No further splits with positive gain, best gain: -inf\n",
            "[56]\tvalid_0's ndcg@10: 0.666994\n",
            "[LightGBM] [Warning] No further splits with positive gain, best gain: -inf\n",
            "[57]\tvalid_0's ndcg@10: 0.669935\n",
            "[LightGBM] [Warning] No further splits with positive gain, best gain: -inf\n",
            "[58]\tvalid_0's ndcg@10: 0.668767\n",
            "[LightGBM] [Warning] No further splits with positive gain, best gain: -inf\n",
            "[59]\tvalid_0's ndcg@10: 0.668767\n",
            "[LightGBM] [Warning] No further splits with positive gain, best gain: -inf\n",
            "[60]\tvalid_0's ndcg@10: 0.669321\n",
            "[LightGBM] [Warning] No further splits with positive gain, best gain: -inf\n",
            "[61]\tvalid_0's ndcg@10: 0.669321\n",
            "[LightGBM] [Warning] No further splits with positive gain, best gain: -inf\n",
            "[62]\tvalid_0's ndcg@10: 0.668767\n",
            "[LightGBM] [Warning] No further splits with positive gain, best gain: -inf\n",
            "[63]\tvalid_0's ndcg@10: 0.667952\n",
            "[LightGBM] [Warning] No further splits with positive gain, best gain: -inf\n",
            "[64]\tvalid_0's ndcg@10: 0.667952\n",
            "[LightGBM] [Warning] No further splits with positive gain, best gain: -inf\n",
            "[65]\tvalid_0's ndcg@10: 0.666784\n",
            "[LightGBM] [Warning] No further splits with positive gain, best gain: -inf\n",
            "[66]\tvalid_0's ndcg@10: 0.646732\n",
            "[LightGBM] [Warning] No further splits with positive gain, best gain: -inf\n",
            "[67]\tvalid_0's ndcg@10: 0.647901\n",
            "[LightGBM] [Warning] No further splits with positive gain, best gain: -inf\n",
            "[68]\tvalid_0's ndcg@10: 0.646732\n",
            "[LightGBM] [Warning] No further splits with positive gain, best gain: -inf\n",
            "[69]\tvalid_0's ndcg@10: 0.646732\n",
            "[LightGBM] [Warning] No further splits with positive gain, best gain: -inf\n",
            "[70]\tvalid_0's ndcg@10: 0.646732\n",
            "[LightGBM] [Warning] No further splits with positive gain, best gain: -inf\n",
            "[71]\tvalid_0's ndcg@10: 0.659823\n",
            "[LightGBM] [Warning] No further splits with positive gain, best gain: -inf\n",
            "[72]\tvalid_0's ndcg@10: 0.660653\n",
            "[LightGBM] [Warning] No further splits with positive gain, best gain: -inf\n",
            "[73]\tvalid_0's ndcg@10: 0.667337\n",
            "[LightGBM] [Warning] No further splits with positive gain, best gain: -inf\n",
            "[74]\tvalid_0's ndcg@10: 0.667675\n",
            "[LightGBM] [Warning] No further splits with positive gain, best gain: -inf\n",
            "[75]\tvalid_0's ndcg@10: 0.667675\n",
            "[LightGBM] [Warning] No further splits with positive gain, best gain: -inf\n",
            "[76]\tvalid_0's ndcg@10: 0.660992\n",
            "[LightGBM] [Warning] No further splits with positive gain, best gain: -inf\n",
            "[77]\tvalid_0's ndcg@10: 0.660653\n",
            "[LightGBM] [Warning] No further splits with positive gain, best gain: -inf\n",
            "[78]\tvalid_0's ndcg@10: 0.660653\n",
            "[LightGBM] [Warning] No further splits with positive gain, best gain: -inf\n",
            "[79]\tvalid_0's ndcg@10: 0.660653\n",
            "[LightGBM] [Warning] No further splits with positive gain, best gain: -inf\n",
            "[80]\tvalid_0's ndcg@10: 0.668164\n",
            "[LightGBM] [Warning] No further splits with positive gain, best gain: -inf\n",
            "[81]\tvalid_0's ndcg@10: 0.670147\n",
            "[LightGBM] [Warning] No further splits with positive gain, best gain: -inf\n",
            "[82]\tvalid_0's ndcg@10: 0.671315\n",
            "[LightGBM] [Warning] No further splits with positive gain, best gain: -inf\n",
            "[83]\tvalid_0's ndcg@10: 0.671315\n",
            "[LightGBM] [Warning] No further splits with positive gain, best gain: -inf\n",
            "[84]\tvalid_0's ndcg@10: 0.671315\n",
            "[LightGBM] [Warning] No further splits with positive gain, best gain: -inf\n",
            "[85]\tvalid_0's ndcg@10: 0.671315\n",
            "[LightGBM] [Warning] No further splits with positive gain, best gain: -inf\n",
            "[86]\tvalid_0's ndcg@10: 0.669542\n",
            "[LightGBM] [Warning] No further splits with positive gain, best gain: -inf\n",
            "[87]\tvalid_0's ndcg@10: 0.669542\n",
            "[LightGBM] [Warning] No further splits with positive gain, best gain: -inf\n",
            "[88]\tvalid_0's ndcg@10: 0.668484\n",
            "[LightGBM] [Warning] No further splits with positive gain, best gain: -inf\n",
            "[89]\tvalid_0's ndcg@10: 0.668484\n",
            "[LightGBM] [Warning] No further splits with positive gain, best gain: -inf\n",
            "[90]\tvalid_0's ndcg@10: 0.668484\n",
            "[LightGBM] [Warning] No further splits with positive gain, best gain: -inf\n",
            "[91]\tvalid_0's ndcg@10: 0.666777\n",
            "[LightGBM] [Warning] No further splits with positive gain, best gain: -inf\n",
            "[92]\tvalid_0's ndcg@10: 0.669608\n",
            "[LightGBM] [Warning] No further splits with positive gain, best gain: -inf\n",
            "[93]\tvalid_0's ndcg@10: 0.671592\n",
            "[LightGBM] [Warning] No further splits with positive gain, best gain: -inf\n",
            "[94]\tvalid_0's ndcg@10: 0.671315\n",
            "[LightGBM] [Warning] No further splits with positive gain, best gain: -inf\n",
            "[95]\tvalid_0's ndcg@10: 0.670534\n",
            "[LightGBM] [Warning] No further splits with positive gain, best gain: -inf\n",
            "[96]\tvalid_0's ndcg@10: 0.669431\n",
            "[LightGBM] [Warning] No further splits with positive gain, best gain: -inf\n",
            "[97]\tvalid_0's ndcg@10: 0.669484\n",
            "[LightGBM] [Warning] No further splits with positive gain, best gain: -inf\n",
            "[98]\tvalid_0's ndcg@10: 0.668551\n",
            "[LightGBM] [Warning] No further splits with positive gain, best gain: -inf\n",
            "[99]\tvalid_0's ndcg@10: 0.669708\n",
            "[LightGBM] [Warning] No further splits with positive gain, best gain: -inf\n",
            "[100]\tvalid_0's ndcg@10: 0.668551\n",
            "[LightGBM] [Warning] No further splits with positive gain, best gain: -inf\n",
            "[101]\tvalid_0's ndcg@10: 0.667724\n",
            "[LightGBM] [Warning] No further splits with positive gain, best gain: -inf\n",
            "[102]\tvalid_0's ndcg@10: 0.667724\n",
            "[LightGBM] [Warning] No further splits with positive gain, best gain: -inf\n",
            "[103]\tvalid_0's ndcg@10: 0.667448\n",
            "[LightGBM] [Warning] No further splits with positive gain, best gain: -inf\n",
            "[104]\tvalid_0's ndcg@10: 0.668505\n",
            "[LightGBM] [Warning] No further splits with positive gain, best gain: -inf\n",
            "[105]\tvalid_0's ndcg@10: 0.669431\n",
            "[LightGBM] [Warning] No further splits with positive gain, best gain: -inf\n",
            "[106]\tvalid_0's ndcg@10: 0.667448\n",
            "[LightGBM] [Warning] No further splits with positive gain, best gain: -inf\n",
            "[107]\tvalid_0's ndcg@10: 0.667448\n",
            "[LightGBM] [Warning] No further splits with positive gain, best gain: -inf\n",
            "[108]\tvalid_0's ndcg@10: 0.667448\n",
            "[LightGBM] [Warning] No further splits with positive gain, best gain: -inf\n",
            "[109]\tvalid_0's ndcg@10: 0.665674\n",
            "[LightGBM] [Warning] No further splits with positive gain, best gain: -inf\n",
            "[110]\tvalid_0's ndcg@10: 0.667448\n",
            "[LightGBM] [Warning] No further splits with positive gain, best gain: -inf\n",
            "[111]\tvalid_0's ndcg@10: 0.668505\n",
            "[LightGBM] [Warning] No further splits with positive gain, best gain: -inf\n",
            "[112]\tvalid_0's ndcg@10: 0.670489\n",
            "[LightGBM] [Warning] No further splits with positive gain, best gain: -inf\n",
            "[113]\tvalid_0's ndcg@10: 0.669431\n",
            "[LightGBM] [Warning] No further splits with positive gain, best gain: -inf\n",
            "[114]\tvalid_0's ndcg@10: 0.670489\n",
            "[LightGBM] [Warning] No further splits with positive gain, best gain: -inf\n",
            "[115]\tvalid_0's ndcg@10: 0.668505\n",
            "[LightGBM] [Warning] No further splits with positive gain, best gain: -inf\n",
            "[116]\tvalid_0's ndcg@10: 0.670489\n",
            "[LightGBM] [Warning] No further splits with positive gain, best gain: -inf\n",
            "[117]\tvalid_0's ndcg@10: 0.668505\n",
            "[LightGBM] [Warning] No further splits with positive gain, best gain: -inf\n",
            "[118]\tvalid_0's ndcg@10: 0.668505\n",
            "[LightGBM] [Warning] No further splits with positive gain, best gain: -inf\n",
            "[119]\tvalid_0's ndcg@10: 0.668505\n",
            "[LightGBM] [Warning] No further splits with positive gain, best gain: -inf\n",
            "[120]\tvalid_0's ndcg@10: 0.668505\n",
            "[LightGBM] [Warning] No further splits with positive gain, best gain: -inf\n",
            "[121]\tvalid_0's ndcg@10: 0.670489\n",
            "[LightGBM] [Warning] No further splits with positive gain, best gain: -inf\n",
            "[122]\tvalid_0's ndcg@10: 0.668505\n",
            "[LightGBM] [Warning] No further splits with positive gain, best gain: -inf\n",
            "[123]\tvalid_0's ndcg@10: 0.668505\n",
            "[LightGBM] [Warning] No further splits with positive gain, best gain: -inf\n",
            "[124]\tvalid_0's ndcg@10: 0.668505\n",
            "[LightGBM] [Warning] No further splits with positive gain, best gain: -inf\n",
            "[125]\tvalid_0's ndcg@10: 0.668505\n",
            "[LightGBM] [Warning] No further splits with positive gain, best gain: -inf\n",
            "[126]\tvalid_0's ndcg@10: 0.668505\n",
            "[LightGBM] [Warning] No further splits with positive gain, best gain: -inf\n",
            "[127]\tvalid_0's ndcg@10: 0.668505\n",
            "[LightGBM] [Warning] No further splits with positive gain, best gain: -inf\n",
            "[128]\tvalid_0's ndcg@10: 0.668505\n",
            "[LightGBM] [Warning] No further splits with positive gain, best gain: -inf\n",
            "[129]\tvalid_0's ndcg@10: 0.668505\n",
            "[LightGBM] [Warning] No further splits with positive gain, best gain: -inf\n",
            "[130]\tvalid_0's ndcg@10: 0.668505\n",
            "[LightGBM] [Warning] No further splits with positive gain, best gain: -inf\n",
            "[131]\tvalid_0's ndcg@10: 0.668505\n",
            "[LightGBM] [Warning] No further splits with positive gain, best gain: -inf\n",
            "[132]\tvalid_0's ndcg@10: 0.668505\n",
            "[LightGBM] [Warning] No further splits with positive gain, best gain: -inf\n",
            "[133]\tvalid_0's ndcg@10: 0.668505\n",
            "Early stopping, best iteration is:\n",
            "[93]\tvalid_0's ndcg@10: 0.671592\n",
            "CPU times: user 22.5 s, sys: 588 ms, total: 23.1 s\n",
            "Wall time: 22 s\n"
          ]
        }
      ],
      "source": [
        "import lightgbm as lgb\n",
        "\n",
        "# this configures LightGBM as LambdaMART\n",
        "lmart_l = lgb.LGBMRanker(\n",
        "    task=\"train\",\n",
        "    silent=False,\n",
        "    min_data_in_leaf=1,\n",
        "    min_sum_hessian_in_leaf=1,\n",
        "    max_bin=255,\n",
        "    num_leaves=31,\n",
        "    objective=\"lambdarank\",\n",
        "    metric=\"ndcg\",\n",
        "    ndcg_eval_at=[100],\n",
        "    ndcg_at=[100],\n",
        "    eval_at=[100],\n",
        "    learning_rate= .1,\n",
        "    importance_type=\"gain\",\n",
        "    num_iterations=500,\n",
        "    early_stopping_rounds=40\n",
        ")\n",
        "\n",
        "lmart_pipe0 = ltr_feats_0 >> pt.ltr.apply_learned_model(lmart_l, form=\"ltr\", fit_kwargs={'eval_at':[10]})\n",
        "%time lmart_pipe0.fit(train_topics, qrels, valid_topics, qrels)\n",
        "# lmart_pipe1 = ltr_feats_1 >> pt.ltr.apply_learned_model(lmart_l, form=\"ltr\", fit_kwargs={'eval_at':[10]})\n",
        "# %time lmart_pipe1.fit(train_topics, qrels, valid_topics, qrels)\n",
        "# lmart_pipe2 = ltr_feats_2 >> pt.ltr.apply_learned_model(lmart_l, form=\"ltr\", fit_kwargs={'eval_at':[10]})\n",
        "# %time lmart_pipe2.fit(train_topics, qrels, valid_topics, qrels)\n",
        "# lmart_pipe3 = ltr_feats_3 >> pt.ltr.apply_learned_model(lmart_l, form=\"ltr\", fit_kwargs={'eval_at':[10]})\n",
        "# %time lmart_pipe3.fit(train_topics, qrels, valid_topics, qrels)\n",
        "# lmart_pipe4 = ltr_feats_4 >> pt.ltr.apply_learned_model(lmart_l, form=\"ltr\", fit_kwargs={'eval_at':[10]})\n",
        "# %time lmart_pipe4.fit(train_topics, qrels, valid_topics, qrels)\n",
        "# lmart_pipe5 = ltr_feats_5 >> pt.ltr.apply_learned_model(lmart_l, form=\"ltr\", fit_kwargs={'eval_at':[10]})\n",
        "# %time lmart_pipe5.fit(train_topics, qrels, valid_topics, qrels)\n",
        "# lmart_pipe6 = ltr_feats_6 >> pt.ltr.apply_learned_model(lmart_l, form=\"ltr\", fit_kwargs={'eval_at':[10]})\n",
        "# %time lmart_pipe6.fit(train_topics, qrels, valid_topics, qrels)\n",
        "# lmart_pipe7 = ltr_feats_7 >> pt.ltr.apply_learned_model(lmart_l, form=\"ltr\", fit_kwargs={'eval_at':[10]})\n",
        "# %time lmart_pipe7.fit(train_topics, qrels, valid_topics, qrels)"
      ]
    },
    {
      "cell_type": "code",
      "execution_count": null,
      "metadata": {
        "colab": {
          "background_save": true,
          "base_uri": "https://localhost:8080/"
        },
        "id": "JtP5MGMfTaxM",
        "outputId": "e95c196b-7914-4dc5-a04a-fbf14dfd6d4c"
      },
      "outputs": [
        {
          "name": "stdout",
          "output_type": "stream",
          "text": [
            "13:12:06.889 [main] WARN org.terrier.querying.ApplyTermPipeline - The index has no termpipelines configuration, and no control configuration is found. Defaulting to global termpipelines configuration of 'Stopwords,PorterStemmer'. Set a termpipelines control to remove this warning.\n",
            "13:12:07.475 [main] WARN org.terrier.querying.ApplyTermPipeline - The index has no termpipelines configuration, and no control configuration is found. Defaulting to global termpipelines configuration of 'Stopwords,PorterStemmer'. Set a termpipelines control to remove this warning.\n",
            "13:12:08.191 [main] WARN org.terrier.querying.ApplyTermPipeline - The index has no termpipelines configuration, and no control configuration is found. Defaulting to global termpipelines configuration of 'Stopwords,PorterStemmer'. Set a termpipelines control to remove this warning.\n",
            "13:12:08.888 [main] WARN org.terrier.querying.ApplyTermPipeline - The index has no termpipelines configuration, and no control configuration is found. Defaulting to global termpipelines configuration of 'Stopwords,PorterStemmer'. Set a termpipelines control to remove this warning.\n",
            "13:12:09.587 [main] WARN org.terrier.querying.ApplyTermPipeline - The index has no termpipelines configuration, and no control configuration is found. Defaulting to global termpipelines configuration of 'Stopwords,PorterStemmer'. Set a termpipelines control to remove this warning.\n",
            "13:12:10.267 [main] WARN org.terrier.querying.ApplyTermPipeline - The index has no termpipelines configuration, and no control configuration is found. Defaulting to global termpipelines configuration of 'Stopwords,PorterStemmer'. Set a termpipelines control to remove this warning.\n",
            "13:12:10.960 [main] WARN org.terrier.querying.ApplyTermPipeline - The index has no termpipelines configuration, and no control configuration is found. Defaulting to global termpipelines configuration of 'Stopwords,PorterStemmer'. Set a termpipelines control to remove this warning.\n"
          ]
        },
        {
          "name": "stderr",
          "output_type": "stream",
          "text": [
            "/usr/local/lib/python3.7/dist-packages/pyterrier/transformer.py:760: UserWarning: Got number of results different expected from CombSumTransformer(CombSumTransformer(CombSumTransformer(CombSumTransformer(<pyterrier.batchretrieve.TextScorer object at 0x7fcc6cf7af50>, <pyterrier.batchretrieve.TextScorer object at 0x7fcc6cf7af90>), <pyterrier.batchretrieve.TextScorer object at 0x7fcc6cf79090>), <pyterrier.batchretrieve.TextScorer object at 0x7fcc6cf79110>), <pyterrier.batchretrieve.TextScorer object at 0x7fcc6cf79190>), expected 900 received 19, feature scores for any missing documents be 0, extraneous documents will be removed\n",
            "  warn(\"Got number of results different expected from %s, expected %d received %d, feature scores for any missing documents be 0, extraneous documents will be removed\" % (repr(m), num_results, len(res)))\n"
          ]
        },
        {
          "name": "stdout",
          "output_type": "stream",
          "text": [
            "13:12:15.980 [main] WARN org.terrier.querying.ApplyTermPipeline - The index has no termpipelines configuration, and no control configuration is found. Defaulting to global termpipelines configuration of 'Stopwords,PorterStemmer'. Set a termpipelines control to remove this warning.\n",
            "13:12:16.712 [main] WARN org.terrier.querying.ApplyTermPipeline - The index has no termpipelines configuration, and no control configuration is found. Defaulting to global termpipelines configuration of 'Stopwords,PorterStemmer'. Set a termpipelines control to remove this warning.\n",
            "13:12:17.409 [main] WARN org.terrier.querying.ApplyTermPipeline - The index has no termpipelines configuration, and no control configuration is found. Defaulting to global termpipelines configuration of 'Stopwords,PorterStemmer'. Set a termpipelines control to remove this warning.\n",
            "13:12:18.103 [main] WARN org.terrier.querying.ApplyTermPipeline - The index has no termpipelines configuration, and no control configuration is found. Defaulting to global termpipelines configuration of 'Stopwords,PorterStemmer'. Set a termpipelines control to remove this warning.\n",
            "13:12:18.817 [main] WARN org.terrier.querying.ApplyTermPipeline - The index has no termpipelines configuration, and no control configuration is found. Defaulting to global termpipelines configuration of 'Stopwords,PorterStemmer'. Set a termpipelines control to remove this warning.\n",
            "13:12:19.501 [main] WARN org.terrier.querying.ApplyTermPipeline - The index has no termpipelines configuration, and no control configuration is found. Defaulting to global termpipelines configuration of 'Stopwords,PorterStemmer'. Set a termpipelines control to remove this warning.\n"
          ]
        },
        {
          "name": "stderr",
          "output_type": "stream",
          "text": [
            "/usr/local/lib/python3.7/dist-packages/pyterrier/transformer.py:760: UserWarning: Got number of results different expected from CombSumTransformer(CombSumTransformer(CombSumTransformer(CombSumTransformer(<pyterrier.batchretrieve.TextScorer object at 0x7fcc6cf8db90>, <pyterrier.batchretrieve.TextScorer object at 0x7fcc6cf8dbd0>), <pyterrier.batchretrieve.TextScorer object at 0x7fcc6cf8db10>), <pyterrier.batchretrieve.TextScorer object at 0x7fcc6cf8dc10>), <pyterrier.batchretrieve.TextScorer object at 0x7fcc6cf8dc90>), expected 900 received 19, feature scores for any missing documents be 0, extraneous documents will be removed\n",
            "  warn(\"Got number of results different expected from %s, expected %d received %d, feature scores for any missing documents be 0, extraneous documents will be removed\" % (repr(m), num_results, len(res)))\n"
          ]
        },
        {
          "name": "stdout",
          "output_type": "stream",
          "text": [
            "13:12:24.606 [main] WARN org.terrier.querying.ApplyTermPipeline - The index has no termpipelines configuration, and no control configuration is found. Defaulting to global termpipelines configuration of 'Stopwords,PorterStemmer'. Set a termpipelines control to remove this warning.\n",
            "13:12:25.185 [main] WARN org.terrier.querying.ApplyTermPipeline - The index has no termpipelines configuration, and no control configuration is found. Defaulting to global termpipelines configuration of 'Stopwords,PorterStemmer'. Set a termpipelines control to remove this warning.\n",
            "13:12:25.858 [main] WARN org.terrier.querying.ApplyTermPipeline - The index has no termpipelines configuration, and no control configuration is found. Defaulting to global termpipelines configuration of 'Stopwords,PorterStemmer'. Set a termpipelines control to remove this warning.\n",
            "13:12:26.549 [main] WARN org.terrier.querying.ApplyTermPipeline - The index has no termpipelines configuration, and no control configuration is found. Defaulting to global termpipelines configuration of 'Stopwords,PorterStemmer'. Set a termpipelines control to remove this warning.\n",
            "13:12:27.248 [main] WARN org.terrier.querying.ApplyTermPipeline - The index has no termpipelines configuration, and no control configuration is found. Defaulting to global termpipelines configuration of 'Stopwords,PorterStemmer'. Set a termpipelines control to remove this warning.\n",
            "13:12:27.942 [main] WARN org.terrier.querying.ApplyTermPipeline - The index has no termpipelines configuration, and no control configuration is found. Defaulting to global termpipelines configuration of 'Stopwords,PorterStemmer'. Set a termpipelines control to remove this warning.\n",
            "13:12:28.625 [main] WARN org.terrier.querying.ApplyTermPipeline - The index has no termpipelines configuration, and no control configuration is found. Defaulting to global termpipelines configuration of 'Stopwords,PorterStemmer'. Set a termpipelines control to remove this warning.\n"
          ]
        },
        {
          "name": "stderr",
          "output_type": "stream",
          "text": [
            "/usr/local/lib/python3.7/dist-packages/pyterrier/transformer.py:760: UserWarning: Got number of results different expected from CombSumTransformer(CombSumTransformer(CombSumTransformer(CombSumTransformer(<pyterrier.batchretrieve.TextScorer object at 0x7fcc6cf82bd0>, <pyterrier.batchretrieve.TextScorer object at 0x7fcc6cf82c10>), <pyterrier.batchretrieve.TextScorer object at 0x7fcc6cf82b50>), <pyterrier.batchretrieve.TextScorer object at 0x7fcc6cf82c50>), <pyterrier.batchretrieve.TextScorer object at 0x7fcc6cf82cd0>), expected 900 received 19, feature scores for any missing documents be 0, extraneous documents will be removed\n",
            "  warn(\"Got number of results different expected from %s, expected %d received %d, feature scores for any missing documents be 0, extraneous documents will be removed\" % (repr(m), num_results, len(res)))\n"
          ]
        },
        {
          "name": "stdout",
          "output_type": "stream",
          "text": [
            "13:12:33.855 [main] WARN org.terrier.querying.ApplyTermPipeline - The index has no termpipelines configuration, and no control configuration is found. Defaulting to global termpipelines configuration of 'Stopwords,PorterStemmer'. Set a termpipelines control to remove this warning.\n",
            "13:12:34.415 [main] WARN org.terrier.querying.ApplyTermPipeline - The index has no termpipelines configuration, and no control configuration is found. Defaulting to global termpipelines configuration of 'Stopwords,PorterStemmer'. Set a termpipelines control to remove this warning.\n",
            "13:12:39.614 [main] WARN org.terrier.querying.ApplyTermPipeline - The index has no termpipelines configuration, and no control configuration is found. Defaulting to global termpipelines configuration of 'Stopwords,PorterStemmer'. Set a termpipelines control to remove this warning.\n",
            "13:12:40.338 [main] WARN org.terrier.querying.ApplyTermPipeline - The index has no termpipelines configuration, and no control configuration is found. Defaulting to global termpipelines configuration of 'Stopwords,PorterStemmer'. Set a termpipelines control to remove this warning.\n",
            "13:12:41.030 [main] WARN org.terrier.querying.ApplyTermPipeline - The index has no termpipelines configuration, and no control configuration is found. Defaulting to global termpipelines configuration of 'Stopwords,PorterStemmer'. Set a termpipelines control to remove this warning.\n",
            "13:12:41.723 [main] WARN org.terrier.querying.ApplyTermPipeline - The index has no termpipelines configuration, and no control configuration is found. Defaulting to global termpipelines configuration of 'Stopwords,PorterStemmer'. Set a termpipelines control to remove this warning.\n",
            "13:12:42.403 [main] WARN org.terrier.querying.ApplyTermPipeline - The index has no termpipelines configuration, and no control configuration is found. Defaulting to global termpipelines configuration of 'Stopwords,PorterStemmer'. Set a termpipelines control to remove this warning.\n",
            "13:12:43.101 [main] WARN org.terrier.querying.ApplyTermPipeline - The index has no termpipelines configuration, and no control configuration is found. Defaulting to global termpipelines configuration of 'Stopwords,PorterStemmer'. Set a termpipelines control to remove this warning.\n"
          ]
        },
        {
          "name": "stderr",
          "output_type": "stream",
          "text": [
            "/usr/local/lib/python3.7/dist-packages/pyterrier/transformer.py:760: UserWarning: Got number of results different expected from CombSumTransformer(CombSumTransformer(CombSumTransformer(CombSumTransformer(<pyterrier.batchretrieve.TextScorer object at 0x7fcc7cbbd290>, <pyterrier.batchretrieve.TextScorer object at 0x7fcc7cbbd510>), <pyterrier.batchretrieve.TextScorer object at 0x7fcc7cbbd610>), <pyterrier.batchretrieve.TextScorer object at 0x7fcc7cbbd410>), <pyterrier.batchretrieve.TextScorer object at 0x7fcc7cbbd4d0>), expected 900 received 19, feature scores for any missing documents be 0, extraneous documents will be removed\n",
            "  warn(\"Got number of results different expected from %s, expected %d received %d, feature scores for any missing documents be 0, extraneous documents will be removed\" % (repr(m), num_results, len(res)))\n"
          ]
        },
        {
          "name": "stdout",
          "output_type": "stream",
          "text": [
            "13:12:48.018 [main] WARN org.terrier.querying.ApplyTermPipeline - The index has no termpipelines configuration, and no control configuration is found. Defaulting to global termpipelines configuration of 'Stopwords,PorterStemmer'. Set a termpipelines control to remove this warning.\n",
            "13:12:53.133 [main] WARN org.terrier.querying.ApplyTermPipeline - The index has no termpipelines configuration, and no control configuration is found. Defaulting to global termpipelines configuration of 'Stopwords,PorterStemmer'. Set a termpipelines control to remove this warning.\n",
            "13:12:53.710 [main] WARN org.terrier.querying.ApplyTermPipeline - The index has no termpipelines configuration, and no control configuration is found. Defaulting to global termpipelines configuration of 'Stopwords,PorterStemmer'. Set a termpipelines control to remove this warning.\n",
            "13:12:58.523 [main] WARN org.terrier.querying.ApplyTermPipeline - The index has no termpipelines configuration, and no control configuration is found. Defaulting to global termpipelines configuration of 'Stopwords,PorterStemmer'. Set a termpipelines control to remove this warning.\n",
            "13:13:03.294 [main] WARN org.terrier.querying.ApplyTermPipeline - The index has no termpipelines configuration, and no control configuration is found. Defaulting to global termpipelines configuration of 'Stopwords,PorterStemmer'. Set a termpipelines control to remove this warning.\n",
            "13:13:03.857 [main] WARN org.terrier.querying.ApplyTermPipeline - The index has no termpipelines configuration, and no control configuration is found. Defaulting to global termpipelines configuration of 'Stopwords,PorterStemmer'. Set a termpipelines control to remove this warning.\n",
            "13:13:04.588 [main] WARN org.terrier.querying.ApplyTermPipeline - The index has no termpipelines configuration, and no control configuration is found. Defaulting to global termpipelines configuration of 'Stopwords,PorterStemmer'. Set a termpipelines control to remove this warning.\n",
            "13:13:05.296 [main] WARN org.terrier.querying.ApplyTermPipeline - The index has no termpipelines configuration, and no control configuration is found. Defaulting to global termpipelines configuration of 'Stopwords,PorterStemmer'. Set a termpipelines control to remove this warning.\n",
            "13:13:05.999 [main] WARN org.terrier.querying.ApplyTermPipeline - The index has no termpipelines configuration, and no control configuration is found. Defaulting to global termpipelines configuration of 'Stopwords,PorterStemmer'. Set a termpipelines control to remove this warning.\n",
            "13:13:06.675 [main] WARN org.terrier.querying.ApplyTermPipeline - The index has no termpipelines configuration, and no control configuration is found. Defaulting to global termpipelines configuration of 'Stopwords,PorterStemmer'. Set a termpipelines control to remove this warning.\n",
            "13:13:07.362 [main] WARN org.terrier.querying.ApplyTermPipeline - The index has no termpipelines configuration, and no control configuration is found. Defaulting to global termpipelines configuration of 'Stopwords,PorterStemmer'. Set a termpipelines control to remove this warning.\n"
          ]
        },
        {
          "name": "stderr",
          "output_type": "stream",
          "text": [
            "/usr/local/lib/python3.7/dist-packages/pyterrier/transformer.py:760: UserWarning: Got number of results different expected from CombSumTransformer(CombSumTransformer(CombSumTransformer(CombSumTransformer(<pyterrier.batchretrieve.TextScorer object at 0x7fcc6cf7af50>, <pyterrier.batchretrieve.TextScorer object at 0x7fcc6cf7af90>), <pyterrier.batchretrieve.TextScorer object at 0x7fcc6cf79090>), <pyterrier.batchretrieve.TextScorer object at 0x7fcc6cf79110>), <pyterrier.batchretrieve.TextScorer object at 0x7fcc6cf79190>), expected 900 received 19, feature scores for any missing documents be 0, extraneous documents will be removed\n",
            "  warn(\"Got number of results different expected from %s, expected %d received %d, feature scores for any missing documents be 0, extraneous documents will be removed\" % (repr(m), num_results, len(res)))\n"
          ]
        },
        {
          "name": "stdout",
          "output_type": "stream",
          "text": [
            "13:13:12.447 [main] WARN org.terrier.querying.ApplyTermPipeline - The index has no termpipelines configuration, and no control configuration is found. Defaulting to global termpipelines configuration of 'Stopwords,PorterStemmer'. Set a termpipelines control to remove this warning.\n",
            "13:13:13.000 [main] WARN org.terrier.querying.ApplyTermPipeline - The index has no termpipelines configuration, and no control configuration is found. Defaulting to global termpipelines configuration of 'Stopwords,PorterStemmer'. Set a termpipelines control to remove this warning.\n",
            "13:13:13.703 [main] WARN org.terrier.querying.ApplyTermPipeline - The index has no termpipelines configuration, and no control configuration is found. Defaulting to global termpipelines configuration of 'Stopwords,PorterStemmer'. Set a termpipelines control to remove this warning.\n",
            "13:13:14.393 [main] WARN org.terrier.querying.ApplyTermPipeline - The index has no termpipelines configuration, and no control configuration is found. Defaulting to global termpipelines configuration of 'Stopwords,PorterStemmer'. Set a termpipelines control to remove this warning.\n",
            "13:13:15.078 [main] WARN org.terrier.querying.ApplyTermPipeline - The index has no termpipelines configuration, and no control configuration is found. Defaulting to global termpipelines configuration of 'Stopwords,PorterStemmer'. Set a termpipelines control to remove this warning.\n",
            "13:13:15.737 [main] WARN org.terrier.querying.ApplyTermPipeline - The index has no termpipelines configuration, and no control configuration is found. Defaulting to global termpipelines configuration of 'Stopwords,PorterStemmer'. Set a termpipelines control to remove this warning.\n",
            "13:13:16.417 [main] WARN org.terrier.querying.ApplyTermPipeline - The index has no termpipelines configuration, and no control configuration is found. Defaulting to global termpipelines configuration of 'Stopwords,PorterStemmer'. Set a termpipelines control to remove this warning.\n"
          ]
        },
        {
          "name": "stderr",
          "output_type": "stream",
          "text": [
            "/usr/local/lib/python3.7/dist-packages/pyterrier/transformer.py:760: UserWarning: Got number of results different expected from CombSumTransformer(CombSumTransformer(CombSumTransformer(CombSumTransformer(<pyterrier.batchretrieve.TextScorer object at 0x7fcc6cf7af50>, <pyterrier.batchretrieve.TextScorer object at 0x7fcc6cf7af90>), <pyterrier.batchretrieve.TextScorer object at 0x7fcc6cf79090>), <pyterrier.batchretrieve.TextScorer object at 0x7fcc6cf79110>), <pyterrier.batchretrieve.TextScorer object at 0x7fcc6cf79190>), expected 900 received 19, feature scores for any missing documents be 0, extraneous documents will be removed\n",
            "  warn(\"Got number of results different expected from %s, expected %d received %d, feature scores for any missing documents be 0, extraneous documents will be removed\" % (repr(m), num_results, len(res)))\n",
            "[Parallel(n_jobs=2)]: Using backend ThreadingBackend with 2 concurrent workers.\n",
            "[Parallel(n_jobs=2)]: Done  46 tasks      | elapsed:    0.0s\n",
            "[Parallel(n_jobs=2)]: Done 196 tasks      | elapsed:    0.1s\n",
            "[Parallel(n_jobs=2)]: Done 400 out of 400 | elapsed:    0.1s finished\n"
          ]
        }
      ],
      "source": [
        "qrels['label'] = qrels.label.astype(int)\n",
        "pipe1 = sdm >> bm25\n",
        "pipe2 = bm25 >> qe >> bm25\n",
        "table = pt.Experiment(\n",
        "    [br % RANK_CUTOFF, bm25 % RANK_CUTOFF, tf_idf % RANK_CUTOFF, tf % RANK_CUTOFF, ca_pipe0, ca_pipe1, ca_pipe2, ca_pipe3, ca_pipe4, ca_pipe5, ca_pipe6, ca_pipe7, lmart_pipe0, rf_pipe, pipe1, pipe2], \n",
        "    test_topics, \n",
        "    qrels, \n",
        "    names=[\"BR\", \"BM25\", \"TF-IDF\", \"TF\", \"BM25+CA0\", \"BM25+CA1\", \"BM25+CA2\", \"BM25+CA3\", \"BM25+CA4\", \"BM25+CA5\", \"BM25+CA6\", \"BM25+CA7\", \"BM25+LMART\", \"BM25+RF\", \"Pipeline 1\", \"Pipeline 2\"], \n",
        "    eval_metrics=[\"map\", \"ndcg\", \"ndcg_cut_100\", \"P_30\", \"recall_30\", \"mrt\"])\n",
        "table.to_csv(\"evaluation.csv\")"
      ]
    },
    {
      "cell_type": "code",
      "execution_count": null,
      "metadata": {
        "colab": {
          "base_uri": "https://localhost:8080/",
          "height": 17
        },
        "id": "ZHZYWDiUmZn4",
        "outputId": "500f6725-114b-49aa-ca83-b48ad1d0790b"
      },
      "outputs": [
        {
          "data": {
            "application/javascript": [
              "\n",
              "    async function download(id, filename, size) {\n",
              "      if (!google.colab.kernel.accessAllowed) {\n",
              "        return;\n",
              "      }\n",
              "      const div = document.createElement('div');\n",
              "      const label = document.createElement('label');\n",
              "      label.textContent = `Downloading \"${filename}\": `;\n",
              "      div.appendChild(label);\n",
              "      const progress = document.createElement('progress');\n",
              "      progress.max = size;\n",
              "      div.appendChild(progress);\n",
              "      document.body.appendChild(div);\n",
              "\n",
              "      const buffers = [];\n",
              "      let downloaded = 0;\n",
              "\n",
              "      const channel = await google.colab.kernel.comms.open(id);\n",
              "      // Send a message to notify the kernel that we're ready.\n",
              "      channel.send({})\n",
              "\n",
              "      for await (const message of channel.messages) {\n",
              "        // Send a message to notify the kernel that we're ready.\n",
              "        channel.send({})\n",
              "        if (message.buffers) {\n",
              "          for (const buffer of message.buffers) {\n",
              "            buffers.push(buffer);\n",
              "            downloaded += buffer.byteLength;\n",
              "            progress.value = downloaded;\n",
              "          }\n",
              "        }\n",
              "      }\n",
              "      const blob = new Blob(buffers, {type: 'application/binary'});\n",
              "      const a = document.createElement('a');\n",
              "      a.href = window.URL.createObjectURL(blob);\n",
              "      a.download = filename;\n",
              "      div.appendChild(a);\n",
              "      a.click();\n",
              "      div.remove();\n",
              "    }\n",
              "  "
            ],
            "text/plain": [
              "<IPython.core.display.Javascript object>"
            ]
          },
          "metadata": {},
          "output_type": "display_data"
        },
        {
          "data": {
            "application/javascript": [
              "download(\"download_fea92572-cd66-44c9-924b-e98052d5ea2b\", \"evaluation.csv\", 1786)"
            ],
            "text/plain": [
              "<IPython.core.display.Javascript object>"
            ]
          },
          "metadata": {},
          "output_type": "display_data"
        }
      ],
      "source": [
        "files.download('evaluation.csv')"
      ]
    },
    {
      "cell_type": "code",
      "execution_count": null,
      "metadata": {
        "colab": {
          "base_uri": "https://localhost:8080/",
          "height": 462
        },
        "id": "eCqhMwCwrc9C",
        "outputId": "df4346f4-0a2c-4b15-d6ed-e765c73bbba7"
      },
      "outputs": [
        {
          "data": {
            "image/png": "[encoded data removed]",
            "text/plain": [
              "<Figure size 720x432 with 3 Axes>"
            ]
          },
          "metadata": {},
          "output_type": "display_data"
        }
      ],
      "source": [
        "%matplotlib inline\n",
        "import matplotlib.pyplot as plt, numpy as np\n",
        "\n",
        "fig, (ax0, ax1, ax2) = plt.subplots(1, 3, figsize=(10, 6))\n",
        "\n",
        "ax0.bar(np.arange(len(fnames)), ca_pipe0[1].model.to_dict()['Linear']['weights'])\n",
        "ax0.set_xticks(np.arange(len(fnames)))\n",
        "ax0.set_xticklabels(fnames, rotation=45, ha='right')\n",
        "ax0.set_title(\"Coordinate Ascent\\n Feature Weights\")\n",
        "ax0.set_yscale('log')\n",
        "\n",
        "ax1.bar(np.arange(len(fnames)), rf.feature_importances_)\n",
        "ax1.set_xticks(np.arange(len(fnames)))\n",
        "ax1.set_xticklabels(fnames, rotation=45, ha='right')\n",
        "ax1.set_title(\"Random Forests\\n Feature Importance\")\n",
        "\n",
        "ax2.bar(np.arange(len(fnames)), lmart_l.feature_importances_)\n",
        "ax2.set_xticks(np.arange(len(fnames)))\n",
        "ax2.set_xticklabels(fnames, rotation=45, ha='right')\n",
        "ax2.set_title(\"$\\lambda$MART\\n Feature Importance\")\n",
        "\n",
        "fig.show()"
      ]
    },
    {
      "cell_type": "code",
      "execution_count": null,
      "metadata": {
        "id": "WV4TPbyduVwP"
      },
      "outputs": [],
      "source": [
        "# knrm = onir_pt.reranker('knrm', 'wordvec_hash', text_field=[\"map_name\", \"title\", \"rating\", \"review_text_1\", \"review_text_2\", \"review_text_3\", \"review_text_4\", \"review_text_5\"])\n",
        "# pipeline_knrm = bm25 >> pt.text.get_text(index, [\"map_name\", \"title\", \"rating\", \"review_text_1\", \"review_text_2\", \"review_text_3\", \"review_text_4\", \"review_text_5\"]) >> knrm\n",
        "# pipeline_knrm.fit(\n",
        "#     train_topics,\n",
        "#     qrels,\n",
        "#     valid_topics,\n",
        "#     qrels)"
      ]
    },
    {
      "cell_type": "code",
      "execution_count": null,
      "metadata": {
        "id": "xJ-tU5QLENUZ"
      },
      "outputs": [],
      "source": [
        "\n",
        "# pt.Experiment(\n",
        "#     [br, bm25, pipeline_knrm],\n",
        "#     test_topics,\n",
        "#     qrels,\n",
        "#     names=['DPH', 'BM25', 'KNRM'],\n",
        "#     eval_metrics=[\"map\", \"ndcg\", 'ndcg_cut_100', 'mrt']\n",
        "# )"
      ]
    }
  ],
  "metadata": {
    "colab": {
      "name": "SI650 Project Evaluation.ipynb",
      "provenance": []
    },
    "kernelspec": {
      "display_name": "Python 3",
      "name": "python3"
    },
    "language_info": {
      "name": "python"
    }
  },
  "nbformat": 4,
  "nbformat_minor": 0
}